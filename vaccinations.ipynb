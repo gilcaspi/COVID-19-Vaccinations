{
 "cells": [
  {
   "cell_type": "markdown",
   "id": "looking-secondary",
   "metadata": {},
   "source": [
    "### Imports "
   ]
  },
  {
   "cell_type": "code",
   "execution_count": 1,
   "id": "committed-johnston",
   "metadata": {},
   "outputs": [],
   "source": [
    "import os\n",
    "\n",
    "import numpy as np\n",
    "import plotly.express as px\n",
    "from scipy.stats import pearsonr, spearmanr\n",
    "import seaborn as sns\n",
    "\n",
    "from data import PROJECT_ROOT_FOLDER, PROJECT_PROCESSED_DATA_FOLDER\n",
    "from data_processing.data_loaders.raw_data_loaders import DataLoaders\n",
    "from enums.EColor import EColor"
   ]
  },
  {
   "cell_type": "markdown",
   "id": "mighty-ecology",
   "metadata": {},
   "source": [
    "### Configurations"
   ]
  },
  {
   "cell_type": "code",
   "execution_count": 2,
   "id": "awful-terror",
   "metadata": {},
   "outputs": [],
   "source": [
    "full_graphs = False\n",
    "release = False\n",
    "x_log_scale = True\n",
    "cities_data_date = '2021-01-12'\n",
    "cases_signal = \"Active_cases\"  # {\"Active_cases\", \"Cumulative_verified_cases\"}\n",
    "size_key = \"population_60+\"\n",
    "x_data_date = \"12/1/21\"\n",
    "y_data_date = \"12/1/21\"\n",
    "x_key = \"{} per 10,000 people - {}\".format(cases_signal.replace('_', ' '), x_data_date)\n",
    "y_key = \"60+ Vaccination [%] - {}\".format(y_data_date)\n",
    "color_key = \"VNR\"\n",
    "color_scale = [EColor.GREEN,\n",
    "               EColor.ORANGE,\n",
    "               EColor.RED]"
   ]
  },
  {
   "cell_type": "markdown",
   "id": "round-short",
   "metadata": {},
   "source": [
    "### Raw data"
   ]
  },
  {
   "cell_type": "code",
   "execution_count": 3,
   "id": "hearing-preference",
   "metadata": {},
   "outputs": [],
   "source": [
    "# Cases data - x\n",
    "cities_df_raw = DataLoaders.get_cases_by_city()\n",
    "\n",
    "# Vaccination data - y\n",
    "vaccination_df_raw = DataLoaders.get_vaccinations_by_age_and_city()\n",
    "\n",
    "# Population data\n",
    "pop_df_raw = DataLoaders.get_population_age_groups_by_city()\n",
    "\n",
    "# Social-Economic Rank data\n",
    "rank_df_raw = DataLoaders.get_socioeconomic_rank_by_city()"
   ]
  },
  {
   "cell_type": "markdown",
   "id": "original-album",
   "metadata": {},
   "source": [
    "### Pre-Processing"
   ]
  },
  {
   "cell_type": "markdown",
   "id": "specific-entity",
   "metadata": {},
   "source": [
    "#### Vaccinations by age and city data pre-processing"
   ]
  },
  {
   "cell_type": "markdown",
   "id": "unique-atlanta",
   "metadata": {},
   "source": [
    "##### Raw Data"
   ]
  },
  {
   "cell_type": "code",
   "execution_count": 4,
   "id": "approved-honduras",
   "metadata": {},
   "outputs": [
    {
     "data": {
      "text/html": [
       "<div>\n",
       "<style scoped>\n",
       "    .dataframe tbody tr th:only-of-type {\n",
       "        vertical-align: middle;\n",
       "    }\n",
       "\n",
       "    .dataframe tbody tr th {\n",
       "        vertical-align: top;\n",
       "    }\n",
       "\n",
       "    .dataframe thead th {\n",
       "        text-align: right;\n",
       "    }\n",
       "</style>\n",
       "<table border=\"1\" class=\"dataframe\">\n",
       "  <thead>\n",
       "    <tr style=\"text-align: right;\">\n",
       "      <th></th>\n",
       "      <th>City_Name</th>\n",
       "      <th>16-19</th>\n",
       "      <th>20-29</th>\n",
       "      <th>30-39</th>\n",
       "      <th>40-49</th>\n",
       "      <th>50-59</th>\n",
       "      <th>60-69</th>\n",
       "      <th>70-79</th>\n",
       "      <th>80-89</th>\n",
       "      <th>90+</th>\n",
       "      <th>missing_data</th>\n",
       "    </tr>\n",
       "  </thead>\n",
       "  <tbody>\n",
       "    <tr>\n",
       "      <th>0</th>\n",
       "      <td>אבו ג'ווייעד (שבט)</td>\n",
       "      <td>NaN</td>\n",
       "      <td>&lt; 15</td>\n",
       "      <td>NaN</td>\n",
       "      <td>&lt; 15</td>\n",
       "      <td>&lt; 15</td>\n",
       "      <td>&lt; 15</td>\n",
       "      <td>&lt; 15</td>\n",
       "      <td>NaN</td>\n",
       "      <td>&lt; 15</td>\n",
       "      <td>NaN</td>\n",
       "    </tr>\n",
       "    <tr>\n",
       "      <th>1</th>\n",
       "      <td>אבו גוש</td>\n",
       "      <td>&lt; 15</td>\n",
       "      <td>93</td>\n",
       "      <td>144</td>\n",
       "      <td>146</td>\n",
       "      <td>186</td>\n",
       "      <td>236</td>\n",
       "      <td>89</td>\n",
       "      <td>24</td>\n",
       "      <td>&lt; 15</td>\n",
       "      <td>&lt; 15</td>\n",
       "    </tr>\n",
       "    <tr>\n",
       "      <th>2</th>\n",
       "      <td>אבו סנאן</td>\n",
       "      <td>&lt; 15</td>\n",
       "      <td>124</td>\n",
       "      <td>141</td>\n",
       "      <td>146</td>\n",
       "      <td>167</td>\n",
       "      <td>274</td>\n",
       "      <td>149</td>\n",
       "      <td>37</td>\n",
       "      <td>&lt; 15</td>\n",
       "      <td>NaN</td>\n",
       "    </tr>\n",
       "    <tr>\n",
       "      <th>3</th>\n",
       "      <td>אבו קורינאת (שבט)</td>\n",
       "      <td>NaN</td>\n",
       "      <td>NaN</td>\n",
       "      <td>&lt; 15</td>\n",
       "      <td>NaN</td>\n",
       "      <td>NaN</td>\n",
       "      <td>&lt; 15</td>\n",
       "      <td>&lt; 15</td>\n",
       "      <td>&lt; 15</td>\n",
       "      <td>NaN</td>\n",
       "      <td>NaN</td>\n",
       "    </tr>\n",
       "    <tr>\n",
       "      <th>4</th>\n",
       "      <td>אבו רובייעה (שבט)</td>\n",
       "      <td>NaN</td>\n",
       "      <td>&lt; 15</td>\n",
       "      <td>NaN</td>\n",
       "      <td>&lt; 15</td>\n",
       "      <td>&lt; 15</td>\n",
       "      <td>&lt; 15</td>\n",
       "      <td>NaN</td>\n",
       "      <td>NaN</td>\n",
       "      <td>NaN</td>\n",
       "      <td>NaN</td>\n",
       "    </tr>\n",
       "    <tr>\n",
       "      <th>...</th>\n",
       "      <td>...</td>\n",
       "      <td>...</td>\n",
       "      <td>...</td>\n",
       "      <td>...</td>\n",
       "      <td>...</td>\n",
       "      <td>...</td>\n",
       "      <td>...</td>\n",
       "      <td>...</td>\n",
       "      <td>...</td>\n",
       "      <td>...</td>\n",
       "      <td>...</td>\n",
       "    </tr>\n",
       "    <tr>\n",
       "      <th>274</th>\n",
       "      <td>תל אביב - יפו</td>\n",
       "      <td>304</td>\n",
       "      <td>3750</td>\n",
       "      <td>8608</td>\n",
       "      <td>10058</td>\n",
       "      <td>11861</td>\n",
       "      <td>21616</td>\n",
       "      <td>20534</td>\n",
       "      <td>10725</td>\n",
       "      <td>3660</td>\n",
       "      <td>31</td>\n",
       "    </tr>\n",
       "    <tr>\n",
       "      <th>275</th>\n",
       "      <td>תל מונד</td>\n",
       "      <td>27</td>\n",
       "      <td>184</td>\n",
       "      <td>146</td>\n",
       "      <td>387</td>\n",
       "      <td>708</td>\n",
       "      <td>692</td>\n",
       "      <td>390</td>\n",
       "      <td>170</td>\n",
       "      <td>70</td>\n",
       "      <td>&lt; 15</td>\n",
       "    </tr>\n",
       "    <tr>\n",
       "      <th>276</th>\n",
       "      <td>תל שבע</td>\n",
       "      <td>&lt; 15</td>\n",
       "      <td>38</td>\n",
       "      <td>67</td>\n",
       "      <td>65</td>\n",
       "      <td>81</td>\n",
       "      <td>93</td>\n",
       "      <td>42</td>\n",
       "      <td>&lt; 15</td>\n",
       "      <td>NaN</td>\n",
       "      <td>&lt; 15</td>\n",
       "    </tr>\n",
       "    <tr>\n",
       "      <th>277</th>\n",
       "      <td>תפרח</td>\n",
       "      <td>&lt; 15</td>\n",
       "      <td>&lt; 15</td>\n",
       "      <td>&lt; 15</td>\n",
       "      <td>&lt; 15</td>\n",
       "      <td>19</td>\n",
       "      <td>43</td>\n",
       "      <td>25</td>\n",
       "      <td>&lt; 15</td>\n",
       "      <td>&lt; 15</td>\n",
       "      <td>NaN</td>\n",
       "    </tr>\n",
       "    <tr>\n",
       "      <th>278</th>\n",
       "      <td>תקוע</td>\n",
       "      <td>&lt; 15</td>\n",
       "      <td>23</td>\n",
       "      <td>89</td>\n",
       "      <td>78</td>\n",
       "      <td>45</td>\n",
       "      <td>73</td>\n",
       "      <td>37</td>\n",
       "      <td>&lt; 15</td>\n",
       "      <td>&lt; 15</td>\n",
       "      <td>NaN</td>\n",
       "    </tr>\n",
       "  </tbody>\n",
       "</table>\n",
       "<p>279 rows × 11 columns</p>\n",
       "</div>"
      ],
      "text/plain": [
       "              City_Name 16-19 20-29 30-39  40-49  50-59  60-69  70-79  80-89  \\\n",
       "0    אבו ג'ווייעד (שבט)   NaN  < 15   NaN   < 15   < 15   < 15   < 15    NaN   \n",
       "1               אבו גוש  < 15    93   144    146    186    236     89     24   \n",
       "2              אבו סנאן  < 15   124   141    146    167    274    149     37   \n",
       "3     אבו קורינאת (שבט)   NaN   NaN  < 15    NaN    NaN   < 15   < 15   < 15   \n",
       "4     אבו רובייעה (שבט)   NaN  < 15   NaN   < 15   < 15   < 15    NaN    NaN   \n",
       "..                  ...   ...   ...   ...    ...    ...    ...    ...    ...   \n",
       "274       תל אביב - יפו   304  3750  8608  10058  11861  21616  20534  10725   \n",
       "275             תל מונד    27   184   146    387    708    692    390    170   \n",
       "276              תל שבע  < 15    38    67     65     81     93     42   < 15   \n",
       "277                תפרח  < 15  < 15  < 15   < 15     19     43     25   < 15   \n",
       "278                תקוע  < 15    23    89     78     45     73     37   < 15   \n",
       "\n",
       "      90+ missing_data  \n",
       "0    < 15          NaN  \n",
       "1    < 15         < 15  \n",
       "2    < 15          NaN  \n",
       "3     NaN          NaN  \n",
       "4     NaN          NaN  \n",
       "..    ...          ...  \n",
       "274  3660           31  \n",
       "275    70         < 15  \n",
       "276   NaN         < 15  \n",
       "277  < 15          NaN  \n",
       "278  < 15          NaN  \n",
       "\n",
       "[279 rows x 11 columns]"
      ]
     },
     "execution_count": 4,
     "metadata": {},
     "output_type": "execute_result"
    }
   ],
   "source": [
    "vaccination_df_raw"
   ]
  },
  {
   "cell_type": "code",
   "execution_count": 5,
   "id": "affiliated-beginning",
   "metadata": {},
   "outputs": [],
   "source": [
    "vaccination_df = vaccination_df_raw.copy()\n",
    "vaccination_df[\"drop_row\"] = False\n",
    "for index, row in vaccination_df.iterrows():\n",
    "    cnt = int(row[\"60-69\"] in ['< 15']) + \\\n",
    "          int(row[\"70-79\"] in ['< 15']) + \\\n",
    "          int(row[\"80-89\"] in ['< 15']) + \\\n",
    "          int(row[\"90+\"] in ['< 15'])\n",
    "    if cnt > 1:\n",
    "        vaccination_df.loc[index, \"drop_row\"] = True\n",
    "vaccination_df = vaccination_df[vaccination_df.drop_row == False]\n",
    "vaccination_df = vaccination_df.drop(\"drop_row\", 1)\n",
    "\n",
    "vaccination_df.replace('< 15', 1, inplace=True)\n",
    "vaccination_df.replace(np.nan, -100, inplace=True)\n",
    "vaccination_df.set_index('City_Name', inplace=True)\n",
    "vaccination_df = vaccination_df.astype('float').astype('int')\n",
    "vaccination_df.replace(-100, np.nan, inplace=True)\n",
    "vaccination_df.reset_index(inplace=True)"
   ]
  },
  {
   "cell_type": "code",
   "execution_count": 6,
   "id": "accomplished-actor",
   "metadata": {},
   "outputs": [],
   "source": [
    "# Calculating 60+ vaccinations\n",
    "vaccination_df[\"vaccination_60+\"] = vaccination_df[\"60-69\"].fillna(0) + \\\n",
    "                                    vaccination_df[\"70-79\"].fillna(0) + \\\n",
    "                                    vaccination_df[\"80-89\"].fillna(0) + \\\n",
    "                                    vaccination_df[\"90+\"].fillna(0)"
   ]
  },
  {
   "cell_type": "markdown",
   "id": "multiple-gender",
   "metadata": {},
   "source": [
    "##### Pre-processed data "
   ]
  },
  {
   "cell_type": "code",
   "execution_count": 7,
   "id": "wicked-sheep",
   "metadata": {},
   "outputs": [
    {
     "data": {
      "text/html": [
       "<div>\n",
       "<style scoped>\n",
       "    .dataframe tbody tr th:only-of-type {\n",
       "        vertical-align: middle;\n",
       "    }\n",
       "\n",
       "    .dataframe tbody tr th {\n",
       "        vertical-align: top;\n",
       "    }\n",
       "\n",
       "    .dataframe thead th {\n",
       "        text-align: right;\n",
       "    }\n",
       "</style>\n",
       "<table border=\"1\" class=\"dataframe\">\n",
       "  <thead>\n",
       "    <tr style=\"text-align: right;\">\n",
       "      <th></th>\n",
       "      <th>City_Name</th>\n",
       "      <th>16-19</th>\n",
       "      <th>20-29</th>\n",
       "      <th>30-39</th>\n",
       "      <th>40-49</th>\n",
       "      <th>50-59</th>\n",
       "      <th>60-69</th>\n",
       "      <th>70-79</th>\n",
       "      <th>80-89</th>\n",
       "      <th>90+</th>\n",
       "      <th>missing_data</th>\n",
       "      <th>vaccination_60+</th>\n",
       "    </tr>\n",
       "  </thead>\n",
       "  <tbody>\n",
       "    <tr>\n",
       "      <th>0</th>\n",
       "      <td>אבו גוש</td>\n",
       "      <td>1.0</td>\n",
       "      <td>93.0</td>\n",
       "      <td>144.0</td>\n",
       "      <td>146.0</td>\n",
       "      <td>186.0</td>\n",
       "      <td>236.0</td>\n",
       "      <td>89.0</td>\n",
       "      <td>24.0</td>\n",
       "      <td>1.0</td>\n",
       "      <td>1.0</td>\n",
       "      <td>350.0</td>\n",
       "    </tr>\n",
       "    <tr>\n",
       "      <th>1</th>\n",
       "      <td>אבו סנאן</td>\n",
       "      <td>1.0</td>\n",
       "      <td>124.0</td>\n",
       "      <td>141.0</td>\n",
       "      <td>146.0</td>\n",
       "      <td>167.0</td>\n",
       "      <td>274.0</td>\n",
       "      <td>149.0</td>\n",
       "      <td>37.0</td>\n",
       "      <td>1.0</td>\n",
       "      <td>NaN</td>\n",
       "      <td>461.0</td>\n",
       "    </tr>\n",
       "    <tr>\n",
       "      <th>2</th>\n",
       "      <td>אבו רובייעה (שבט)</td>\n",
       "      <td>NaN</td>\n",
       "      <td>1.0</td>\n",
       "      <td>NaN</td>\n",
       "      <td>1.0</td>\n",
       "      <td>1.0</td>\n",
       "      <td>1.0</td>\n",
       "      <td>NaN</td>\n",
       "      <td>NaN</td>\n",
       "      <td>NaN</td>\n",
       "      <td>NaN</td>\n",
       "      <td>1.0</td>\n",
       "    </tr>\n",
       "    <tr>\n",
       "      <th>3</th>\n",
       "      <td>אבו רוקייק (שבט)</td>\n",
       "      <td>1.0</td>\n",
       "      <td>1.0</td>\n",
       "      <td>1.0</td>\n",
       "      <td>1.0</td>\n",
       "      <td>1.0</td>\n",
       "      <td>1.0</td>\n",
       "      <td>NaN</td>\n",
       "      <td>NaN</td>\n",
       "      <td>NaN</td>\n",
       "      <td>NaN</td>\n",
       "      <td>1.0</td>\n",
       "    </tr>\n",
       "    <tr>\n",
       "      <th>4</th>\n",
       "      <td>אבו תלול</td>\n",
       "      <td>NaN</td>\n",
       "      <td>1.0</td>\n",
       "      <td>1.0</td>\n",
       "      <td>1.0</td>\n",
       "      <td>1.0</td>\n",
       "      <td>1.0</td>\n",
       "      <td>NaN</td>\n",
       "      <td>NaN</td>\n",
       "      <td>NaN</td>\n",
       "      <td>NaN</td>\n",
       "      <td>1.0</td>\n",
       "    </tr>\n",
       "    <tr>\n",
       "      <th>...</th>\n",
       "      <td>...</td>\n",
       "      <td>...</td>\n",
       "      <td>...</td>\n",
       "      <td>...</td>\n",
       "      <td>...</td>\n",
       "      <td>...</td>\n",
       "      <td>...</td>\n",
       "      <td>...</td>\n",
       "      <td>...</td>\n",
       "      <td>...</td>\n",
       "      <td>...</td>\n",
       "      <td>...</td>\n",
       "    </tr>\n",
       "    <tr>\n",
       "      <th>229</th>\n",
       "      <td>שפרעם</td>\n",
       "      <td>28.0</td>\n",
       "      <td>478.0</td>\n",
       "      <td>606.0</td>\n",
       "      <td>613.0</td>\n",
       "      <td>904.0</td>\n",
       "      <td>1114.0</td>\n",
       "      <td>608.0</td>\n",
       "      <td>247.0</td>\n",
       "      <td>34.0</td>\n",
       "      <td>1.0</td>\n",
       "      <td>2003.0</td>\n",
       "    </tr>\n",
       "    <tr>\n",
       "      <th>230</th>\n",
       "      <td>שתולים</td>\n",
       "      <td>1.0</td>\n",
       "      <td>24.0</td>\n",
       "      <td>19.0</td>\n",
       "      <td>50.0</td>\n",
       "      <td>106.0</td>\n",
       "      <td>123.0</td>\n",
       "      <td>39.0</td>\n",
       "      <td>17.0</td>\n",
       "      <td>1.0</td>\n",
       "      <td>1.0</td>\n",
       "      <td>180.0</td>\n",
       "    </tr>\n",
       "    <tr>\n",
       "      <th>231</th>\n",
       "      <td>תל אביב - יפו</td>\n",
       "      <td>304.0</td>\n",
       "      <td>3750.0</td>\n",
       "      <td>8608.0</td>\n",
       "      <td>10058.0</td>\n",
       "      <td>11861.0</td>\n",
       "      <td>21616.0</td>\n",
       "      <td>20534.0</td>\n",
       "      <td>10725.0</td>\n",
       "      <td>3660.0</td>\n",
       "      <td>31.0</td>\n",
       "      <td>56535.0</td>\n",
       "    </tr>\n",
       "    <tr>\n",
       "      <th>232</th>\n",
       "      <td>תל מונד</td>\n",
       "      <td>27.0</td>\n",
       "      <td>184.0</td>\n",
       "      <td>146.0</td>\n",
       "      <td>387.0</td>\n",
       "      <td>708.0</td>\n",
       "      <td>692.0</td>\n",
       "      <td>390.0</td>\n",
       "      <td>170.0</td>\n",
       "      <td>70.0</td>\n",
       "      <td>1.0</td>\n",
       "      <td>1322.0</td>\n",
       "    </tr>\n",
       "    <tr>\n",
       "      <th>233</th>\n",
       "      <td>תל שבע</td>\n",
       "      <td>1.0</td>\n",
       "      <td>38.0</td>\n",
       "      <td>67.0</td>\n",
       "      <td>65.0</td>\n",
       "      <td>81.0</td>\n",
       "      <td>93.0</td>\n",
       "      <td>42.0</td>\n",
       "      <td>1.0</td>\n",
       "      <td>NaN</td>\n",
       "      <td>1.0</td>\n",
       "      <td>136.0</td>\n",
       "    </tr>\n",
       "  </tbody>\n",
       "</table>\n",
       "<p>234 rows × 12 columns</p>\n",
       "</div>"
      ],
      "text/plain": [
       "             City_Name  16-19   20-29   30-39    40-49    50-59    60-69  \\\n",
       "0              אבו גוש    1.0    93.0   144.0    146.0    186.0    236.0   \n",
       "1             אבו סנאן    1.0   124.0   141.0    146.0    167.0    274.0   \n",
       "2    אבו רובייעה (שבט)    NaN     1.0     NaN      1.0      1.0      1.0   \n",
       "3     אבו רוקייק (שבט)    1.0     1.0     1.0      1.0      1.0      1.0   \n",
       "4             אבו תלול    NaN     1.0     1.0      1.0      1.0      1.0   \n",
       "..                 ...    ...     ...     ...      ...      ...      ...   \n",
       "229              שפרעם   28.0   478.0   606.0    613.0    904.0   1114.0   \n",
       "230             שתולים    1.0    24.0    19.0     50.0    106.0    123.0   \n",
       "231      תל אביב - יפו  304.0  3750.0  8608.0  10058.0  11861.0  21616.0   \n",
       "232            תל מונד   27.0   184.0   146.0    387.0    708.0    692.0   \n",
       "233             תל שבע    1.0    38.0    67.0     65.0     81.0     93.0   \n",
       "\n",
       "       70-79    80-89     90+  missing_data  vaccination_60+  \n",
       "0       89.0     24.0     1.0           1.0            350.0  \n",
       "1      149.0     37.0     1.0           NaN            461.0  \n",
       "2        NaN      NaN     NaN           NaN              1.0  \n",
       "3        NaN      NaN     NaN           NaN              1.0  \n",
       "4        NaN      NaN     NaN           NaN              1.0  \n",
       "..       ...      ...     ...           ...              ...  \n",
       "229    608.0    247.0    34.0           1.0           2003.0  \n",
       "230     39.0     17.0     1.0           1.0            180.0  \n",
       "231  20534.0  10725.0  3660.0          31.0          56535.0  \n",
       "232    390.0    170.0    70.0           1.0           1322.0  \n",
       "233     42.0      1.0     NaN           1.0            136.0  \n",
       "\n",
       "[234 rows x 12 columns]"
      ]
     },
     "execution_count": 7,
     "metadata": {},
     "output_type": "execute_result"
    }
   ],
   "source": [
    "vaccination_df"
   ]
  },
  {
   "cell_type": "code",
   "execution_count": 8,
   "id": "placed-titanium",
   "metadata": {},
   "outputs": [
    {
     "data": {
      "text/html": [
       "<div>\n",
       "<style scoped>\n",
       "    .dataframe tbody tr th:only-of-type {\n",
       "        vertical-align: middle;\n",
       "    }\n",
       "\n",
       "    .dataframe tbody tr th {\n",
       "        vertical-align: top;\n",
       "    }\n",
       "\n",
       "    .dataframe thead th {\n",
       "        text-align: right;\n",
       "    }\n",
       "</style>\n",
       "<table border=\"1\" class=\"dataframe\">\n",
       "  <thead>\n",
       "    <tr style=\"text-align: right;\">\n",
       "      <th></th>\n",
       "      <th>City_Name</th>\n",
       "      <th>vaccination_60+</th>\n",
       "    </tr>\n",
       "  </thead>\n",
       "  <tbody>\n",
       "    <tr>\n",
       "      <th>0</th>\n",
       "      <td>אבו גוש</td>\n",
       "      <td>350.0</td>\n",
       "    </tr>\n",
       "    <tr>\n",
       "      <th>1</th>\n",
       "      <td>אבו סנאן</td>\n",
       "      <td>461.0</td>\n",
       "    </tr>\n",
       "    <tr>\n",
       "      <th>2</th>\n",
       "      <td>אבו רובייעה (שבט)</td>\n",
       "      <td>1.0</td>\n",
       "    </tr>\n",
       "    <tr>\n",
       "      <th>3</th>\n",
       "      <td>אבו רוקייק (שבט)</td>\n",
       "      <td>1.0</td>\n",
       "    </tr>\n",
       "    <tr>\n",
       "      <th>4</th>\n",
       "      <td>אבו תלול</td>\n",
       "      <td>1.0</td>\n",
       "    </tr>\n",
       "    <tr>\n",
       "      <th>...</th>\n",
       "      <td>...</td>\n",
       "      <td>...</td>\n",
       "    </tr>\n",
       "    <tr>\n",
       "      <th>229</th>\n",
       "      <td>שפרעם</td>\n",
       "      <td>2003.0</td>\n",
       "    </tr>\n",
       "    <tr>\n",
       "      <th>230</th>\n",
       "      <td>שתולים</td>\n",
       "      <td>180.0</td>\n",
       "    </tr>\n",
       "    <tr>\n",
       "      <th>231</th>\n",
       "      <td>תל אביב - יפו</td>\n",
       "      <td>56535.0</td>\n",
       "    </tr>\n",
       "    <tr>\n",
       "      <th>232</th>\n",
       "      <td>תל מונד</td>\n",
       "      <td>1322.0</td>\n",
       "    </tr>\n",
       "    <tr>\n",
       "      <th>233</th>\n",
       "      <td>תל שבע</td>\n",
       "      <td>136.0</td>\n",
       "    </tr>\n",
       "  </tbody>\n",
       "</table>\n",
       "<p>234 rows × 2 columns</p>\n",
       "</div>"
      ],
      "text/plain": [
       "             City_Name  vaccination_60+\n",
       "0              אבו גוש            350.0\n",
       "1             אבו סנאן            461.0\n",
       "2    אבו רובייעה (שבט)              1.0\n",
       "3     אבו רוקייק (שבט)              1.0\n",
       "4             אבו תלול              1.0\n",
       "..                 ...              ...\n",
       "229              שפרעם           2003.0\n",
       "230             שתולים            180.0\n",
       "231      תל אביב - יפו          56535.0\n",
       "232            תל מונד           1322.0\n",
       "233             תל שבע            136.0\n",
       "\n",
       "[234 rows x 2 columns]"
      ]
     },
     "execution_count": 8,
     "metadata": {},
     "output_type": "execute_result"
    }
   ],
   "source": [
    "# Filtering relevant vaccination data\n",
    "vaccination_60_plus = vaccination_df[[\"City_Name\", \"vaccination_60+\"]]\n",
    "vaccination_60_plus = vaccination_60_plus.replace(np.nan, 0)\n",
    "vaccination_60_plus"
   ]
  },
  {
   "cell_type": "markdown",
   "id": "affected-syndicate",
   "metadata": {},
   "source": [
    "#### Socioeconomic rank data pre-processing"
   ]
  },
  {
   "cell_type": "markdown",
   "id": "protected-direction",
   "metadata": {},
   "source": [
    "##### Raw data"
   ]
  },
  {
   "cell_type": "code",
   "execution_count": 9,
   "id": "solar-balloon",
   "metadata": {},
   "outputs": [
    {
     "data": {
      "text/html": [
       "<div>\n",
       "<style scoped>\n",
       "    .dataframe tbody tr th:only-of-type {\n",
       "        vertical-align: middle;\n",
       "    }\n",
       "\n",
       "    .dataframe tbody tr th {\n",
       "        vertical-align: top;\n",
       "    }\n",
       "\n",
       "    .dataframe thead th {\n",
       "        text-align: right;\n",
       "    }\n",
       "</style>\n",
       "<table border=\"1\" class=\"dataframe\">\n",
       "  <thead>\n",
       "    <tr style=\"text-align: right;\">\n",
       "      <th></th>\n",
       "      <th>UID</th>\n",
       "      <th>name_h</th>\n",
       "      <th>name_e</th>\n",
       "      <th>Index</th>\n",
       "      <th>Rank</th>\n",
       "    </tr>\n",
       "  </thead>\n",
       "  <tbody>\n",
       "    <tr>\n",
       "      <th>0</th>\n",
       "      <td>NaN</td>\n",
       "      <td>נווה מדבר</td>\n",
       "      <td>NEVE MIDBAR</td>\n",
       "      <td>-2.815</td>\n",
       "      <td>1</td>\n",
       "    </tr>\n",
       "    <tr>\n",
       "      <th>1</th>\n",
       "      <td>1192.0</td>\n",
       "      <td>ערערה-בנגב</td>\n",
       "      <td>AR'ARA-BANEGEV</td>\n",
       "      <td>-2.535</td>\n",
       "      <td>2</td>\n",
       "    </tr>\n",
       "    <tr>\n",
       "      <th>2</th>\n",
       "      <td>1054.0</td>\n",
       "      <td>תל שבע</td>\n",
       "      <td>TEL SHEVA</td>\n",
       "      <td>-2.329</td>\n",
       "      <td>3</td>\n",
       "    </tr>\n",
       "    <tr>\n",
       "      <th>3</th>\n",
       "      <td>1059.0</td>\n",
       "      <td>כסיפה</td>\n",
       "      <td>KUSEIFE</td>\n",
       "      <td>-2.255</td>\n",
       "      <td>4</td>\n",
       "    </tr>\n",
       "    <tr>\n",
       "      <th>4</th>\n",
       "      <td>3797.0</td>\n",
       "      <td>מודיעין עילית</td>\n",
       "      <td>MODI'IN ILLIT</td>\n",
       "      <td>-2.234</td>\n",
       "      <td>5</td>\n",
       "    </tr>\n",
       "    <tr>\n",
       "      <th>...</th>\n",
       "      <td>...</td>\n",
       "      <td>...</td>\n",
       "      <td>...</td>\n",
       "      <td>...</td>\n",
       "      <td>...</td>\n",
       "    </tr>\n",
       "    <tr>\n",
       "      <th>250</th>\n",
       "      <td>1224.0</td>\n",
       "      <td>כוכב יאיר</td>\n",
       "      <td>KOKHAV YA'IR</td>\n",
       "      <td>1.809</td>\n",
       "      <td>251</td>\n",
       "    </tr>\n",
       "    <tr>\n",
       "      <th>251</th>\n",
       "      <td>666.0</td>\n",
       "      <td>עומר</td>\n",
       "      <td>OMER</td>\n",
       "      <td>1.900</td>\n",
       "      <td>252</td>\n",
       "    </tr>\n",
       "    <tr>\n",
       "      <th>252</th>\n",
       "      <td>1271.0</td>\n",
       "      <td>להבים</td>\n",
       "      <td>LEHAVIM</td>\n",
       "      <td>1.989</td>\n",
       "      <td>253</td>\n",
       "    </tr>\n",
       "    <tr>\n",
       "      <th>253</th>\n",
       "      <td>267.0</td>\n",
       "      <td>כפר שמריהו</td>\n",
       "      <td>KEFAR SHEMARYAHU</td>\n",
       "      <td>2.068</td>\n",
       "      <td>254</td>\n",
       "    </tr>\n",
       "    <tr>\n",
       "      <th>254</th>\n",
       "      <td>587.0</td>\n",
       "      <td>סביון</td>\n",
       "      <td>SAVYON</td>\n",
       "      <td>2.320</td>\n",
       "      <td>255</td>\n",
       "    </tr>\n",
       "  </tbody>\n",
       "</table>\n",
       "<p>255 rows × 5 columns</p>\n",
       "</div>"
      ],
      "text/plain": [
       "        UID         name_h            name_e  Index  Rank\n",
       "0       NaN      נווה מדבר       NEVE MIDBAR -2.815     1\n",
       "1    1192.0     ערערה-בנגב    AR'ARA-BANEGEV -2.535     2\n",
       "2    1054.0         תל שבע         TEL SHEVA -2.329     3\n",
       "3    1059.0          כסיפה           KUSEIFE -2.255     4\n",
       "4    3797.0  מודיעין עילית     MODI'IN ILLIT -2.234     5\n",
       "..      ...            ...               ...    ...   ...\n",
       "250  1224.0      כוכב יאיר      KOKHAV YA'IR  1.809   251\n",
       "251   666.0           עומר              OMER  1.900   252\n",
       "252  1271.0          להבים           LEHAVIM  1.989   253\n",
       "253   267.0     כפר שמריהו  KEFAR SHEMARYAHU  2.068   254\n",
       "254   587.0          סביון            SAVYON  2.320   255\n",
       "\n",
       "[255 rows x 5 columns]"
      ]
     },
     "execution_count": 9,
     "metadata": {},
     "output_type": "execute_result"
    }
   ],
   "source": [
    "rank_df_raw"
   ]
  },
  {
   "cell_type": "code",
   "execution_count": 27,
   "id": "stretch-integer",
   "metadata": {},
   "outputs": [],
   "source": [
    "rank_df = rank_df_raw.copy()\n",
    "rank_df = rank_df.dropna()\n",
    "rank_df['Rank'] = rank_df['Rank'].astype('float').astype('int')\n",
    "rank_df['UID'] = rank_df['UID'].astype('float').astype('int')"
   ]
  },
  {
   "cell_type": "markdown",
   "id": "alleged-milan",
   "metadata": {},
   "source": [
    "##### Pre-processed data"
   ]
  },
  {
   "cell_type": "code",
   "execution_count": 28,
   "id": "french-munich",
   "metadata": {},
   "outputs": [
    {
     "data": {
      "text/html": [
       "<div>\n",
       "<style scoped>\n",
       "    .dataframe tbody tr th:only-of-type {\n",
       "        vertical-align: middle;\n",
       "    }\n",
       "\n",
       "    .dataframe tbody tr th {\n",
       "        vertical-align: top;\n",
       "    }\n",
       "\n",
       "    .dataframe thead th {\n",
       "        text-align: right;\n",
       "    }\n",
       "</style>\n",
       "<table border=\"1\" class=\"dataframe\">\n",
       "  <thead>\n",
       "    <tr style=\"text-align: right;\">\n",
       "      <th></th>\n",
       "      <th>UID</th>\n",
       "      <th>name_h</th>\n",
       "      <th>name_e</th>\n",
       "      <th>Index</th>\n",
       "      <th>Rank</th>\n",
       "    </tr>\n",
       "  </thead>\n",
       "  <tbody>\n",
       "    <tr>\n",
       "      <th>1</th>\n",
       "      <td>1192</td>\n",
       "      <td>ערערה-בנגב</td>\n",
       "      <td>AR'ARA-BANEGEV</td>\n",
       "      <td>-2.535</td>\n",
       "      <td>2</td>\n",
       "    </tr>\n",
       "    <tr>\n",
       "      <th>2</th>\n",
       "      <td>1054</td>\n",
       "      <td>תל שבע</td>\n",
       "      <td>TEL SHEVA</td>\n",
       "      <td>-2.329</td>\n",
       "      <td>3</td>\n",
       "    </tr>\n",
       "    <tr>\n",
       "      <th>3</th>\n",
       "      <td>1059</td>\n",
       "      <td>כסיפה</td>\n",
       "      <td>KUSEIFE</td>\n",
       "      <td>-2.255</td>\n",
       "      <td>4</td>\n",
       "    </tr>\n",
       "    <tr>\n",
       "      <th>4</th>\n",
       "      <td>3797</td>\n",
       "      <td>מודיעין עילית</td>\n",
       "      <td>MODI'IN ILLIT</td>\n",
       "      <td>-2.234</td>\n",
       "      <td>5</td>\n",
       "    </tr>\n",
       "    <tr>\n",
       "      <th>5</th>\n",
       "      <td>1286</td>\n",
       "      <td>שגב-שלום</td>\n",
       "      <td>SEGEV-SHALOM</td>\n",
       "      <td>-2.215</td>\n",
       "      <td>6</td>\n",
       "    </tr>\n",
       "    <tr>\n",
       "      <th>...</th>\n",
       "      <td>...</td>\n",
       "      <td>...</td>\n",
       "      <td>...</td>\n",
       "      <td>...</td>\n",
       "      <td>...</td>\n",
       "    </tr>\n",
       "    <tr>\n",
       "      <th>250</th>\n",
       "      <td>1224</td>\n",
       "      <td>כוכב יאיר</td>\n",
       "      <td>KOKHAV YA'IR</td>\n",
       "      <td>1.809</td>\n",
       "      <td>251</td>\n",
       "    </tr>\n",
       "    <tr>\n",
       "      <th>251</th>\n",
       "      <td>666</td>\n",
       "      <td>עומר</td>\n",
       "      <td>OMER</td>\n",
       "      <td>1.900</td>\n",
       "      <td>252</td>\n",
       "    </tr>\n",
       "    <tr>\n",
       "      <th>252</th>\n",
       "      <td>1271</td>\n",
       "      <td>להבים</td>\n",
       "      <td>LEHAVIM</td>\n",
       "      <td>1.989</td>\n",
       "      <td>253</td>\n",
       "    </tr>\n",
       "    <tr>\n",
       "      <th>253</th>\n",
       "      <td>267</td>\n",
       "      <td>כפר שמריהו</td>\n",
       "      <td>KEFAR SHEMARYAHU</td>\n",
       "      <td>2.068</td>\n",
       "      <td>254</td>\n",
       "    </tr>\n",
       "    <tr>\n",
       "      <th>254</th>\n",
       "      <td>587</td>\n",
       "      <td>סביון</td>\n",
       "      <td>SAVYON</td>\n",
       "      <td>2.320</td>\n",
       "      <td>255</td>\n",
       "    </tr>\n",
       "  </tbody>\n",
       "</table>\n",
       "<p>201 rows × 5 columns</p>\n",
       "</div>"
      ],
      "text/plain": [
       "      UID         name_h            name_e  Index  Rank\n",
       "1    1192     ערערה-בנגב    AR'ARA-BANEGEV -2.535     2\n",
       "2    1054         תל שבע         TEL SHEVA -2.329     3\n",
       "3    1059          כסיפה           KUSEIFE -2.255     4\n",
       "4    3797  מודיעין עילית     MODI'IN ILLIT -2.234     5\n",
       "5    1286       שגב-שלום      SEGEV-SHALOM -2.215     6\n",
       "..    ...            ...               ...    ...   ...\n",
       "250  1224      כוכב יאיר      KOKHAV YA'IR  1.809   251\n",
       "251   666           עומר              OMER  1.900   252\n",
       "252  1271          להבים           LEHAVIM  1.989   253\n",
       "253   267     כפר שמריהו  KEFAR SHEMARYAHU  2.068   254\n",
       "254   587          סביון            SAVYON  2.320   255\n",
       "\n",
       "[201 rows x 5 columns]"
      ]
     },
     "execution_count": 28,
     "metadata": {},
     "output_type": "execute_result"
    }
   ],
   "source": [
    "rank_df"
   ]
  },
  {
   "cell_type": "markdown",
   "id": "desperate-calendar",
   "metadata": {},
   "source": [
    "#### Population by city and age group data pre-processing"
   ]
  },
  {
   "cell_type": "markdown",
   "id": "future-messenger",
   "metadata": {},
   "source": [
    "##### Raw data"
   ]
  },
  {
   "cell_type": "code",
   "execution_count": 29,
   "id": "dental-excitement",
   "metadata": {},
   "outputs": [
    {
     "data": {
      "text/html": [
       "<div>\n",
       "<style scoped>\n",
       "    .dataframe tbody tr th:only-of-type {\n",
       "        vertical-align: middle;\n",
       "    }\n",
       "\n",
       "    .dataframe tbody tr th {\n",
       "        vertical-align: top;\n",
       "    }\n",
       "\n",
       "    .dataframe thead th {\n",
       "        text-align: right;\n",
       "    }\n",
       "</style>\n",
       "<table border=\"1\" class=\"dataframe\">\n",
       "  <thead>\n",
       "    <tr style=\"text-align: right;\">\n",
       "      <th></th>\n",
       "      <th>UID</th>\n",
       "      <th>total_pop</th>\n",
       "      <th>pop_4-0</th>\n",
       "      <th>pop_9-5</th>\n",
       "      <th>pop_14-10</th>\n",
       "      <th>pop_19-15</th>\n",
       "      <th>pop_24-20</th>\n",
       "      <th>pop_29-25</th>\n",
       "      <th>pop_34-30</th>\n",
       "      <th>pop_39-35</th>\n",
       "      <th>pop_44-40</th>\n",
       "      <th>pop_49-45</th>\n",
       "      <th>pop_54-50</th>\n",
       "      <th>pop_59-55</th>\n",
       "      <th>pop_64-60</th>\n",
       "      <th>pop_69-65</th>\n",
       "      <th>pop_74-70</th>\n",
       "      <th>pop_79-75</th>\n",
       "      <th>pop_84-80</th>\n",
       "      <th>pop_+85</th>\n",
       "    </tr>\n",
       "  </thead>\n",
       "  <tbody>\n",
       "    <tr>\n",
       "      <th>0</th>\n",
       "      <td>3000</td>\n",
       "      <td>936425</td>\n",
       "      <td>116731</td>\n",
       "      <td>103618</td>\n",
       "      <td>93117</td>\n",
       "      <td>88676</td>\n",
       "      <td>82568</td>\n",
       "      <td>71915</td>\n",
       "      <td>59361</td>\n",
       "      <td>51784</td>\n",
       "      <td>44726</td>\n",
       "      <td>39906</td>\n",
       "      <td>34786</td>\n",
       "      <td>32747</td>\n",
       "      <td>29911</td>\n",
       "      <td>26812</td>\n",
       "      <td>22330</td>\n",
       "      <td>13874</td>\n",
       "      <td>11594</td>\n",
       "      <td>11970</td>\n",
       "    </tr>\n",
       "    <tr>\n",
       "      <th>1</th>\n",
       "      <td>70</td>\n",
       "      <td>225939</td>\n",
       "      <td>21352</td>\n",
       "      <td>20376</td>\n",
       "      <td>18129</td>\n",
       "      <td>16962</td>\n",
       "      <td>16176</td>\n",
       "      <td>13641</td>\n",
       "      <td>13095</td>\n",
       "      <td>12832</td>\n",
       "      <td>13050</td>\n",
       "      <td>12929</td>\n",
       "      <td>11603</td>\n",
       "      <td>11402</td>\n",
       "      <td>10884</td>\n",
       "      <td>10092</td>\n",
       "      <td>9131</td>\n",
       "      <td>5309</td>\n",
       "      <td>5199</td>\n",
       "      <td>3776</td>\n",
       "    </tr>\n",
       "    <tr>\n",
       "      <th>2</th>\n",
       "      <td>9000</td>\n",
       "      <td>209687</td>\n",
       "      <td>17990</td>\n",
       "      <td>16209</td>\n",
       "      <td>14202</td>\n",
       "      <td>13136</td>\n",
       "      <td>14913</td>\n",
       "      <td>15069</td>\n",
       "      <td>15024</td>\n",
       "      <td>13587</td>\n",
       "      <td>11897</td>\n",
       "      <td>11273</td>\n",
       "      <td>10642</td>\n",
       "      <td>11247</td>\n",
       "      <td>11625</td>\n",
       "      <td>10706</td>\n",
       "      <td>8507</td>\n",
       "      <td>4784</td>\n",
       "      <td>4914</td>\n",
       "      <td>3960</td>\n",
       "    </tr>\n",
       "    <tr>\n",
       "      <th>3</th>\n",
       "      <td>6100</td>\n",
       "      <td>204639</td>\n",
       "      <td>34701</td>\n",
       "      <td>28025</td>\n",
       "      <td>22306</td>\n",
       "      <td>21449</td>\n",
       "      <td>17450</td>\n",
       "      <td>15001</td>\n",
       "      <td>12924</td>\n",
       "      <td>10609</td>\n",
       "      <td>7302</td>\n",
       "      <td>6161</td>\n",
       "      <td>5201</td>\n",
       "      <td>4803</td>\n",
       "      <td>4808</td>\n",
       "      <td>4714</td>\n",
       "      <td>3820</td>\n",
       "      <td>1897</td>\n",
       "      <td>1598</td>\n",
       "      <td>1874</td>\n",
       "    </tr>\n",
       "    <tr>\n",
       "      <th>4</th>\n",
       "      <td>4000</td>\n",
       "      <td>285316</td>\n",
       "      <td>20466</td>\n",
       "      <td>19564</td>\n",
       "      <td>17167</td>\n",
       "      <td>15925</td>\n",
       "      <td>18577</td>\n",
       "      <td>19073</td>\n",
       "      <td>19524</td>\n",
       "      <td>18166</td>\n",
       "      <td>17158</td>\n",
       "      <td>16410</td>\n",
       "      <td>14746</td>\n",
       "      <td>14607</td>\n",
       "      <td>15379</td>\n",
       "      <td>16224</td>\n",
       "      <td>15825</td>\n",
       "      <td>8613</td>\n",
       "      <td>8769</td>\n",
       "      <td>9123</td>\n",
       "    </tr>\n",
       "    <tr>\n",
       "      <th>...</th>\n",
       "      <td>...</td>\n",
       "      <td>...</td>\n",
       "      <td>...</td>\n",
       "      <td>...</td>\n",
       "      <td>...</td>\n",
       "      <td>...</td>\n",
       "      <td>...</td>\n",
       "      <td>...</td>\n",
       "      <td>...</td>\n",
       "      <td>...</td>\n",
       "      <td>...</td>\n",
       "      <td>...</td>\n",
       "      <td>...</td>\n",
       "      <td>...</td>\n",
       "      <td>...</td>\n",
       "      <td>...</td>\n",
       "      <td>...</td>\n",
       "      <td>...</td>\n",
       "      <td>...</td>\n",
       "      <td>...</td>\n",
       "    </tr>\n",
       "    <tr>\n",
       "      <th>1213</th>\n",
       "      <td>1334</td>\n",
       "      <td>393</td>\n",
       "      <td>49</td>\n",
       "      <td>42</td>\n",
       "      <td>22</td>\n",
       "      <td>42</td>\n",
       "      <td>37</td>\n",
       "      <td>49</td>\n",
       "      <td>35</td>\n",
       "      <td>24</td>\n",
       "      <td>18</td>\n",
       "      <td>16</td>\n",
       "      <td>23</td>\n",
       "      <td>12</td>\n",
       "      <td>14</td>\n",
       "      <td>6</td>\n",
       "      <td>..</td>\n",
       "      <td>5</td>\n",
       "      <td>0</td>\n",
       "      <td>0</td>\n",
       "    </tr>\n",
       "    <tr>\n",
       "      <th>1214</th>\n",
       "      <td>990</td>\n",
       "      <td>643</td>\n",
       "      <td>71</td>\n",
       "      <td>69</td>\n",
       "      <td>84</td>\n",
       "      <td>81</td>\n",
       "      <td>69</td>\n",
       "      <td>54</td>\n",
       "      <td>31</td>\n",
       "      <td>33</td>\n",
       "      <td>38</td>\n",
       "      <td>30</td>\n",
       "      <td>29</td>\n",
       "      <td>23</td>\n",
       "      <td>14</td>\n",
       "      <td>9</td>\n",
       "      <td>5</td>\n",
       "      <td>4</td>\n",
       "      <td>0</td>\n",
       "      <td>0</td>\n",
       "    </tr>\n",
       "    <tr>\n",
       "      <th>1215</th>\n",
       "      <td>539</td>\n",
       "      <td>1212</td>\n",
       "      <td>140</td>\n",
       "      <td>132</td>\n",
       "      <td>114</td>\n",
       "      <td>161</td>\n",
       "      <td>141</td>\n",
       "      <td>115</td>\n",
       "      <td>85</td>\n",
       "      <td>65</td>\n",
       "      <td>68</td>\n",
       "      <td>48</td>\n",
       "      <td>50</td>\n",
       "      <td>40</td>\n",
       "      <td>21</td>\n",
       "      <td>18</td>\n",
       "      <td>5</td>\n",
       "      <td>5</td>\n",
       "      <td>..</td>\n",
       "      <td>..</td>\n",
       "    </tr>\n",
       "    <tr>\n",
       "      <th>1216</th>\n",
       "      <td>540</td>\n",
       "      <td>1195</td>\n",
       "      <td>103</td>\n",
       "      <td>105</td>\n",
       "      <td>80</td>\n",
       "      <td>86</td>\n",
       "      <td>92</td>\n",
       "      <td>109</td>\n",
       "      <td>75</td>\n",
       "      <td>88</td>\n",
       "      <td>86</td>\n",
       "      <td>74</td>\n",
       "      <td>56</td>\n",
       "      <td>70</td>\n",
       "      <td>58</td>\n",
       "      <td>38</td>\n",
       "      <td>35</td>\n",
       "      <td>22</td>\n",
       "      <td>12</td>\n",
       "      <td>8</td>\n",
       "    </tr>\n",
       "    <tr>\n",
       "      <th>1217</th>\n",
       "      <td>1346</td>\n",
       "      <td>1139</td>\n",
       "      <td>167</td>\n",
       "      <td>158</td>\n",
       "      <td>161</td>\n",
       "      <td>124</td>\n",
       "      <td>132</td>\n",
       "      <td>80</td>\n",
       "      <td>67</td>\n",
       "      <td>67</td>\n",
       "      <td>59</td>\n",
       "      <td>41</td>\n",
       "      <td>21</td>\n",
       "      <td>15</td>\n",
       "      <td>14</td>\n",
       "      <td>13</td>\n",
       "      <td>9</td>\n",
       "      <td>7</td>\n",
       "      <td>..</td>\n",
       "      <td>..</td>\n",
       "    </tr>\n",
       "  </tbody>\n",
       "</table>\n",
       "<p>1218 rows × 20 columns</p>\n",
       "</div>"
      ],
      "text/plain": [
       "       UID  total_pop pop_4-0 pop_9-5 pop_14-10 pop_19-15 pop_24-20 pop_29-25  \\\n",
       "0     3000     936425  116731  103618     93117     88676     82568     71915   \n",
       "1       70     225939   21352   20376     18129     16962     16176     13641   \n",
       "2     9000     209687   17990   16209     14202     13136     14913     15069   \n",
       "3     6100     204639   34701   28025     22306     21449     17450     15001   \n",
       "4     4000     285316   20466   19564     17167     15925     18577     19073   \n",
       "...    ...        ...     ...     ...       ...       ...       ...       ...   \n",
       "1213  1334        393      49      42        22        42        37        49   \n",
       "1214   990        643      71      69        84        81        69        54   \n",
       "1215   539       1212     140     132       114       161       141       115   \n",
       "1216   540       1195     103     105        80        86        92       109   \n",
       "1217  1346       1139     167     158       161       124       132        80   \n",
       "\n",
       "     pop_34-30 pop_39-35 pop_44-40 pop_49-45 pop_54-50 pop_59-55 pop_64-60  \\\n",
       "0        59361     51784     44726     39906     34786     32747     29911   \n",
       "1        13095     12832     13050     12929     11603     11402     10884   \n",
       "2        15024     13587     11897     11273     10642     11247     11625   \n",
       "3        12924     10609      7302      6161      5201      4803      4808   \n",
       "4        19524     18166     17158     16410     14746     14607     15379   \n",
       "...        ...       ...       ...       ...       ...       ...       ...   \n",
       "1213        35        24        18        16        23        12        14   \n",
       "1214        31        33        38        30        29        23        14   \n",
       "1215        85        65        68        48        50        40        21   \n",
       "1216        75        88        86        74        56        70        58   \n",
       "1217        67        67        59        41        21        15        14   \n",
       "\n",
       "     pop_69-65 pop_74-70 pop_79-75 pop_84-80 pop_+85  \n",
       "0        26812     22330     13874     11594   11970  \n",
       "1        10092      9131      5309      5199    3776  \n",
       "2        10706      8507      4784      4914    3960  \n",
       "3         4714      3820      1897      1598    1874  \n",
       "4        16224     15825      8613      8769    9123  \n",
       "...        ...       ...       ...       ...     ...  \n",
       "1213         6        ..         5         0       0  \n",
       "1214         9         5         4         0       0  \n",
       "1215        18         5         5        ..      ..  \n",
       "1216        38        35        22        12       8  \n",
       "1217        13         9         7        ..      ..  \n",
       "\n",
       "[1218 rows x 20 columns]"
      ]
     },
     "execution_count": 29,
     "metadata": {},
     "output_type": "execute_result"
    }
   ],
   "source": [
    "pop_df_raw"
   ]
  },
  {
   "cell_type": "code",
   "execution_count": 30,
   "id": "dental-turkey",
   "metadata": {},
   "outputs": [],
   "source": [
    "# pre-processing population data\n",
    "pop_df = pop_df_raw.copy()\n",
    "pop_df.replace('..', -100, inplace=True)\n",
    "pop_df = pop_df.astype('float').astype('int')\n",
    "pop_df.replace(-100, 0, inplace=True)\n",
    "\n",
    "# Calculating 60+ population\n",
    "pop_df[\"population_60+\"] = pop_df[\"pop_64-60\"] + \\\n",
    "                           pop_df[\"pop_69-65\"] + \\\n",
    "                           pop_df[\"pop_74-70\"] + \\\n",
    "                           pop_df[\"pop_79-75\"] + \\\n",
    "                           pop_df[\"pop_84-80\"] + \\\n",
    "                           pop_df[\"pop_+85\"]"
   ]
  },
  {
   "cell_type": "markdown",
   "id": "united-grain",
   "metadata": {},
   "source": [
    "##### Pre-processed data"
   ]
  },
  {
   "cell_type": "code",
   "execution_count": 31,
   "id": "demonstrated-participation",
   "metadata": {},
   "outputs": [
    {
     "data": {
      "text/html": [
       "<div>\n",
       "<style scoped>\n",
       "    .dataframe tbody tr th:only-of-type {\n",
       "        vertical-align: middle;\n",
       "    }\n",
       "\n",
       "    .dataframe tbody tr th {\n",
       "        vertical-align: top;\n",
       "    }\n",
       "\n",
       "    .dataframe thead th {\n",
       "        text-align: right;\n",
       "    }\n",
       "</style>\n",
       "<table border=\"1\" class=\"dataframe\">\n",
       "  <thead>\n",
       "    <tr style=\"text-align: right;\">\n",
       "      <th></th>\n",
       "      <th>UID</th>\n",
       "      <th>total_pop</th>\n",
       "      <th>pop_4-0</th>\n",
       "      <th>pop_9-5</th>\n",
       "      <th>pop_14-10</th>\n",
       "      <th>pop_19-15</th>\n",
       "      <th>pop_24-20</th>\n",
       "      <th>pop_29-25</th>\n",
       "      <th>pop_34-30</th>\n",
       "      <th>pop_39-35</th>\n",
       "      <th>...</th>\n",
       "      <th>pop_49-45</th>\n",
       "      <th>pop_54-50</th>\n",
       "      <th>pop_59-55</th>\n",
       "      <th>pop_64-60</th>\n",
       "      <th>pop_69-65</th>\n",
       "      <th>pop_74-70</th>\n",
       "      <th>pop_79-75</th>\n",
       "      <th>pop_84-80</th>\n",
       "      <th>pop_+85</th>\n",
       "      <th>population_60+</th>\n",
       "    </tr>\n",
       "  </thead>\n",
       "  <tbody>\n",
       "    <tr>\n",
       "      <th>0</th>\n",
       "      <td>3000</td>\n",
       "      <td>936425</td>\n",
       "      <td>116731</td>\n",
       "      <td>103618</td>\n",
       "      <td>93117</td>\n",
       "      <td>88676</td>\n",
       "      <td>82568</td>\n",
       "      <td>71915</td>\n",
       "      <td>59361</td>\n",
       "      <td>51784</td>\n",
       "      <td>...</td>\n",
       "      <td>39906</td>\n",
       "      <td>34786</td>\n",
       "      <td>32747</td>\n",
       "      <td>29911</td>\n",
       "      <td>26812</td>\n",
       "      <td>22330</td>\n",
       "      <td>13874</td>\n",
       "      <td>11594</td>\n",
       "      <td>11970</td>\n",
       "      <td>116491</td>\n",
       "    </tr>\n",
       "    <tr>\n",
       "      <th>1</th>\n",
       "      <td>70</td>\n",
       "      <td>225939</td>\n",
       "      <td>21352</td>\n",
       "      <td>20376</td>\n",
       "      <td>18129</td>\n",
       "      <td>16962</td>\n",
       "      <td>16176</td>\n",
       "      <td>13641</td>\n",
       "      <td>13095</td>\n",
       "      <td>12832</td>\n",
       "      <td>...</td>\n",
       "      <td>12929</td>\n",
       "      <td>11603</td>\n",
       "      <td>11402</td>\n",
       "      <td>10884</td>\n",
       "      <td>10092</td>\n",
       "      <td>9131</td>\n",
       "      <td>5309</td>\n",
       "      <td>5199</td>\n",
       "      <td>3776</td>\n",
       "      <td>44391</td>\n",
       "    </tr>\n",
       "    <tr>\n",
       "      <th>2</th>\n",
       "      <td>9000</td>\n",
       "      <td>209687</td>\n",
       "      <td>17990</td>\n",
       "      <td>16209</td>\n",
       "      <td>14202</td>\n",
       "      <td>13136</td>\n",
       "      <td>14913</td>\n",
       "      <td>15069</td>\n",
       "      <td>15024</td>\n",
       "      <td>13587</td>\n",
       "      <td>...</td>\n",
       "      <td>11273</td>\n",
       "      <td>10642</td>\n",
       "      <td>11247</td>\n",
       "      <td>11625</td>\n",
       "      <td>10706</td>\n",
       "      <td>8507</td>\n",
       "      <td>4784</td>\n",
       "      <td>4914</td>\n",
       "      <td>3960</td>\n",
       "      <td>44496</td>\n",
       "    </tr>\n",
       "    <tr>\n",
       "      <th>3</th>\n",
       "      <td>6100</td>\n",
       "      <td>204639</td>\n",
       "      <td>34701</td>\n",
       "      <td>28025</td>\n",
       "      <td>22306</td>\n",
       "      <td>21449</td>\n",
       "      <td>17450</td>\n",
       "      <td>15001</td>\n",
       "      <td>12924</td>\n",
       "      <td>10609</td>\n",
       "      <td>...</td>\n",
       "      <td>6161</td>\n",
       "      <td>5201</td>\n",
       "      <td>4803</td>\n",
       "      <td>4808</td>\n",
       "      <td>4714</td>\n",
       "      <td>3820</td>\n",
       "      <td>1897</td>\n",
       "      <td>1598</td>\n",
       "      <td>1874</td>\n",
       "      <td>18711</td>\n",
       "    </tr>\n",
       "    <tr>\n",
       "      <th>4</th>\n",
       "      <td>4000</td>\n",
       "      <td>285316</td>\n",
       "      <td>20466</td>\n",
       "      <td>19564</td>\n",
       "      <td>17167</td>\n",
       "      <td>15925</td>\n",
       "      <td>18577</td>\n",
       "      <td>19073</td>\n",
       "      <td>19524</td>\n",
       "      <td>18166</td>\n",
       "      <td>...</td>\n",
       "      <td>16410</td>\n",
       "      <td>14746</td>\n",
       "      <td>14607</td>\n",
       "      <td>15379</td>\n",
       "      <td>16224</td>\n",
       "      <td>15825</td>\n",
       "      <td>8613</td>\n",
       "      <td>8769</td>\n",
       "      <td>9123</td>\n",
       "      <td>73933</td>\n",
       "    </tr>\n",
       "    <tr>\n",
       "      <th>...</th>\n",
       "      <td>...</td>\n",
       "      <td>...</td>\n",
       "      <td>...</td>\n",
       "      <td>...</td>\n",
       "      <td>...</td>\n",
       "      <td>...</td>\n",
       "      <td>...</td>\n",
       "      <td>...</td>\n",
       "      <td>...</td>\n",
       "      <td>...</td>\n",
       "      <td>...</td>\n",
       "      <td>...</td>\n",
       "      <td>...</td>\n",
       "      <td>...</td>\n",
       "      <td>...</td>\n",
       "      <td>...</td>\n",
       "      <td>...</td>\n",
       "      <td>...</td>\n",
       "      <td>...</td>\n",
       "      <td>...</td>\n",
       "      <td>...</td>\n",
       "    </tr>\n",
       "    <tr>\n",
       "      <th>1213</th>\n",
       "      <td>1334</td>\n",
       "      <td>393</td>\n",
       "      <td>49</td>\n",
       "      <td>42</td>\n",
       "      <td>22</td>\n",
       "      <td>42</td>\n",
       "      <td>37</td>\n",
       "      <td>49</td>\n",
       "      <td>35</td>\n",
       "      <td>24</td>\n",
       "      <td>...</td>\n",
       "      <td>16</td>\n",
       "      <td>23</td>\n",
       "      <td>12</td>\n",
       "      <td>14</td>\n",
       "      <td>6</td>\n",
       "      <td>0</td>\n",
       "      <td>5</td>\n",
       "      <td>0</td>\n",
       "      <td>0</td>\n",
       "      <td>25</td>\n",
       "    </tr>\n",
       "    <tr>\n",
       "      <th>1214</th>\n",
       "      <td>990</td>\n",
       "      <td>643</td>\n",
       "      <td>71</td>\n",
       "      <td>69</td>\n",
       "      <td>84</td>\n",
       "      <td>81</td>\n",
       "      <td>69</td>\n",
       "      <td>54</td>\n",
       "      <td>31</td>\n",
       "      <td>33</td>\n",
       "      <td>...</td>\n",
       "      <td>30</td>\n",
       "      <td>29</td>\n",
       "      <td>23</td>\n",
       "      <td>14</td>\n",
       "      <td>9</td>\n",
       "      <td>5</td>\n",
       "      <td>4</td>\n",
       "      <td>0</td>\n",
       "      <td>0</td>\n",
       "      <td>32</td>\n",
       "    </tr>\n",
       "    <tr>\n",
       "      <th>1215</th>\n",
       "      <td>539</td>\n",
       "      <td>1212</td>\n",
       "      <td>140</td>\n",
       "      <td>132</td>\n",
       "      <td>114</td>\n",
       "      <td>161</td>\n",
       "      <td>141</td>\n",
       "      <td>115</td>\n",
       "      <td>85</td>\n",
       "      <td>65</td>\n",
       "      <td>...</td>\n",
       "      <td>48</td>\n",
       "      <td>50</td>\n",
       "      <td>40</td>\n",
       "      <td>21</td>\n",
       "      <td>18</td>\n",
       "      <td>5</td>\n",
       "      <td>5</td>\n",
       "      <td>0</td>\n",
       "      <td>0</td>\n",
       "      <td>49</td>\n",
       "    </tr>\n",
       "    <tr>\n",
       "      <th>1216</th>\n",
       "      <td>540</td>\n",
       "      <td>1195</td>\n",
       "      <td>103</td>\n",
       "      <td>105</td>\n",
       "      <td>80</td>\n",
       "      <td>86</td>\n",
       "      <td>92</td>\n",
       "      <td>109</td>\n",
       "      <td>75</td>\n",
       "      <td>88</td>\n",
       "      <td>...</td>\n",
       "      <td>74</td>\n",
       "      <td>56</td>\n",
       "      <td>70</td>\n",
       "      <td>58</td>\n",
       "      <td>38</td>\n",
       "      <td>35</td>\n",
       "      <td>22</td>\n",
       "      <td>12</td>\n",
       "      <td>8</td>\n",
       "      <td>173</td>\n",
       "    </tr>\n",
       "    <tr>\n",
       "      <th>1217</th>\n",
       "      <td>1346</td>\n",
       "      <td>1139</td>\n",
       "      <td>167</td>\n",
       "      <td>158</td>\n",
       "      <td>161</td>\n",
       "      <td>124</td>\n",
       "      <td>132</td>\n",
       "      <td>80</td>\n",
       "      <td>67</td>\n",
       "      <td>67</td>\n",
       "      <td>...</td>\n",
       "      <td>41</td>\n",
       "      <td>21</td>\n",
       "      <td>15</td>\n",
       "      <td>14</td>\n",
       "      <td>13</td>\n",
       "      <td>9</td>\n",
       "      <td>7</td>\n",
       "      <td>0</td>\n",
       "      <td>0</td>\n",
       "      <td>43</td>\n",
       "    </tr>\n",
       "  </tbody>\n",
       "</table>\n",
       "<p>1218 rows × 21 columns</p>\n",
       "</div>"
      ],
      "text/plain": [
       "       UID  total_pop  pop_4-0  pop_9-5  pop_14-10  pop_19-15  pop_24-20  \\\n",
       "0     3000     936425   116731   103618      93117      88676      82568   \n",
       "1       70     225939    21352    20376      18129      16962      16176   \n",
       "2     9000     209687    17990    16209      14202      13136      14913   \n",
       "3     6100     204639    34701    28025      22306      21449      17450   \n",
       "4     4000     285316    20466    19564      17167      15925      18577   \n",
       "...    ...        ...      ...      ...        ...        ...        ...   \n",
       "1213  1334        393       49       42         22         42         37   \n",
       "1214   990        643       71       69         84         81         69   \n",
       "1215   539       1212      140      132        114        161        141   \n",
       "1216   540       1195      103      105         80         86         92   \n",
       "1217  1346       1139      167      158        161        124        132   \n",
       "\n",
       "      pop_29-25  pop_34-30  pop_39-35  ...  pop_49-45  pop_54-50  pop_59-55  \\\n",
       "0         71915      59361      51784  ...      39906      34786      32747   \n",
       "1         13641      13095      12832  ...      12929      11603      11402   \n",
       "2         15069      15024      13587  ...      11273      10642      11247   \n",
       "3         15001      12924      10609  ...       6161       5201       4803   \n",
       "4         19073      19524      18166  ...      16410      14746      14607   \n",
       "...         ...        ...        ...  ...        ...        ...        ...   \n",
       "1213         49         35         24  ...         16         23         12   \n",
       "1214         54         31         33  ...         30         29         23   \n",
       "1215        115         85         65  ...         48         50         40   \n",
       "1216        109         75         88  ...         74         56         70   \n",
       "1217         80         67         67  ...         41         21         15   \n",
       "\n",
       "      pop_64-60  pop_69-65  pop_74-70  pop_79-75  pop_84-80  pop_+85  \\\n",
       "0         29911      26812      22330      13874      11594    11970   \n",
       "1         10884      10092       9131       5309       5199     3776   \n",
       "2         11625      10706       8507       4784       4914     3960   \n",
       "3          4808       4714       3820       1897       1598     1874   \n",
       "4         15379      16224      15825       8613       8769     9123   \n",
       "...         ...        ...        ...        ...        ...      ...   \n",
       "1213         14          6          0          5          0        0   \n",
       "1214         14          9          5          4          0        0   \n",
       "1215         21         18          5          5          0        0   \n",
       "1216         58         38         35         22         12        8   \n",
       "1217         14         13          9          7          0        0   \n",
       "\n",
       "      population_60+  \n",
       "0             116491  \n",
       "1              44391  \n",
       "2              44496  \n",
       "3              18711  \n",
       "4              73933  \n",
       "...              ...  \n",
       "1213              25  \n",
       "1214              32  \n",
       "1215              49  \n",
       "1216             173  \n",
       "1217              43  \n",
       "\n",
       "[1218 rows x 21 columns]"
      ]
     },
     "execution_count": 31,
     "metadata": {},
     "output_type": "execute_result"
    }
   ],
   "source": [
    "pop_df"
   ]
  },
  {
   "cell_type": "code",
   "execution_count": 32,
   "id": "logical-electron",
   "metadata": {},
   "outputs": [
    {
     "data": {
      "text/html": [
       "<div>\n",
       "<style scoped>\n",
       "    .dataframe tbody tr th:only-of-type {\n",
       "        vertical-align: middle;\n",
       "    }\n",
       "\n",
       "    .dataframe tbody tr th {\n",
       "        vertical-align: top;\n",
       "    }\n",
       "\n",
       "    .dataframe thead th {\n",
       "        text-align: right;\n",
       "    }\n",
       "</style>\n",
       "<table border=\"1\" class=\"dataframe\">\n",
       "  <thead>\n",
       "    <tr style=\"text-align: right;\">\n",
       "      <th></th>\n",
       "      <th>UID</th>\n",
       "      <th>population_60+</th>\n",
       "      <th>total_pop</th>\n",
       "    </tr>\n",
       "  </thead>\n",
       "  <tbody>\n",
       "    <tr>\n",
       "      <th>0</th>\n",
       "      <td>3000</td>\n",
       "      <td>116491</td>\n",
       "      <td>936425</td>\n",
       "    </tr>\n",
       "    <tr>\n",
       "      <th>1</th>\n",
       "      <td>70</td>\n",
       "      <td>44391</td>\n",
       "      <td>225939</td>\n",
       "    </tr>\n",
       "    <tr>\n",
       "      <th>2</th>\n",
       "      <td>9000</td>\n",
       "      <td>44496</td>\n",
       "      <td>209687</td>\n",
       "    </tr>\n",
       "    <tr>\n",
       "      <th>3</th>\n",
       "      <td>6100</td>\n",
       "      <td>18711</td>\n",
       "      <td>204639</td>\n",
       "    </tr>\n",
       "    <tr>\n",
       "      <th>4</th>\n",
       "      <td>4000</td>\n",
       "      <td>73933</td>\n",
       "      <td>285316</td>\n",
       "    </tr>\n",
       "    <tr>\n",
       "      <th>...</th>\n",
       "      <td>...</td>\n",
       "      <td>...</td>\n",
       "      <td>...</td>\n",
       "    </tr>\n",
       "    <tr>\n",
       "      <th>1213</th>\n",
       "      <td>1334</td>\n",
       "      <td>25</td>\n",
       "      <td>393</td>\n",
       "    </tr>\n",
       "    <tr>\n",
       "      <th>1214</th>\n",
       "      <td>990</td>\n",
       "      <td>32</td>\n",
       "      <td>643</td>\n",
       "    </tr>\n",
       "    <tr>\n",
       "      <th>1215</th>\n",
       "      <td>539</td>\n",
       "      <td>49</td>\n",
       "      <td>1212</td>\n",
       "    </tr>\n",
       "    <tr>\n",
       "      <th>1216</th>\n",
       "      <td>540</td>\n",
       "      <td>173</td>\n",
       "      <td>1195</td>\n",
       "    </tr>\n",
       "    <tr>\n",
       "      <th>1217</th>\n",
       "      <td>1346</td>\n",
       "      <td>43</td>\n",
       "      <td>1139</td>\n",
       "    </tr>\n",
       "  </tbody>\n",
       "</table>\n",
       "<p>1218 rows × 3 columns</p>\n",
       "</div>"
      ],
      "text/plain": [
       "       UID  population_60+  total_pop\n",
       "0     3000          116491     936425\n",
       "1       70           44391     225939\n",
       "2     9000           44496     209687\n",
       "3     6100           18711     204639\n",
       "4     4000           73933     285316\n",
       "...    ...             ...        ...\n",
       "1213  1334              25        393\n",
       "1214   990              32        643\n",
       "1215   539              49       1212\n",
       "1216   540             173       1195\n",
       "1217  1346              43       1139\n",
       "\n",
       "[1218 rows x 3 columns]"
      ]
     },
     "execution_count": 32,
     "metadata": {},
     "output_type": "execute_result"
    }
   ],
   "source": [
    "# Filtering relevant population data\n",
    "pop_df = pop_df[[\"UID\", \"population_60+\", \"total_pop\"]]\n",
    "pop_df"
   ]
  },
  {
   "cell_type": "markdown",
   "id": "indoor-peter",
   "metadata": {},
   "source": [
    "#### COVID-19 active cases by city data pre-processing"
   ]
  },
  {
   "cell_type": "markdown",
   "id": "monthly-envelope",
   "metadata": {},
   "source": [
    "##### Raw data"
   ]
  },
  {
   "cell_type": "code",
   "execution_count": 33,
   "id": "complex-pursuit",
   "metadata": {},
   "outputs": [
    {
     "data": {
      "text/html": [
       "<div>\n",
       "<style scoped>\n",
       "    .dataframe tbody tr th:only-of-type {\n",
       "        vertical-align: middle;\n",
       "    }\n",
       "\n",
       "    .dataframe tbody tr th {\n",
       "        vertical-align: top;\n",
       "    }\n",
       "\n",
       "    .dataframe thead th {\n",
       "        text-align: right;\n",
       "    }\n",
       "</style>\n",
       "<table border=\"1\" class=\"dataframe\">\n",
       "  <thead>\n",
       "    <tr style=\"text-align: right;\">\n",
       "      <th></th>\n",
       "      <th>City_Name</th>\n",
       "      <th>City_Code</th>\n",
       "      <th>Date</th>\n",
       "      <th>Cumulative_verified_cases</th>\n",
       "      <th>Cumulated_recovered</th>\n",
       "      <th>Cumulated_deaths</th>\n",
       "      <th>Cumulated_number_of_tests</th>\n",
       "      <th>Cumulated_number_of_diagnostic_tests</th>\n",
       "      <th>Cumulated_vaccinated</th>\n",
       "    </tr>\n",
       "  </thead>\n",
       "  <tbody>\n",
       "    <tr>\n",
       "      <th>0</th>\n",
       "      <td>אבו ג'ווייעד (שבט)</td>\n",
       "      <td>967</td>\n",
       "      <td>2020-03-11</td>\n",
       "      <td>0</td>\n",
       "      <td>0</td>\n",
       "      <td>0</td>\n",
       "      <td>0</td>\n",
       "      <td>0</td>\n",
       "      <td>0</td>\n",
       "    </tr>\n",
       "    <tr>\n",
       "      <th>1</th>\n",
       "      <td>אבו ג'ווייעד (שבט)</td>\n",
       "      <td>967</td>\n",
       "      <td>2020-03-12</td>\n",
       "      <td>0</td>\n",
       "      <td>0</td>\n",
       "      <td>0</td>\n",
       "      <td>0</td>\n",
       "      <td>0</td>\n",
       "      <td>0</td>\n",
       "    </tr>\n",
       "    <tr>\n",
       "      <th>2</th>\n",
       "      <td>אבו ג'ווייעד (שבט)</td>\n",
       "      <td>967</td>\n",
       "      <td>2020-03-13</td>\n",
       "      <td>0</td>\n",
       "      <td>0</td>\n",
       "      <td>0</td>\n",
       "      <td>0</td>\n",
       "      <td>0</td>\n",
       "      <td>0</td>\n",
       "    </tr>\n",
       "    <tr>\n",
       "      <th>3</th>\n",
       "      <td>אבו ג'ווייעד (שבט)</td>\n",
       "      <td>967</td>\n",
       "      <td>2020-03-14</td>\n",
       "      <td>0</td>\n",
       "      <td>0</td>\n",
       "      <td>0</td>\n",
       "      <td>0</td>\n",
       "      <td>0</td>\n",
       "      <td>0</td>\n",
       "    </tr>\n",
       "    <tr>\n",
       "      <th>4</th>\n",
       "      <td>אבו ג'ווייעד (שבט)</td>\n",
       "      <td>967</td>\n",
       "      <td>2020-03-15</td>\n",
       "      <td>0</td>\n",
       "      <td>0</td>\n",
       "      <td>0</td>\n",
       "      <td>0</td>\n",
       "      <td>0</td>\n",
       "      <td>0</td>\n",
       "    </tr>\n",
       "    <tr>\n",
       "      <th>...</th>\n",
       "      <td>...</td>\n",
       "      <td>...</td>\n",
       "      <td>...</td>\n",
       "      <td>...</td>\n",
       "      <td>...</td>\n",
       "      <td>...</td>\n",
       "      <td>...</td>\n",
       "      <td>...</td>\n",
       "      <td>...</td>\n",
       "    </tr>\n",
       "    <tr>\n",
       "      <th>85927</th>\n",
       "      <td>תקוע</td>\n",
       "      <td>3563</td>\n",
       "      <td>2021-01-08</td>\n",
       "      <td>108</td>\n",
       "      <td>79</td>\n",
       "      <td>0</td>\n",
       "      <td>4595</td>\n",
       "      <td>4545</td>\n",
       "      <td>333</td>\n",
       "    </tr>\n",
       "    <tr>\n",
       "      <th>85928</th>\n",
       "      <td>תקוע</td>\n",
       "      <td>3563</td>\n",
       "      <td>2021-01-09</td>\n",
       "      <td>109</td>\n",
       "      <td>81</td>\n",
       "      <td>0</td>\n",
       "      <td>4620</td>\n",
       "      <td>4570</td>\n",
       "      <td>333</td>\n",
       "    </tr>\n",
       "    <tr>\n",
       "      <th>85929</th>\n",
       "      <td>תקוע</td>\n",
       "      <td>3563</td>\n",
       "      <td>2021-01-10</td>\n",
       "      <td>113</td>\n",
       "      <td>85</td>\n",
       "      <td>0</td>\n",
       "      <td>4687</td>\n",
       "      <td>4637</td>\n",
       "      <td>345</td>\n",
       "    </tr>\n",
       "    <tr>\n",
       "      <th>85930</th>\n",
       "      <td>תקוע</td>\n",
       "      <td>3563</td>\n",
       "      <td>2021-01-11</td>\n",
       "      <td>115</td>\n",
       "      <td>87</td>\n",
       "      <td>0</td>\n",
       "      <td>4804</td>\n",
       "      <td>4753</td>\n",
       "      <td>359</td>\n",
       "    </tr>\n",
       "    <tr>\n",
       "      <th>85931</th>\n",
       "      <td>תקוע</td>\n",
       "      <td>3563</td>\n",
       "      <td>2021-01-12</td>\n",
       "      <td>117</td>\n",
       "      <td>89</td>\n",
       "      <td>0</td>\n",
       "      <td>4871</td>\n",
       "      <td>4820</td>\n",
       "      <td>367</td>\n",
       "    </tr>\n",
       "  </tbody>\n",
       "</table>\n",
       "<p>85932 rows × 9 columns</p>\n",
       "</div>"
      ],
      "text/plain": [
       "                City_Name  City_Code        Date Cumulative_verified_cases  \\\n",
       "0      אבו ג'ווייעד (שבט)        967  2020-03-11                         0   \n",
       "1      אבו ג'ווייעד (שבט)        967  2020-03-12                         0   \n",
       "2      אבו ג'ווייעד (שבט)        967  2020-03-13                         0   \n",
       "3      אבו ג'ווייעד (שבט)        967  2020-03-14                         0   \n",
       "4      אבו ג'ווייעד (שבט)        967  2020-03-15                         0   \n",
       "...                   ...        ...         ...                       ...   \n",
       "85927                תקוע       3563  2021-01-08                       108   \n",
       "85928                תקוע       3563  2021-01-09                       109   \n",
       "85929                תקוע       3563  2021-01-10                       113   \n",
       "85930                תקוע       3563  2021-01-11                       115   \n",
       "85931                תקוע       3563  2021-01-12                       117   \n",
       "\n",
       "      Cumulated_recovered Cumulated_deaths Cumulated_number_of_tests  \\\n",
       "0                       0                0                         0   \n",
       "1                       0                0                         0   \n",
       "2                       0                0                         0   \n",
       "3                       0                0                         0   \n",
       "4                       0                0                         0   \n",
       "...                   ...              ...                       ...   \n",
       "85927                  79                0                      4595   \n",
       "85928                  81                0                      4620   \n",
       "85929                  85                0                      4687   \n",
       "85930                  87                0                      4804   \n",
       "85931                  89                0                      4871   \n",
       "\n",
       "      Cumulated_number_of_diagnostic_tests Cumulated_vaccinated  \n",
       "0                                        0                    0  \n",
       "1                                        0                    0  \n",
       "2                                        0                    0  \n",
       "3                                        0                    0  \n",
       "4                                        0                    0  \n",
       "...                                    ...                  ...  \n",
       "85927                                 4545                  333  \n",
       "85928                                 4570                  333  \n",
       "85929                                 4637                  345  \n",
       "85930                                 4753                  359  \n",
       "85931                                 4820                  367  \n",
       "\n",
       "[85932 rows x 9 columns]"
      ]
     },
     "execution_count": 33,
     "metadata": {},
     "output_type": "execute_result"
    }
   ],
   "source": [
    "cities_df_raw"
   ]
  },
  {
   "cell_type": "code",
   "execution_count": 34,
   "id": "acoustic-messaging",
   "metadata": {},
   "outputs": [
    {
     "data": {
      "text/html": [
       "<div>\n",
       "<style scoped>\n",
       "    .dataframe tbody tr th:only-of-type {\n",
       "        vertical-align: middle;\n",
       "    }\n",
       "\n",
       "    .dataframe tbody tr th {\n",
       "        vertical-align: top;\n",
       "    }\n",
       "\n",
       "    .dataframe thead th {\n",
       "        text-align: right;\n",
       "    }\n",
       "</style>\n",
       "<table border=\"1\" class=\"dataframe\">\n",
       "  <thead>\n",
       "    <tr style=\"text-align: right;\">\n",
       "      <th></th>\n",
       "      <th>City_Name</th>\n",
       "      <th>City_Code</th>\n",
       "      <th>Date</th>\n",
       "      <th>Cumulative_verified_cases</th>\n",
       "      <th>Cumulated_recovered</th>\n",
       "      <th>Cumulated_deaths</th>\n",
       "      <th>Cumulated_number_of_tests</th>\n",
       "      <th>Cumulated_number_of_diagnostic_tests</th>\n",
       "      <th>Cumulated_vaccinated</th>\n",
       "    </tr>\n",
       "  </thead>\n",
       "  <tbody>\n",
       "    <tr>\n",
       "      <th>307</th>\n",
       "      <td>אבו ג'ווייעד (שבט)</td>\n",
       "      <td>967</td>\n",
       "      <td>2021-01-12</td>\n",
       "      <td>&lt;15</td>\n",
       "      <td>&lt;15</td>\n",
       "      <td>0</td>\n",
       "      <td>647</td>\n",
       "      <td>645</td>\n",
       "      <td>17</td>\n",
       "    </tr>\n",
       "    <tr>\n",
       "      <th>615</th>\n",
       "      <td>אבו גוש</td>\n",
       "      <td>472</td>\n",
       "      <td>2021-01-12</td>\n",
       "      <td>631</td>\n",
       "      <td>478</td>\n",
       "      <td>&lt;15</td>\n",
       "      <td>10056</td>\n",
       "      <td>9719</td>\n",
       "      <td>957</td>\n",
       "    </tr>\n",
       "    <tr>\n",
       "      <th>923</th>\n",
       "      <td>אבו סנאן</td>\n",
       "      <td>473</td>\n",
       "      <td>2021-01-12</td>\n",
       "      <td>864</td>\n",
       "      <td>747</td>\n",
       "      <td>&lt;15</td>\n",
       "      <td>12506</td>\n",
       "      <td>11818</td>\n",
       "      <td>1065</td>\n",
       "    </tr>\n",
       "    <tr>\n",
       "      <th>1231</th>\n",
       "      <td>אבו קורינאת (שבט)</td>\n",
       "      <td>968</td>\n",
       "      <td>2021-01-12</td>\n",
       "      <td>&lt;15</td>\n",
       "      <td>&lt;15</td>\n",
       "      <td>0</td>\n",
       "      <td>667</td>\n",
       "      <td>667</td>\n",
       "      <td>&lt;15</td>\n",
       "    </tr>\n",
       "    <tr>\n",
       "      <th>1539</th>\n",
       "      <td>אבו רובייעה (שבט)</td>\n",
       "      <td>966</td>\n",
       "      <td>2021-01-12</td>\n",
       "      <td>&lt;15</td>\n",
       "      <td>&lt;15</td>\n",
       "      <td>0</td>\n",
       "      <td>936</td>\n",
       "      <td>928</td>\n",
       "      <td>&lt;15</td>\n",
       "    </tr>\n",
       "    <tr>\n",
       "      <th>...</th>\n",
       "      <td>...</td>\n",
       "      <td>...</td>\n",
       "      <td>...</td>\n",
       "      <td>...</td>\n",
       "      <td>...</td>\n",
       "      <td>...</td>\n",
       "      <td>...</td>\n",
       "      <td>...</td>\n",
       "      <td>...</td>\n",
       "    </tr>\n",
       "    <tr>\n",
       "      <th>84699</th>\n",
       "      <td>תל אביב - יפו</td>\n",
       "      <td>5000</td>\n",
       "      <td>2021-01-12</td>\n",
       "      <td>15942</td>\n",
       "      <td>13587</td>\n",
       "      <td>202</td>\n",
       "      <td>481191</td>\n",
       "      <td>464651</td>\n",
       "      <td>93499</td>\n",
       "    </tr>\n",
       "    <tr>\n",
       "      <th>85007</th>\n",
       "      <td>תל מונד</td>\n",
       "      <td>154</td>\n",
       "      <td>2021-01-12</td>\n",
       "      <td>317</td>\n",
       "      <td>280</td>\n",
       "      <td>&lt;15</td>\n",
       "      <td>13165</td>\n",
       "      <td>12960</td>\n",
       "      <td>2848</td>\n",
       "    </tr>\n",
       "    <tr>\n",
       "      <th>85315</th>\n",
       "      <td>תל שבע</td>\n",
       "      <td>1054</td>\n",
       "      <td>2021-01-12</td>\n",
       "      <td>243</td>\n",
       "      <td>218</td>\n",
       "      <td>&lt;15</td>\n",
       "      <td>6555</td>\n",
       "      <td>6388</td>\n",
       "      <td>427</td>\n",
       "    </tr>\n",
       "    <tr>\n",
       "      <th>85623</th>\n",
       "      <td>תפרח</td>\n",
       "      <td>709</td>\n",
       "      <td>2021-01-12</td>\n",
       "      <td>418</td>\n",
       "      <td>358</td>\n",
       "      <td>&lt;15</td>\n",
       "      <td>2866</td>\n",
       "      <td>2721</td>\n",
       "      <td>128</td>\n",
       "    </tr>\n",
       "    <tr>\n",
       "      <th>85931</th>\n",
       "      <td>תקוע</td>\n",
       "      <td>3563</td>\n",
       "      <td>2021-01-12</td>\n",
       "      <td>117</td>\n",
       "      <td>89</td>\n",
       "      <td>0</td>\n",
       "      <td>4871</td>\n",
       "      <td>4820</td>\n",
       "      <td>367</td>\n",
       "    </tr>\n",
       "  </tbody>\n",
       "</table>\n",
       "<p>279 rows × 9 columns</p>\n",
       "</div>"
      ],
      "text/plain": [
       "                City_Name  City_Code        Date Cumulative_verified_cases  \\\n",
       "307    אבו ג'ווייעד (שבט)        967  2021-01-12                       <15   \n",
       "615               אבו גוש        472  2021-01-12                       631   \n",
       "923              אבו סנאן        473  2021-01-12                       864   \n",
       "1231    אבו קורינאת (שבט)        968  2021-01-12                       <15   \n",
       "1539    אבו רובייעה (שבט)        966  2021-01-12                       <15   \n",
       "...                   ...        ...         ...                       ...   \n",
       "84699       תל אביב - יפו       5000  2021-01-12                     15942   \n",
       "85007             תל מונד        154  2021-01-12                       317   \n",
       "85315              תל שבע       1054  2021-01-12                       243   \n",
       "85623                תפרח        709  2021-01-12                       418   \n",
       "85931                תקוע       3563  2021-01-12                       117   \n",
       "\n",
       "      Cumulated_recovered Cumulated_deaths Cumulated_number_of_tests  \\\n",
       "307                   <15                0                       647   \n",
       "615                   478              <15                     10056   \n",
       "923                   747              <15                     12506   \n",
       "1231                  <15                0                       667   \n",
       "1539                  <15                0                       936   \n",
       "...                   ...              ...                       ...   \n",
       "84699               13587              202                    481191   \n",
       "85007                 280              <15                     13165   \n",
       "85315                 218              <15                      6555   \n",
       "85623                 358              <15                      2866   \n",
       "85931                  89                0                      4871   \n",
       "\n",
       "      Cumulated_number_of_diagnostic_tests Cumulated_vaccinated  \n",
       "307                                    645                   17  \n",
       "615                                   9719                  957  \n",
       "923                                  11818                 1065  \n",
       "1231                                   667                  <15  \n",
       "1539                                   928                  <15  \n",
       "...                                    ...                  ...  \n",
       "84699                               464651                93499  \n",
       "85007                                12960                 2848  \n",
       "85315                                 6388                  427  \n",
       "85623                                 2721                  128  \n",
       "85931                                 4820                  367  \n",
       "\n",
       "[279 rows x 9 columns]"
      ]
     },
     "execution_count": 34,
     "metadata": {},
     "output_type": "execute_result"
    }
   ],
   "source": [
    "cities_df = cities_df_raw.copy()\n",
    "cities_df_at_date = cities_df[cities_df['Date'] == cities_data_date].copy()\n",
    "cities_df_at_date"
   ]
  },
  {
   "cell_type": "code",
   "execution_count": 35,
   "id": "stopped-shift",
   "metadata": {},
   "outputs": [],
   "source": [
    "# Pre-processing relevant cities data\n",
    "columns_to_int = ['Cumulative_verified_cases',\n",
    "                  'Cumulated_recovered', \n",
    "                  'Cumulated_deaths', \n",
    "                  'Cumulated_vaccinated']\n",
    "\n",
    "columns_to_impute = columns_to_int\n",
    "\n",
    "for col in columns_to_impute: \n",
    "    cities_df_at_date[col] = cities_df_at_date[col].replace('<15', 1)\n",
    "    \n",
    "for col in columns_to_int: \n",
    "    cities_df_at_date[col] =  cities_df_at_date[col].astype('float').astype('int')\n",
    "\n",
    "# Calculating active cases\n",
    "cities_df_at_date['Active_cases'] = cities_df_at_date['Cumulative_verified_cases'] - \\\n",
    "                                    cities_df_at_date['Cumulated_recovered'] - \\\n",
    "                                    cities_df_at_date['Cumulated_deaths']\n",
    "\n",
    "# Fixing active cases mistakes\n",
    "cities_df_at_date.loc[cities_df_at_date['Active_cases'] < 0, 'Active_cases'] = 0"
   ]
  },
  {
   "cell_type": "markdown",
   "id": "recorded-processor",
   "metadata": {},
   "source": [
    "##### Pre-processed data"
   ]
  },
  {
   "cell_type": "code",
   "execution_count": 36,
   "id": "clean-three",
   "metadata": {},
   "outputs": [
    {
     "data": {
      "text/html": [
       "<div>\n",
       "<style scoped>\n",
       "    .dataframe tbody tr th:only-of-type {\n",
       "        vertical-align: middle;\n",
       "    }\n",
       "\n",
       "    .dataframe tbody tr th {\n",
       "        vertical-align: top;\n",
       "    }\n",
       "\n",
       "    .dataframe thead th {\n",
       "        text-align: right;\n",
       "    }\n",
       "</style>\n",
       "<table border=\"1\" class=\"dataframe\">\n",
       "  <thead>\n",
       "    <tr style=\"text-align: right;\">\n",
       "      <th></th>\n",
       "      <th>City_Name</th>\n",
       "      <th>City_Code</th>\n",
       "      <th>Date</th>\n",
       "      <th>Cumulative_verified_cases</th>\n",
       "      <th>Cumulated_recovered</th>\n",
       "      <th>Cumulated_deaths</th>\n",
       "      <th>Cumulated_number_of_tests</th>\n",
       "      <th>Cumulated_number_of_diagnostic_tests</th>\n",
       "      <th>Cumulated_vaccinated</th>\n",
       "      <th>Active_cases</th>\n",
       "    </tr>\n",
       "  </thead>\n",
       "  <tbody>\n",
       "    <tr>\n",
       "      <th>307</th>\n",
       "      <td>אבו ג'ווייעד (שבט)</td>\n",
       "      <td>967</td>\n",
       "      <td>2021-01-12</td>\n",
       "      <td>1</td>\n",
       "      <td>1</td>\n",
       "      <td>0</td>\n",
       "      <td>647</td>\n",
       "      <td>645</td>\n",
       "      <td>17</td>\n",
       "      <td>0</td>\n",
       "    </tr>\n",
       "    <tr>\n",
       "      <th>615</th>\n",
       "      <td>אבו גוש</td>\n",
       "      <td>472</td>\n",
       "      <td>2021-01-12</td>\n",
       "      <td>631</td>\n",
       "      <td>478</td>\n",
       "      <td>1</td>\n",
       "      <td>10056</td>\n",
       "      <td>9719</td>\n",
       "      <td>957</td>\n",
       "      <td>152</td>\n",
       "    </tr>\n",
       "    <tr>\n",
       "      <th>923</th>\n",
       "      <td>אבו סנאן</td>\n",
       "      <td>473</td>\n",
       "      <td>2021-01-12</td>\n",
       "      <td>864</td>\n",
       "      <td>747</td>\n",
       "      <td>1</td>\n",
       "      <td>12506</td>\n",
       "      <td>11818</td>\n",
       "      <td>1065</td>\n",
       "      <td>116</td>\n",
       "    </tr>\n",
       "    <tr>\n",
       "      <th>1231</th>\n",
       "      <td>אבו קורינאת (שבט)</td>\n",
       "      <td>968</td>\n",
       "      <td>2021-01-12</td>\n",
       "      <td>1</td>\n",
       "      <td>1</td>\n",
       "      <td>0</td>\n",
       "      <td>667</td>\n",
       "      <td>667</td>\n",
       "      <td>1</td>\n",
       "      <td>0</td>\n",
       "    </tr>\n",
       "    <tr>\n",
       "      <th>1539</th>\n",
       "      <td>אבו רובייעה (שבט)</td>\n",
       "      <td>966</td>\n",
       "      <td>2021-01-12</td>\n",
       "      <td>1</td>\n",
       "      <td>1</td>\n",
       "      <td>0</td>\n",
       "      <td>936</td>\n",
       "      <td>928</td>\n",
       "      <td>1</td>\n",
       "      <td>0</td>\n",
       "    </tr>\n",
       "    <tr>\n",
       "      <th>...</th>\n",
       "      <td>...</td>\n",
       "      <td>...</td>\n",
       "      <td>...</td>\n",
       "      <td>...</td>\n",
       "      <td>...</td>\n",
       "      <td>...</td>\n",
       "      <td>...</td>\n",
       "      <td>...</td>\n",
       "      <td>...</td>\n",
       "      <td>...</td>\n",
       "    </tr>\n",
       "    <tr>\n",
       "      <th>84699</th>\n",
       "      <td>תל אביב - יפו</td>\n",
       "      <td>5000</td>\n",
       "      <td>2021-01-12</td>\n",
       "      <td>15942</td>\n",
       "      <td>13587</td>\n",
       "      <td>202</td>\n",
       "      <td>481191</td>\n",
       "      <td>464651</td>\n",
       "      <td>93499</td>\n",
       "      <td>2153</td>\n",
       "    </tr>\n",
       "    <tr>\n",
       "      <th>85007</th>\n",
       "      <td>תל מונד</td>\n",
       "      <td>154</td>\n",
       "      <td>2021-01-12</td>\n",
       "      <td>317</td>\n",
       "      <td>280</td>\n",
       "      <td>1</td>\n",
       "      <td>13165</td>\n",
       "      <td>12960</td>\n",
       "      <td>2848</td>\n",
       "      <td>36</td>\n",
       "    </tr>\n",
       "    <tr>\n",
       "      <th>85315</th>\n",
       "      <td>תל שבע</td>\n",
       "      <td>1054</td>\n",
       "      <td>2021-01-12</td>\n",
       "      <td>243</td>\n",
       "      <td>218</td>\n",
       "      <td>1</td>\n",
       "      <td>6555</td>\n",
       "      <td>6388</td>\n",
       "      <td>427</td>\n",
       "      <td>24</td>\n",
       "    </tr>\n",
       "    <tr>\n",
       "      <th>85623</th>\n",
       "      <td>תפרח</td>\n",
       "      <td>709</td>\n",
       "      <td>2021-01-12</td>\n",
       "      <td>418</td>\n",
       "      <td>358</td>\n",
       "      <td>1</td>\n",
       "      <td>2866</td>\n",
       "      <td>2721</td>\n",
       "      <td>128</td>\n",
       "      <td>59</td>\n",
       "    </tr>\n",
       "    <tr>\n",
       "      <th>85931</th>\n",
       "      <td>תקוע</td>\n",
       "      <td>3563</td>\n",
       "      <td>2021-01-12</td>\n",
       "      <td>117</td>\n",
       "      <td>89</td>\n",
       "      <td>0</td>\n",
       "      <td>4871</td>\n",
       "      <td>4820</td>\n",
       "      <td>367</td>\n",
       "      <td>28</td>\n",
       "    </tr>\n",
       "  </tbody>\n",
       "</table>\n",
       "<p>279 rows × 10 columns</p>\n",
       "</div>"
      ],
      "text/plain": [
       "                City_Name  City_Code        Date  Cumulative_verified_cases  \\\n",
       "307    אבו ג'ווייעד (שבט)        967  2021-01-12                          1   \n",
       "615               אבו גוש        472  2021-01-12                        631   \n",
       "923              אבו סנאן        473  2021-01-12                        864   \n",
       "1231    אבו קורינאת (שבט)        968  2021-01-12                          1   \n",
       "1539    אבו רובייעה (שבט)        966  2021-01-12                          1   \n",
       "...                   ...        ...         ...                        ...   \n",
       "84699       תל אביב - יפו       5000  2021-01-12                      15942   \n",
       "85007             תל מונד        154  2021-01-12                        317   \n",
       "85315              תל שבע       1054  2021-01-12                        243   \n",
       "85623                תפרח        709  2021-01-12                        418   \n",
       "85931                תקוע       3563  2021-01-12                        117   \n",
       "\n",
       "       Cumulated_recovered  Cumulated_deaths Cumulated_number_of_tests  \\\n",
       "307                      1                 0                       647   \n",
       "615                    478                 1                     10056   \n",
       "923                    747                 1                     12506   \n",
       "1231                     1                 0                       667   \n",
       "1539                     1                 0                       936   \n",
       "...                    ...               ...                       ...   \n",
       "84699                13587               202                    481191   \n",
       "85007                  280                 1                     13165   \n",
       "85315                  218                 1                      6555   \n",
       "85623                  358                 1                      2866   \n",
       "85931                   89                 0                      4871   \n",
       "\n",
       "      Cumulated_number_of_diagnostic_tests  Cumulated_vaccinated  Active_cases  \n",
       "307                                    645                    17             0  \n",
       "615                                   9719                   957           152  \n",
       "923                                  11818                  1065           116  \n",
       "1231                                   667                     1             0  \n",
       "1539                                   928                     1             0  \n",
       "...                                    ...                   ...           ...  \n",
       "84699                               464651                 93499          2153  \n",
       "85007                                12960                  2848            36  \n",
       "85315                                 6388                   427            24  \n",
       "85623                                 2721                   128            59  \n",
       "85931                                 4820                   367            28  \n",
       "\n",
       "[279 rows x 10 columns]"
      ]
     },
     "execution_count": 36,
     "metadata": {},
     "output_type": "execute_result"
    }
   ],
   "source": [
    "cities_df_at_date"
   ]
  },
  {
   "cell_type": "markdown",
   "id": "known-support",
   "metadata": {},
   "source": [
    "#### Merging processed data "
   ]
  },
  {
   "cell_type": "code",
   "execution_count": 37,
   "id": "martial-marketplace",
   "metadata": {},
   "outputs": [
    {
     "data": {
      "text/html": [
       "<div>\n",
       "<style scoped>\n",
       "    .dataframe tbody tr th:only-of-type {\n",
       "        vertical-align: middle;\n",
       "    }\n",
       "\n",
       "    .dataframe tbody tr th {\n",
       "        vertical-align: top;\n",
       "    }\n",
       "\n",
       "    .dataframe thead th {\n",
       "        text-align: right;\n",
       "    }\n",
       "</style>\n",
       "<table border=\"1\" class=\"dataframe\">\n",
       "  <thead>\n",
       "    <tr style=\"text-align: right;\">\n",
       "      <th></th>\n",
       "      <th>City_Name</th>\n",
       "      <th>City_Code</th>\n",
       "      <th>Date</th>\n",
       "      <th>Cumulative_verified_cases</th>\n",
       "      <th>Cumulated_recovered</th>\n",
       "      <th>Cumulated_deaths</th>\n",
       "      <th>Cumulated_number_of_tests</th>\n",
       "      <th>Cumulated_number_of_diagnostic_tests</th>\n",
       "      <th>Cumulated_vaccinated</th>\n",
       "      <th>Active_cases</th>\n",
       "      <th>UID</th>\n",
       "      <th>population_60+</th>\n",
       "      <th>total_pop</th>\n",
       "    </tr>\n",
       "  </thead>\n",
       "  <tbody>\n",
       "    <tr>\n",
       "      <th>0</th>\n",
       "      <td>אבו גוש</td>\n",
       "      <td>472</td>\n",
       "      <td>2021-01-12</td>\n",
       "      <td>631</td>\n",
       "      <td>478</td>\n",
       "      <td>1</td>\n",
       "      <td>10056</td>\n",
       "      <td>9719</td>\n",
       "      <td>957</td>\n",
       "      <td>152</td>\n",
       "      <td>472</td>\n",
       "      <td>724</td>\n",
       "      <td>7698</td>\n",
       "    </tr>\n",
       "    <tr>\n",
       "      <th>1</th>\n",
       "      <td>אבו סנאן</td>\n",
       "      <td>473</td>\n",
       "      <td>2021-01-12</td>\n",
       "      <td>864</td>\n",
       "      <td>747</td>\n",
       "      <td>1</td>\n",
       "      <td>12506</td>\n",
       "      <td>11818</td>\n",
       "      <td>1065</td>\n",
       "      <td>116</td>\n",
       "      <td>473</td>\n",
       "      <td>1446</td>\n",
       "      <td>14099</td>\n",
       "    </tr>\n",
       "    <tr>\n",
       "      <th>2</th>\n",
       "      <td>אבו תלול</td>\n",
       "      <td>1375</td>\n",
       "      <td>2021-01-12</td>\n",
       "      <td>1</td>\n",
       "      <td>1</td>\n",
       "      <td>0</td>\n",
       "      <td>267</td>\n",
       "      <td>266</td>\n",
       "      <td>1</td>\n",
       "      <td>0</td>\n",
       "      <td>1375</td>\n",
       "      <td>62</td>\n",
       "      <td>2023</td>\n",
       "    </tr>\n",
       "    <tr>\n",
       "      <th>3</th>\n",
       "      <td>אבטין</td>\n",
       "      <td>652</td>\n",
       "      <td>2021-01-12</td>\n",
       "      <td>132</td>\n",
       "      <td>111</td>\n",
       "      <td>0</td>\n",
       "      <td>1926</td>\n",
       "      <td>1845</td>\n",
       "      <td>264</td>\n",
       "      <td>21</td>\n",
       "      <td>652</td>\n",
       "      <td>224</td>\n",
       "      <td>2835</td>\n",
       "    </tr>\n",
       "    <tr>\n",
       "      <th>4</th>\n",
       "      <td>אבן יהודה</td>\n",
       "      <td>182</td>\n",
       "      <td>2021-01-12</td>\n",
       "      <td>380</td>\n",
       "      <td>323</td>\n",
       "      <td>1</td>\n",
       "      <td>16875</td>\n",
       "      <td>16395</td>\n",
       "      <td>3167</td>\n",
       "      <td>56</td>\n",
       "      <td>182</td>\n",
       "      <td>2519</td>\n",
       "      <td>13826</td>\n",
       "    </tr>\n",
       "    <tr>\n",
       "      <th>...</th>\n",
       "      <td>...</td>\n",
       "      <td>...</td>\n",
       "      <td>...</td>\n",
       "      <td>...</td>\n",
       "      <td>...</td>\n",
       "      <td>...</td>\n",
       "      <td>...</td>\n",
       "      <td>...</td>\n",
       "      <td>...</td>\n",
       "      <td>...</td>\n",
       "      <td>...</td>\n",
       "      <td>...</td>\n",
       "      <td>...</td>\n",
       "    </tr>\n",
       "    <tr>\n",
       "      <th>263</th>\n",
       "      <td>תל אביב - יפו</td>\n",
       "      <td>5000</td>\n",
       "      <td>2021-01-12</td>\n",
       "      <td>15942</td>\n",
       "      <td>13587</td>\n",
       "      <td>202</td>\n",
       "      <td>481191</td>\n",
       "      <td>464651</td>\n",
       "      <td>93499</td>\n",
       "      <td>2153</td>\n",
       "      <td>5000</td>\n",
       "      <td>90283</td>\n",
       "      <td>460613</td>\n",
       "    </tr>\n",
       "    <tr>\n",
       "      <th>264</th>\n",
       "      <td>תל מונד</td>\n",
       "      <td>154</td>\n",
       "      <td>2021-01-12</td>\n",
       "      <td>317</td>\n",
       "      <td>280</td>\n",
       "      <td>1</td>\n",
       "      <td>13165</td>\n",
       "      <td>12960</td>\n",
       "      <td>2848</td>\n",
       "      <td>36</td>\n",
       "      <td>154</td>\n",
       "      <td>1577</td>\n",
       "      <td>13144</td>\n",
       "    </tr>\n",
       "    <tr>\n",
       "      <th>265</th>\n",
       "      <td>תל שבע</td>\n",
       "      <td>1054</td>\n",
       "      <td>2021-01-12</td>\n",
       "      <td>243</td>\n",
       "      <td>218</td>\n",
       "      <td>1</td>\n",
       "      <td>6555</td>\n",
       "      <td>6388</td>\n",
       "      <td>427</td>\n",
       "      <td>24</td>\n",
       "      <td>1054</td>\n",
       "      <td>619</td>\n",
       "      <td>20808</td>\n",
       "    </tr>\n",
       "    <tr>\n",
       "      <th>266</th>\n",
       "      <td>תפרח</td>\n",
       "      <td>709</td>\n",
       "      <td>2021-01-12</td>\n",
       "      <td>418</td>\n",
       "      <td>358</td>\n",
       "      <td>1</td>\n",
       "      <td>2866</td>\n",
       "      <td>2721</td>\n",
       "      <td>128</td>\n",
       "      <td>59</td>\n",
       "      <td>709</td>\n",
       "      <td>162</td>\n",
       "      <td>2178</td>\n",
       "    </tr>\n",
       "    <tr>\n",
       "      <th>267</th>\n",
       "      <td>תקוע</td>\n",
       "      <td>3563</td>\n",
       "      <td>2021-01-12</td>\n",
       "      <td>117</td>\n",
       "      <td>89</td>\n",
       "      <td>0</td>\n",
       "      <td>4871</td>\n",
       "      <td>4820</td>\n",
       "      <td>367</td>\n",
       "      <td>28</td>\n",
       "      <td>3563</td>\n",
       "      <td>259</td>\n",
       "      <td>4076</td>\n",
       "    </tr>\n",
       "  </tbody>\n",
       "</table>\n",
       "<p>268 rows × 13 columns</p>\n",
       "</div>"
      ],
      "text/plain": [
       "         City_Name  City_Code        Date  Cumulative_verified_cases  \\\n",
       "0          אבו גוש        472  2021-01-12                        631   \n",
       "1         אבו סנאן        473  2021-01-12                        864   \n",
       "2         אבו תלול       1375  2021-01-12                          1   \n",
       "3            אבטין        652  2021-01-12                        132   \n",
       "4        אבן יהודה        182  2021-01-12                        380   \n",
       "..             ...        ...         ...                        ...   \n",
       "263  תל אביב - יפו       5000  2021-01-12                      15942   \n",
       "264        תל מונד        154  2021-01-12                        317   \n",
       "265         תל שבע       1054  2021-01-12                        243   \n",
       "266           תפרח        709  2021-01-12                        418   \n",
       "267           תקוע       3563  2021-01-12                        117   \n",
       "\n",
       "     Cumulated_recovered  Cumulated_deaths Cumulated_number_of_tests  \\\n",
       "0                    478                 1                     10056   \n",
       "1                    747                 1                     12506   \n",
       "2                      1                 0                       267   \n",
       "3                    111                 0                      1926   \n",
       "4                    323                 1                     16875   \n",
       "..                   ...               ...                       ...   \n",
       "263                13587               202                    481191   \n",
       "264                  280                 1                     13165   \n",
       "265                  218                 1                      6555   \n",
       "266                  358                 1                      2866   \n",
       "267                   89                 0                      4871   \n",
       "\n",
       "    Cumulated_number_of_diagnostic_tests  Cumulated_vaccinated  Active_cases  \\\n",
       "0                                   9719                   957           152   \n",
       "1                                  11818                  1065           116   \n",
       "2                                    266                     1             0   \n",
       "3                                   1845                   264            21   \n",
       "4                                  16395                  3167            56   \n",
       "..                                   ...                   ...           ...   \n",
       "263                               464651                 93499          2153   \n",
       "264                                12960                  2848            36   \n",
       "265                                 6388                   427            24   \n",
       "266                                 2721                   128            59   \n",
       "267                                 4820                   367            28   \n",
       "\n",
       "      UID  population_60+  total_pop  \n",
       "0     472             724       7698  \n",
       "1     473            1446      14099  \n",
       "2    1375              62       2023  \n",
       "3     652             224       2835  \n",
       "4     182            2519      13826  \n",
       "..    ...             ...        ...  \n",
       "263  5000           90283     460613  \n",
       "264   154            1577      13144  \n",
       "265  1054             619      20808  \n",
       "266   709             162       2178  \n",
       "267  3563             259       4076  \n",
       "\n",
       "[268 rows x 13 columns]"
      ]
     },
     "execution_count": 37,
     "metadata": {},
     "output_type": "execute_result"
    }
   ],
   "source": [
    "# We start from the COVID-19 active cases data \n",
    "bubble_table = cities_df_at_date.copy()\n",
    "\n",
    "# We first merge it with the population data \n",
    "bubble_table = bubble_table.merge(pop_df, left_on=\"City_Code\", right_on=\"UID\")\n",
    "bubble_table"
   ]
  },
  {
   "cell_type": "code",
   "execution_count": 38,
   "id": "greatest-vinyl",
   "metadata": {},
   "outputs": [
    {
     "data": {
      "text/html": [
       "<div>\n",
       "<style scoped>\n",
       "    .dataframe tbody tr th:only-of-type {\n",
       "        vertical-align: middle;\n",
       "    }\n",
       "\n",
       "    .dataframe tbody tr th {\n",
       "        vertical-align: top;\n",
       "    }\n",
       "\n",
       "    .dataframe thead th {\n",
       "        text-align: right;\n",
       "    }\n",
       "</style>\n",
       "<table border=\"1\" class=\"dataframe\">\n",
       "  <thead>\n",
       "    <tr style=\"text-align: right;\">\n",
       "      <th></th>\n",
       "      <th>City_Name</th>\n",
       "      <th>City_Code</th>\n",
       "      <th>Date</th>\n",
       "      <th>Cumulative_verified_cases</th>\n",
       "      <th>Cumulated_recovered</th>\n",
       "      <th>Cumulated_deaths</th>\n",
       "      <th>Cumulated_number_of_tests</th>\n",
       "      <th>Cumulated_number_of_diagnostic_tests</th>\n",
       "      <th>Cumulated_vaccinated</th>\n",
       "      <th>Active_cases</th>\n",
       "      <th>UID</th>\n",
       "      <th>population_60+</th>\n",
       "      <th>total_pop</th>\n",
       "      <th>vaccination_60+</th>\n",
       "    </tr>\n",
       "  </thead>\n",
       "  <tbody>\n",
       "    <tr>\n",
       "      <th>0</th>\n",
       "      <td>אבו גוש</td>\n",
       "      <td>472</td>\n",
       "      <td>2021-01-12</td>\n",
       "      <td>631</td>\n",
       "      <td>478</td>\n",
       "      <td>1</td>\n",
       "      <td>10056</td>\n",
       "      <td>9719</td>\n",
       "      <td>957</td>\n",
       "      <td>152</td>\n",
       "      <td>472</td>\n",
       "      <td>724</td>\n",
       "      <td>7698</td>\n",
       "      <td>350.0</td>\n",
       "    </tr>\n",
       "    <tr>\n",
       "      <th>1</th>\n",
       "      <td>אבו סנאן</td>\n",
       "      <td>473</td>\n",
       "      <td>2021-01-12</td>\n",
       "      <td>864</td>\n",
       "      <td>747</td>\n",
       "      <td>1</td>\n",
       "      <td>12506</td>\n",
       "      <td>11818</td>\n",
       "      <td>1065</td>\n",
       "      <td>116</td>\n",
       "      <td>473</td>\n",
       "      <td>1446</td>\n",
       "      <td>14099</td>\n",
       "      <td>461.0</td>\n",
       "    </tr>\n",
       "    <tr>\n",
       "      <th>2</th>\n",
       "      <td>אבו תלול</td>\n",
       "      <td>1375</td>\n",
       "      <td>2021-01-12</td>\n",
       "      <td>1</td>\n",
       "      <td>1</td>\n",
       "      <td>0</td>\n",
       "      <td>267</td>\n",
       "      <td>266</td>\n",
       "      <td>1</td>\n",
       "      <td>0</td>\n",
       "      <td>1375</td>\n",
       "      <td>62</td>\n",
       "      <td>2023</td>\n",
       "      <td>1.0</td>\n",
       "    </tr>\n",
       "    <tr>\n",
       "      <th>3</th>\n",
       "      <td>אבטין</td>\n",
       "      <td>652</td>\n",
       "      <td>2021-01-12</td>\n",
       "      <td>132</td>\n",
       "      <td>111</td>\n",
       "      <td>0</td>\n",
       "      <td>1926</td>\n",
       "      <td>1845</td>\n",
       "      <td>264</td>\n",
       "      <td>21</td>\n",
       "      <td>652</td>\n",
       "      <td>224</td>\n",
       "      <td>2835</td>\n",
       "      <td>120.0</td>\n",
       "    </tr>\n",
       "    <tr>\n",
       "      <th>4</th>\n",
       "      <td>אבן יהודה</td>\n",
       "      <td>182</td>\n",
       "      <td>2021-01-12</td>\n",
       "      <td>380</td>\n",
       "      <td>323</td>\n",
       "      <td>1</td>\n",
       "      <td>16875</td>\n",
       "      <td>16395</td>\n",
       "      <td>3167</td>\n",
       "      <td>56</td>\n",
       "      <td>182</td>\n",
       "      <td>2519</td>\n",
       "      <td>13826</td>\n",
       "      <td>1757.0</td>\n",
       "    </tr>\n",
       "    <tr>\n",
       "      <th>...</th>\n",
       "      <td>...</td>\n",
       "      <td>...</td>\n",
       "      <td>...</td>\n",
       "      <td>...</td>\n",
       "      <td>...</td>\n",
       "      <td>...</td>\n",
       "      <td>...</td>\n",
       "      <td>...</td>\n",
       "      <td>...</td>\n",
       "      <td>...</td>\n",
       "      <td>...</td>\n",
       "      <td>...</td>\n",
       "      <td>...</td>\n",
       "      <td>...</td>\n",
       "    </tr>\n",
       "    <tr>\n",
       "      <th>221</th>\n",
       "      <td>שפרעם</td>\n",
       "      <td>8800</td>\n",
       "      <td>2021-01-12</td>\n",
       "      <td>2956</td>\n",
       "      <td>2442</td>\n",
       "      <td>25</td>\n",
       "      <td>42461</td>\n",
       "      <td>40760</td>\n",
       "      <td>4727</td>\n",
       "      <td>489</td>\n",
       "      <td>8800</td>\n",
       "      <td>4492</td>\n",
       "      <td>42137</td>\n",
       "      <td>2003.0</td>\n",
       "    </tr>\n",
       "    <tr>\n",
       "      <th>222</th>\n",
       "      <td>שתולים</td>\n",
       "      <td>763</td>\n",
       "      <td>2021-01-12</td>\n",
       "      <td>137</td>\n",
       "      <td>117</td>\n",
       "      <td>0</td>\n",
       "      <td>2210</td>\n",
       "      <td>2140</td>\n",
       "      <td>391</td>\n",
       "      <td>20</td>\n",
       "      <td>763</td>\n",
       "      <td>256</td>\n",
       "      <td>2116</td>\n",
       "      <td>180.0</td>\n",
       "    </tr>\n",
       "    <tr>\n",
       "      <th>223</th>\n",
       "      <td>תל אביב - יפו</td>\n",
       "      <td>5000</td>\n",
       "      <td>2021-01-12</td>\n",
       "      <td>15942</td>\n",
       "      <td>13587</td>\n",
       "      <td>202</td>\n",
       "      <td>481191</td>\n",
       "      <td>464651</td>\n",
       "      <td>93499</td>\n",
       "      <td>2153</td>\n",
       "      <td>5000</td>\n",
       "      <td>90283</td>\n",
       "      <td>460613</td>\n",
       "      <td>56535.0</td>\n",
       "    </tr>\n",
       "    <tr>\n",
       "      <th>224</th>\n",
       "      <td>תל מונד</td>\n",
       "      <td>154</td>\n",
       "      <td>2021-01-12</td>\n",
       "      <td>317</td>\n",
       "      <td>280</td>\n",
       "      <td>1</td>\n",
       "      <td>13165</td>\n",
       "      <td>12960</td>\n",
       "      <td>2848</td>\n",
       "      <td>36</td>\n",
       "      <td>154</td>\n",
       "      <td>1577</td>\n",
       "      <td>13144</td>\n",
       "      <td>1322.0</td>\n",
       "    </tr>\n",
       "    <tr>\n",
       "      <th>225</th>\n",
       "      <td>תל שבע</td>\n",
       "      <td>1054</td>\n",
       "      <td>2021-01-12</td>\n",
       "      <td>243</td>\n",
       "      <td>218</td>\n",
       "      <td>1</td>\n",
       "      <td>6555</td>\n",
       "      <td>6388</td>\n",
       "      <td>427</td>\n",
       "      <td>24</td>\n",
       "      <td>1054</td>\n",
       "      <td>619</td>\n",
       "      <td>20808</td>\n",
       "      <td>136.0</td>\n",
       "    </tr>\n",
       "  </tbody>\n",
       "</table>\n",
       "<p>226 rows × 14 columns</p>\n",
       "</div>"
      ],
      "text/plain": [
       "         City_Name  City_Code        Date  Cumulative_verified_cases  \\\n",
       "0          אבו גוש        472  2021-01-12                        631   \n",
       "1         אבו סנאן        473  2021-01-12                        864   \n",
       "2         אבו תלול       1375  2021-01-12                          1   \n",
       "3            אבטין        652  2021-01-12                        132   \n",
       "4        אבן יהודה        182  2021-01-12                        380   \n",
       "..             ...        ...         ...                        ...   \n",
       "221          שפרעם       8800  2021-01-12                       2956   \n",
       "222         שתולים        763  2021-01-12                        137   \n",
       "223  תל אביב - יפו       5000  2021-01-12                      15942   \n",
       "224        תל מונד        154  2021-01-12                        317   \n",
       "225         תל שבע       1054  2021-01-12                        243   \n",
       "\n",
       "     Cumulated_recovered  Cumulated_deaths Cumulated_number_of_tests  \\\n",
       "0                    478                 1                     10056   \n",
       "1                    747                 1                     12506   \n",
       "2                      1                 0                       267   \n",
       "3                    111                 0                      1926   \n",
       "4                    323                 1                     16875   \n",
       "..                   ...               ...                       ...   \n",
       "221                 2442                25                     42461   \n",
       "222                  117                 0                      2210   \n",
       "223                13587               202                    481191   \n",
       "224                  280                 1                     13165   \n",
       "225                  218                 1                      6555   \n",
       "\n",
       "    Cumulated_number_of_diagnostic_tests  Cumulated_vaccinated  Active_cases  \\\n",
       "0                                   9719                   957           152   \n",
       "1                                  11818                  1065           116   \n",
       "2                                    266                     1             0   \n",
       "3                                   1845                   264            21   \n",
       "4                                  16395                  3167            56   \n",
       "..                                   ...                   ...           ...   \n",
       "221                                40760                  4727           489   \n",
       "222                                 2140                   391            20   \n",
       "223                               464651                 93499          2153   \n",
       "224                                12960                  2848            36   \n",
       "225                                 6388                   427            24   \n",
       "\n",
       "      UID  population_60+  total_pop  vaccination_60+  \n",
       "0     472             724       7698            350.0  \n",
       "1     473            1446      14099            461.0  \n",
       "2    1375              62       2023              1.0  \n",
       "3     652             224       2835            120.0  \n",
       "4     182            2519      13826           1757.0  \n",
       "..    ...             ...        ...              ...  \n",
       "221  8800            4492      42137           2003.0  \n",
       "222   763             256       2116            180.0  \n",
       "223  5000           90283     460613          56535.0  \n",
       "224   154            1577      13144           1322.0  \n",
       "225  1054             619      20808            136.0  \n",
       "\n",
       "[226 rows x 14 columns]"
      ]
     },
     "execution_count": 38,
     "metadata": {},
     "output_type": "execute_result"
    }
   ],
   "source": [
    "# Merging vaccination data\n",
    "bubble_table = bubble_table.merge(vaccination_60_plus, on=\"City_Name\")\n",
    "bubble_table"
   ]
  },
  {
   "cell_type": "code",
   "execution_count": 39,
   "id": "piano-workplace",
   "metadata": {},
   "outputs": [
    {
     "data": {
      "text/html": [
       "<div>\n",
       "<style scoped>\n",
       "    .dataframe tbody tr th:only-of-type {\n",
       "        vertical-align: middle;\n",
       "    }\n",
       "\n",
       "    .dataframe tbody tr th {\n",
       "        vertical-align: top;\n",
       "    }\n",
       "\n",
       "    .dataframe thead th {\n",
       "        text-align: right;\n",
       "    }\n",
       "</style>\n",
       "<table border=\"1\" class=\"dataframe\">\n",
       "  <thead>\n",
       "    <tr style=\"text-align: right;\">\n",
       "      <th></th>\n",
       "      <th>UID</th>\n",
       "      <th>name_h</th>\n",
       "      <th>name_e</th>\n",
       "      <th>Index</th>\n",
       "      <th>Rank</th>\n",
       "    </tr>\n",
       "  </thead>\n",
       "  <tbody>\n",
       "    <tr>\n",
       "      <th>1</th>\n",
       "      <td>1192</td>\n",
       "      <td>ערערה-בנגב</td>\n",
       "      <td>AR'ARA-BANEGEV</td>\n",
       "      <td>-2.535</td>\n",
       "      <td>2</td>\n",
       "    </tr>\n",
       "    <tr>\n",
       "      <th>2</th>\n",
       "      <td>1054</td>\n",
       "      <td>תל שבע</td>\n",
       "      <td>TEL SHEVA</td>\n",
       "      <td>-2.329</td>\n",
       "      <td>3</td>\n",
       "    </tr>\n",
       "    <tr>\n",
       "      <th>3</th>\n",
       "      <td>1059</td>\n",
       "      <td>כסיפה</td>\n",
       "      <td>KUSEIFE</td>\n",
       "      <td>-2.255</td>\n",
       "      <td>4</td>\n",
       "    </tr>\n",
       "    <tr>\n",
       "      <th>4</th>\n",
       "      <td>3797</td>\n",
       "      <td>מודיעין עילית</td>\n",
       "      <td>MODI'IN ILLIT</td>\n",
       "      <td>-2.234</td>\n",
       "      <td>5</td>\n",
       "    </tr>\n",
       "    <tr>\n",
       "      <th>5</th>\n",
       "      <td>1286</td>\n",
       "      <td>שגב-שלום</td>\n",
       "      <td>SEGEV-SHALOM</td>\n",
       "      <td>-2.215</td>\n",
       "      <td>6</td>\n",
       "    </tr>\n",
       "    <tr>\n",
       "      <th>...</th>\n",
       "      <td>...</td>\n",
       "      <td>...</td>\n",
       "      <td>...</td>\n",
       "      <td>...</td>\n",
       "      <td>...</td>\n",
       "    </tr>\n",
       "    <tr>\n",
       "      <th>250</th>\n",
       "      <td>1224</td>\n",
       "      <td>כוכב יאיר</td>\n",
       "      <td>KOKHAV YA'IR</td>\n",
       "      <td>1.809</td>\n",
       "      <td>251</td>\n",
       "    </tr>\n",
       "    <tr>\n",
       "      <th>251</th>\n",
       "      <td>666</td>\n",
       "      <td>עומר</td>\n",
       "      <td>OMER</td>\n",
       "      <td>1.900</td>\n",
       "      <td>252</td>\n",
       "    </tr>\n",
       "    <tr>\n",
       "      <th>252</th>\n",
       "      <td>1271</td>\n",
       "      <td>להבים</td>\n",
       "      <td>LEHAVIM</td>\n",
       "      <td>1.989</td>\n",
       "      <td>253</td>\n",
       "    </tr>\n",
       "    <tr>\n",
       "      <th>253</th>\n",
       "      <td>267</td>\n",
       "      <td>כפר שמריהו</td>\n",
       "      <td>KEFAR SHEMARYAHU</td>\n",
       "      <td>2.068</td>\n",
       "      <td>254</td>\n",
       "    </tr>\n",
       "    <tr>\n",
       "      <th>254</th>\n",
       "      <td>587</td>\n",
       "      <td>סביון</td>\n",
       "      <td>SAVYON</td>\n",
       "      <td>2.320</td>\n",
       "      <td>255</td>\n",
       "    </tr>\n",
       "  </tbody>\n",
       "</table>\n",
       "<p>201 rows × 5 columns</p>\n",
       "</div>"
      ],
      "text/plain": [
       "      UID         name_h            name_e  Index  Rank\n",
       "1    1192     ערערה-בנגב    AR'ARA-BANEGEV -2.535     2\n",
       "2    1054         תל שבע         TEL SHEVA -2.329     3\n",
       "3    1059          כסיפה           KUSEIFE -2.255     4\n",
       "4    3797  מודיעין עילית     MODI'IN ILLIT -2.234     5\n",
       "5    1286       שגב-שלום      SEGEV-SHALOM -2.215     6\n",
       "..    ...            ...               ...    ...   ...\n",
       "250  1224      כוכב יאיר      KOKHAV YA'IR  1.809   251\n",
       "251   666           עומר              OMER  1.900   252\n",
       "252  1271          להבים           LEHAVIM  1.989   253\n",
       "253   267     כפר שמריהו  KEFAR SHEMARYAHU  2.068   254\n",
       "254   587          סביון            SAVYON  2.320   255\n",
       "\n",
       "[201 rows x 5 columns]"
      ]
     },
     "execution_count": 39,
     "metadata": {},
     "output_type": "execute_result"
    }
   ],
   "source": [
    "rank_df"
   ]
  },
  {
   "cell_type": "code",
   "execution_count": 40,
   "id": "careful-preference",
   "metadata": {},
   "outputs": [
    {
     "data": {
      "text/html": [
       "<div>\n",
       "<style scoped>\n",
       "    .dataframe tbody tr th:only-of-type {\n",
       "        vertical-align: middle;\n",
       "    }\n",
       "\n",
       "    .dataframe tbody tr th {\n",
       "        vertical-align: top;\n",
       "    }\n",
       "\n",
       "    .dataframe thead th {\n",
       "        text-align: right;\n",
       "    }\n",
       "</style>\n",
       "<table border=\"1\" class=\"dataframe\">\n",
       "  <thead>\n",
       "    <tr style=\"text-align: right;\">\n",
       "      <th></th>\n",
       "      <th>City_Name</th>\n",
       "      <th>City_Code</th>\n",
       "      <th>Date</th>\n",
       "      <th>Cumulative_verified_cases</th>\n",
       "      <th>Cumulated_recovered</th>\n",
       "      <th>Cumulated_deaths</th>\n",
       "      <th>Cumulated_number_of_tests</th>\n",
       "      <th>Cumulated_number_of_diagnostic_tests</th>\n",
       "      <th>Cumulated_vaccinated</th>\n",
       "      <th>Active_cases</th>\n",
       "      <th>UID</th>\n",
       "      <th>population_60+</th>\n",
       "      <th>total_pop</th>\n",
       "      <th>vaccination_60+</th>\n",
       "      <th>name_h</th>\n",
       "      <th>name_e</th>\n",
       "      <th>Index</th>\n",
       "      <th>Rank</th>\n",
       "    </tr>\n",
       "  </thead>\n",
       "  <tbody>\n",
       "    <tr>\n",
       "      <th>0</th>\n",
       "      <td>אבו גוש</td>\n",
       "      <td>472</td>\n",
       "      <td>2021-01-12</td>\n",
       "      <td>631</td>\n",
       "      <td>478</td>\n",
       "      <td>1</td>\n",
       "      <td>10056</td>\n",
       "      <td>9719</td>\n",
       "      <td>957</td>\n",
       "      <td>152</td>\n",
       "      <td>472</td>\n",
       "      <td>724</td>\n",
       "      <td>7698</td>\n",
       "      <td>350.0</td>\n",
       "      <td>אבו גוש</td>\n",
       "      <td>ABU GHOSH</td>\n",
       "      <td>-0.783</td>\n",
       "      <td>65</td>\n",
       "    </tr>\n",
       "    <tr>\n",
       "      <th>1</th>\n",
       "      <td>אבו סנאן</td>\n",
       "      <td>473</td>\n",
       "      <td>2021-01-12</td>\n",
       "      <td>864</td>\n",
       "      <td>747</td>\n",
       "      <td>1</td>\n",
       "      <td>12506</td>\n",
       "      <td>11818</td>\n",
       "      <td>1065</td>\n",
       "      <td>116</td>\n",
       "      <td>473</td>\n",
       "      <td>1446</td>\n",
       "      <td>14099</td>\n",
       "      <td>461.0</td>\n",
       "      <td>אבו סנאן</td>\n",
       "      <td>ABU SINAN</td>\n",
       "      <td>-0.792</td>\n",
       "      <td>63</td>\n",
       "    </tr>\n",
       "    <tr>\n",
       "      <th>2</th>\n",
       "      <td>אבן יהודה</td>\n",
       "      <td>182</td>\n",
       "      <td>2021-01-12</td>\n",
       "      <td>380</td>\n",
       "      <td>323</td>\n",
       "      <td>1</td>\n",
       "      <td>16875</td>\n",
       "      <td>16395</td>\n",
       "      <td>3167</td>\n",
       "      <td>56</td>\n",
       "      <td>182</td>\n",
       "      <td>2519</td>\n",
       "      <td>13826</td>\n",
       "      <td>1757.0</td>\n",
       "      <td>אבן יהודה</td>\n",
       "      <td>EVEN YEHUDA</td>\n",
       "      <td>1.499</td>\n",
       "      <td>243</td>\n",
       "    </tr>\n",
       "    <tr>\n",
       "      <th>3</th>\n",
       "      <td>אום אל-פחם</td>\n",
       "      <td>2710</td>\n",
       "      <td>2021-01-12</td>\n",
       "      <td>4246</td>\n",
       "      <td>3822</td>\n",
       "      <td>36</td>\n",
       "      <td>41749</td>\n",
       "      <td>39343</td>\n",
       "      <td>4788</td>\n",
       "      <td>388</td>\n",
       "      <td>2710</td>\n",
       "      <td>3960</td>\n",
       "      <td>56109</td>\n",
       "      <td>1681.0</td>\n",
       "      <td>אום אל-פחם</td>\n",
       "      <td>UMM AL-FAHM</td>\n",
       "      <td>-1.413</td>\n",
       "      <td>17</td>\n",
       "    </tr>\n",
       "    <tr>\n",
       "      <th>4</th>\n",
       "      <td>אופקים</td>\n",
       "      <td>31</td>\n",
       "      <td>2021-01-12</td>\n",
       "      <td>2089</td>\n",
       "      <td>1865</td>\n",
       "      <td>1</td>\n",
       "      <td>37716</td>\n",
       "      <td>36682</td>\n",
       "      <td>4449</td>\n",
       "      <td>223</td>\n",
       "      <td>31</td>\n",
       "      <td>3958</td>\n",
       "      <td>30662</td>\n",
       "      <td>1906.0</td>\n",
       "      <td>אופקים</td>\n",
       "      <td>OFAQIM</td>\n",
       "      <td>-0.703</td>\n",
       "      <td>73</td>\n",
       "    </tr>\n",
       "    <tr>\n",
       "      <th>...</th>\n",
       "      <td>...</td>\n",
       "      <td>...</td>\n",
       "      <td>...</td>\n",
       "      <td>...</td>\n",
       "      <td>...</td>\n",
       "      <td>...</td>\n",
       "      <td>...</td>\n",
       "      <td>...</td>\n",
       "      <td>...</td>\n",
       "      <td>...</td>\n",
       "      <td>...</td>\n",
       "      <td>...</td>\n",
       "      <td>...</td>\n",
       "      <td>...</td>\n",
       "      <td>...</td>\n",
       "      <td>...</td>\n",
       "      <td>...</td>\n",
       "      <td>...</td>\n",
       "    </tr>\n",
       "    <tr>\n",
       "      <th>179</th>\n",
       "      <td>שעב</td>\n",
       "      <td>538</td>\n",
       "      <td>2021-01-12</td>\n",
       "      <td>516</td>\n",
       "      <td>452</td>\n",
       "      <td>1</td>\n",
       "      <td>7516</td>\n",
       "      <td>7311</td>\n",
       "      <td>512</td>\n",
       "      <td>63</td>\n",
       "      <td>538</td>\n",
       "      <td>481</td>\n",
       "      <td>7061</td>\n",
       "      <td>169.0</td>\n",
       "      <td>שעב</td>\n",
       "      <td>SHA'AB</td>\n",
       "      <td>-1.232</td>\n",
       "      <td>22</td>\n",
       "    </tr>\n",
       "    <tr>\n",
       "      <th>180</th>\n",
       "      <td>שפרעם</td>\n",
       "      <td>8800</td>\n",
       "      <td>2021-01-12</td>\n",
       "      <td>2956</td>\n",
       "      <td>2442</td>\n",
       "      <td>25</td>\n",
       "      <td>42461</td>\n",
       "      <td>40760</td>\n",
       "      <td>4727</td>\n",
       "      <td>489</td>\n",
       "      <td>8800</td>\n",
       "      <td>4492</td>\n",
       "      <td>42137</td>\n",
       "      <td>2003.0</td>\n",
       "      <td>שפרעם</td>\n",
       "      <td>SHEFAR'AM</td>\n",
       "      <td>-0.782</td>\n",
       "      <td>66</td>\n",
       "    </tr>\n",
       "    <tr>\n",
       "      <th>181</th>\n",
       "      <td>תל אביב - יפו</td>\n",
       "      <td>5000</td>\n",
       "      <td>2021-01-12</td>\n",
       "      <td>15942</td>\n",
       "      <td>13587</td>\n",
       "      <td>202</td>\n",
       "      <td>481191</td>\n",
       "      <td>464651</td>\n",
       "      <td>93499</td>\n",
       "      <td>2153</td>\n",
       "      <td>5000</td>\n",
       "      <td>90283</td>\n",
       "      <td>460613</td>\n",
       "      <td>56535.0</td>\n",
       "      <td>תל אביב -יפו</td>\n",
       "      <td>TEL AVIV - YAFO</td>\n",
       "      <td>1.113</td>\n",
       "      <td>215</td>\n",
       "    </tr>\n",
       "    <tr>\n",
       "      <th>182</th>\n",
       "      <td>תל מונד</td>\n",
       "      <td>154</td>\n",
       "      <td>2021-01-12</td>\n",
       "      <td>317</td>\n",
       "      <td>280</td>\n",
       "      <td>1</td>\n",
       "      <td>13165</td>\n",
       "      <td>12960</td>\n",
       "      <td>2848</td>\n",
       "      <td>36</td>\n",
       "      <td>154</td>\n",
       "      <td>1577</td>\n",
       "      <td>13144</td>\n",
       "      <td>1322.0</td>\n",
       "      <td>תל מונד</td>\n",
       "      <td>TEL MOND</td>\n",
       "      <td>1.367</td>\n",
       "      <td>236</td>\n",
       "    </tr>\n",
       "    <tr>\n",
       "      <th>183</th>\n",
       "      <td>תל שבע</td>\n",
       "      <td>1054</td>\n",
       "      <td>2021-01-12</td>\n",
       "      <td>243</td>\n",
       "      <td>218</td>\n",
       "      <td>1</td>\n",
       "      <td>6555</td>\n",
       "      <td>6388</td>\n",
       "      <td>427</td>\n",
       "      <td>24</td>\n",
       "      <td>1054</td>\n",
       "      <td>619</td>\n",
       "      <td>20808</td>\n",
       "      <td>136.0</td>\n",
       "      <td>תל שבע</td>\n",
       "      <td>TEL SHEVA</td>\n",
       "      <td>-2.329</td>\n",
       "      <td>3</td>\n",
       "    </tr>\n",
       "  </tbody>\n",
       "</table>\n",
       "<p>184 rows × 18 columns</p>\n",
       "</div>"
      ],
      "text/plain": [
       "         City_Name  City_Code        Date  Cumulative_verified_cases  \\\n",
       "0          אבו גוש        472  2021-01-12                        631   \n",
       "1         אבו סנאן        473  2021-01-12                        864   \n",
       "2        אבן יהודה        182  2021-01-12                        380   \n",
       "3       אום אל-פחם       2710  2021-01-12                       4246   \n",
       "4           אופקים         31  2021-01-12                       2089   \n",
       "..             ...        ...         ...                        ...   \n",
       "179            שעב        538  2021-01-12                        516   \n",
       "180          שפרעם       8800  2021-01-12                       2956   \n",
       "181  תל אביב - יפו       5000  2021-01-12                      15942   \n",
       "182        תל מונד        154  2021-01-12                        317   \n",
       "183         תל שבע       1054  2021-01-12                        243   \n",
       "\n",
       "     Cumulated_recovered  Cumulated_deaths Cumulated_number_of_tests  \\\n",
       "0                    478                 1                     10056   \n",
       "1                    747                 1                     12506   \n",
       "2                    323                 1                     16875   \n",
       "3                   3822                36                     41749   \n",
       "4                   1865                 1                     37716   \n",
       "..                   ...               ...                       ...   \n",
       "179                  452                 1                      7516   \n",
       "180                 2442                25                     42461   \n",
       "181                13587               202                    481191   \n",
       "182                  280                 1                     13165   \n",
       "183                  218                 1                      6555   \n",
       "\n",
       "    Cumulated_number_of_diagnostic_tests  Cumulated_vaccinated  Active_cases  \\\n",
       "0                                   9719                   957           152   \n",
       "1                                  11818                  1065           116   \n",
       "2                                  16395                  3167            56   \n",
       "3                                  39343                  4788           388   \n",
       "4                                  36682                  4449           223   \n",
       "..                                   ...                   ...           ...   \n",
       "179                                 7311                   512            63   \n",
       "180                                40760                  4727           489   \n",
       "181                               464651                 93499          2153   \n",
       "182                                12960                  2848            36   \n",
       "183                                 6388                   427            24   \n",
       "\n",
       "      UID  population_60+  total_pop  vaccination_60+        name_h  \\\n",
       "0     472             724       7698            350.0       אבו גוש   \n",
       "1     473            1446      14099            461.0      אבו סנאן   \n",
       "2     182            2519      13826           1757.0     אבן יהודה   \n",
       "3    2710            3960      56109           1681.0    אום אל-פחם   \n",
       "4      31            3958      30662           1906.0        אופקים   \n",
       "..    ...             ...        ...              ...           ...   \n",
       "179   538             481       7061            169.0           שעב   \n",
       "180  8800            4492      42137           2003.0         שפרעם   \n",
       "181  5000           90283     460613          56535.0  תל אביב -יפו   \n",
       "182   154            1577      13144           1322.0       תל מונד   \n",
       "183  1054             619      20808            136.0        תל שבע   \n",
       "\n",
       "              name_e  Index  Rank  \n",
       "0          ABU GHOSH -0.783    65  \n",
       "1          ABU SINAN -0.792    63  \n",
       "2        EVEN YEHUDA  1.499   243  \n",
       "3        UMM AL-FAHM -1.413    17  \n",
       "4             OFAQIM -0.703    73  \n",
       "..               ...    ...   ...  \n",
       "179           SHA'AB -1.232    22  \n",
       "180        SHEFAR'AM -0.782    66  \n",
       "181  TEL AVIV - YAFO  1.113   215  \n",
       "182         TEL MOND  1.367   236  \n",
       "183        TEL SHEVA -2.329     3  \n",
       "\n",
       "[184 rows x 18 columns]"
      ]
     },
     "execution_count": 40,
     "metadata": {},
     "output_type": "execute_result"
    }
   ],
   "source": [
    "# Merging Social-economic rank data\n",
    "bubble_table = bubble_table.merge(rank_df, on=\"UID\")\n",
    "bubble_table"
   ]
  },
  {
   "cell_type": "markdown",
   "id": "substantial-fault",
   "metadata": {},
   "source": [
    "### Data analysis"
   ]
  },
  {
   "cell_type": "code",
   "execution_count": 41,
   "id": "willing-trinidad",
   "metadata": {},
   "outputs": [
    {
     "data": {
      "text/plain": [
       "count    184.000000\n",
       "mean      82.618448\n",
       "std       60.276377\n",
       "min        9.144111\n",
       "25%       46.332399\n",
       "50%       64.626349\n",
       "75%       99.831532\n",
       "max      420.431037\n",
       "Name: Active cases per 10,000 people - 12/1/21, dtype: float64"
      ]
     },
     "execution_count": 41,
     "metadata": {},
     "output_type": "execute_result"
    }
   ],
   "source": [
    "# Calculating x\n",
    "bubble_table[x_key] = \\\n",
    "    bubble_table[cases_signal] / (bubble_table[\"total_pop\"] / 10000)\n",
    "bubble_table[x_key].describe()"
   ]
  },
  {
   "cell_type": "code",
   "execution_count": 42,
   "id": "announced-liabilities",
   "metadata": {},
   "outputs": [
    {
     "data": {
      "text/plain": [
       "count    184.000000\n",
       "mean      54.604789\n",
       "std       16.603150\n",
       "min        5.428571\n",
       "25%       43.476621\n",
       "50%       54.880036\n",
       "75%       66.711744\n",
       "max       90.929705\n",
       "Name: 60+ Vaccination [%] - 12/1/21, dtype: float64"
      ]
     },
     "execution_count": 42,
     "metadata": {},
     "output_type": "execute_result"
    }
   ],
   "source": [
    "# Calculating y\n",
    "bubble_table[y_key] = \\\n",
    "    (bubble_table[\"vaccination_60+\"] / (bubble_table[\"population_60+\"])) * 100\n",
    "\n",
    "bubble_table[y_key].describe()"
   ]
  },
  {
   "cell_type": "code",
   "execution_count": 43,
   "id": "upset-prototype",
   "metadata": {},
   "outputs": [
    {
     "data": {
      "text/plain": [
       "count    184.000000\n",
       "mean       1.713459\n",
       "std        1.375241\n",
       "min        0.149755\n",
       "25%        0.756856\n",
       "50%        1.231853\n",
       "75%        2.414659\n",
       "max        8.064555\n",
       "Name: VNR, dtype: float64"
      ]
     },
     "execution_count": 43,
     "metadata": {},
     "output_type": "execute_result"
    }
   ],
   "source": [
    "# Calculating Vaccinations Need Ratio (VNR)\n",
    "bubble_table[\"VNR\"] = bubble_table[x_key] / \\\n",
    "                      bubble_table[y_key]\n",
    "bubble_table[\"VNR\"].describe()"
   ]
  },
  {
   "cell_type": "code",
   "execution_count": 44,
   "id": "loving-animation",
   "metadata": {},
   "outputs": [],
   "source": [
    "# Calculating color coding \n",
    "low_color = bubble_table[color_key].quantile(0.2)\n",
    "high_color = bubble_table[color_key].quantile(0.8)"
   ]
  },
  {
   "cell_type": "markdown",
   "id": "handy-economics",
   "metadata": {},
   "source": [
    "### Plot Results "
   ]
  },
  {
   "cell_type": "code",
   "execution_count": 45,
   "id": "unexpected-campaign",
   "metadata": {},
   "outputs": [
    {
     "data": {
      "text/html": [
       "<div>\n",
       "<style scoped>\n",
       "    .dataframe tbody tr th:only-of-type {\n",
       "        vertical-align: middle;\n",
       "    }\n",
       "\n",
       "    .dataframe tbody tr th {\n",
       "        vertical-align: top;\n",
       "    }\n",
       "\n",
       "    .dataframe thead th {\n",
       "        text-align: right;\n",
       "    }\n",
       "</style>\n",
       "<table border=\"1\" class=\"dataframe\">\n",
       "  <thead>\n",
       "    <tr style=\"text-align: right;\">\n",
       "      <th></th>\n",
       "      <th>City_Name</th>\n",
       "      <th>City_Code</th>\n",
       "      <th>Date</th>\n",
       "      <th>Cumulative_verified_cases</th>\n",
       "      <th>Cumulated_recovered</th>\n",
       "      <th>Cumulated_deaths</th>\n",
       "      <th>Cumulated_number_of_tests</th>\n",
       "      <th>Cumulated_number_of_diagnostic_tests</th>\n",
       "      <th>Cumulated_vaccinated</th>\n",
       "      <th>Active_cases</th>\n",
       "      <th>...</th>\n",
       "      <th>population_60+</th>\n",
       "      <th>total_pop</th>\n",
       "      <th>vaccination_60+</th>\n",
       "      <th>name_h</th>\n",
       "      <th>name_e</th>\n",
       "      <th>Index</th>\n",
       "      <th>Rank</th>\n",
       "      <th>Active cases per 10,000 people - 12/1/21</th>\n",
       "      <th>60+ Vaccination [%] - 12/1/21</th>\n",
       "      <th>VNR</th>\n",
       "    </tr>\n",
       "  </thead>\n",
       "  <tbody>\n",
       "    <tr>\n",
       "      <th>0</th>\n",
       "      <td>אבו גוש</td>\n",
       "      <td>472</td>\n",
       "      <td>2021-01-12</td>\n",
       "      <td>631</td>\n",
       "      <td>478</td>\n",
       "      <td>1</td>\n",
       "      <td>10056</td>\n",
       "      <td>9719</td>\n",
       "      <td>957</td>\n",
       "      <td>152</td>\n",
       "      <td>...</td>\n",
       "      <td>724</td>\n",
       "      <td>7698</td>\n",
       "      <td>350.0</td>\n",
       "      <td>אבו גוש</td>\n",
       "      <td>ABU GHOSH</td>\n",
       "      <td>-0.783</td>\n",
       "      <td>65</td>\n",
       "      <td>197.453884</td>\n",
       "      <td>48.342541</td>\n",
       "      <td>4.084475</td>\n",
       "    </tr>\n",
       "    <tr>\n",
       "      <th>1</th>\n",
       "      <td>אבו סנאן</td>\n",
       "      <td>473</td>\n",
       "      <td>2021-01-12</td>\n",
       "      <td>864</td>\n",
       "      <td>747</td>\n",
       "      <td>1</td>\n",
       "      <td>12506</td>\n",
       "      <td>11818</td>\n",
       "      <td>1065</td>\n",
       "      <td>116</td>\n",
       "      <td>...</td>\n",
       "      <td>1446</td>\n",
       "      <td>14099</td>\n",
       "      <td>461.0</td>\n",
       "      <td>אבו סנאן</td>\n",
       "      <td>ABU SINAN</td>\n",
       "      <td>-0.792</td>\n",
       "      <td>63</td>\n",
       "      <td>82.275339</td>\n",
       "      <td>31.881051</td>\n",
       "      <td>2.580697</td>\n",
       "    </tr>\n",
       "    <tr>\n",
       "      <th>2</th>\n",
       "      <td>אבן יהודה</td>\n",
       "      <td>182</td>\n",
       "      <td>2021-01-12</td>\n",
       "      <td>380</td>\n",
       "      <td>323</td>\n",
       "      <td>1</td>\n",
       "      <td>16875</td>\n",
       "      <td>16395</td>\n",
       "      <td>3167</td>\n",
       "      <td>56</td>\n",
       "      <td>...</td>\n",
       "      <td>2519</td>\n",
       "      <td>13826</td>\n",
       "      <td>1757.0</td>\n",
       "      <td>אבן יהודה</td>\n",
       "      <td>EVEN YEHUDA</td>\n",
       "      <td>1.499</td>\n",
       "      <td>243</td>\n",
       "      <td>40.503399</td>\n",
       "      <td>69.749901</td>\n",
       "      <td>0.580695</td>\n",
       "    </tr>\n",
       "    <tr>\n",
       "      <th>3</th>\n",
       "      <td>אום אל-פחם</td>\n",
       "      <td>2710</td>\n",
       "      <td>2021-01-12</td>\n",
       "      <td>4246</td>\n",
       "      <td>3822</td>\n",
       "      <td>36</td>\n",
       "      <td>41749</td>\n",
       "      <td>39343</td>\n",
       "      <td>4788</td>\n",
       "      <td>388</td>\n",
       "      <td>...</td>\n",
       "      <td>3960</td>\n",
       "      <td>56109</td>\n",
       "      <td>1681.0</td>\n",
       "      <td>אום אל-פחם</td>\n",
       "      <td>UMM AL-FAHM</td>\n",
       "      <td>-1.413</td>\n",
       "      <td>17</td>\n",
       "      <td>69.151117</td>\n",
       "      <td>42.449495</td>\n",
       "      <td>1.629021</td>\n",
       "    </tr>\n",
       "    <tr>\n",
       "      <th>4</th>\n",
       "      <td>אופקים</td>\n",
       "      <td>31</td>\n",
       "      <td>2021-01-12</td>\n",
       "      <td>2089</td>\n",
       "      <td>1865</td>\n",
       "      <td>1</td>\n",
       "      <td>37716</td>\n",
       "      <td>36682</td>\n",
       "      <td>4449</td>\n",
       "      <td>223</td>\n",
       "      <td>...</td>\n",
       "      <td>3958</td>\n",
       "      <td>30662</td>\n",
       "      <td>1906.0</td>\n",
       "      <td>אופקים</td>\n",
       "      <td>OFAQIM</td>\n",
       "      <td>-0.703</td>\n",
       "      <td>73</td>\n",
       "      <td>72.728459</td>\n",
       "      <td>48.155634</td>\n",
       "      <td>1.510279</td>\n",
       "    </tr>\n",
       "    <tr>\n",
       "      <th>...</th>\n",
       "      <td>...</td>\n",
       "      <td>...</td>\n",
       "      <td>...</td>\n",
       "      <td>...</td>\n",
       "      <td>...</td>\n",
       "      <td>...</td>\n",
       "      <td>...</td>\n",
       "      <td>...</td>\n",
       "      <td>...</td>\n",
       "      <td>...</td>\n",
       "      <td>...</td>\n",
       "      <td>...</td>\n",
       "      <td>...</td>\n",
       "      <td>...</td>\n",
       "      <td>...</td>\n",
       "      <td>...</td>\n",
       "      <td>...</td>\n",
       "      <td>...</td>\n",
       "      <td>...</td>\n",
       "      <td>...</td>\n",
       "      <td>...</td>\n",
       "    </tr>\n",
       "    <tr>\n",
       "      <th>179</th>\n",
       "      <td>שעב</td>\n",
       "      <td>538</td>\n",
       "      <td>2021-01-12</td>\n",
       "      <td>516</td>\n",
       "      <td>452</td>\n",
       "      <td>1</td>\n",
       "      <td>7516</td>\n",
       "      <td>7311</td>\n",
       "      <td>512</td>\n",
       "      <td>63</td>\n",
       "      <td>...</td>\n",
       "      <td>481</td>\n",
       "      <td>7061</td>\n",
       "      <td>169.0</td>\n",
       "      <td>שעב</td>\n",
       "      <td>SHA'AB</td>\n",
       "      <td>-1.232</td>\n",
       "      <td>22</td>\n",
       "      <td>89.222490</td>\n",
       "      <td>35.135135</td>\n",
       "      <td>2.539409</td>\n",
       "    </tr>\n",
       "    <tr>\n",
       "      <th>180</th>\n",
       "      <td>שפרעם</td>\n",
       "      <td>8800</td>\n",
       "      <td>2021-01-12</td>\n",
       "      <td>2956</td>\n",
       "      <td>2442</td>\n",
       "      <td>25</td>\n",
       "      <td>42461</td>\n",
       "      <td>40760</td>\n",
       "      <td>4727</td>\n",
       "      <td>489</td>\n",
       "      <td>...</td>\n",
       "      <td>4492</td>\n",
       "      <td>42137</td>\n",
       "      <td>2003.0</td>\n",
       "      <td>שפרעם</td>\n",
       "      <td>SHEFAR'AM</td>\n",
       "      <td>-0.782</td>\n",
       "      <td>66</td>\n",
       "      <td>116.050027</td>\n",
       "      <td>44.590383</td>\n",
       "      <td>2.602580</td>\n",
       "    </tr>\n",
       "    <tr>\n",
       "      <th>181</th>\n",
       "      <td>תל אביב - יפו</td>\n",
       "      <td>5000</td>\n",
       "      <td>2021-01-12</td>\n",
       "      <td>15942</td>\n",
       "      <td>13587</td>\n",
       "      <td>202</td>\n",
       "      <td>481191</td>\n",
       "      <td>464651</td>\n",
       "      <td>93499</td>\n",
       "      <td>2153</td>\n",
       "      <td>...</td>\n",
       "      <td>90283</td>\n",
       "      <td>460613</td>\n",
       "      <td>56535.0</td>\n",
       "      <td>תל אביב -יפו</td>\n",
       "      <td>TEL AVIV - YAFO</td>\n",
       "      <td>1.113</td>\n",
       "      <td>215</td>\n",
       "      <td>46.742059</td>\n",
       "      <td>62.619762</td>\n",
       "      <td>0.746443</td>\n",
       "    </tr>\n",
       "    <tr>\n",
       "      <th>182</th>\n",
       "      <td>תל מונד</td>\n",
       "      <td>154</td>\n",
       "      <td>2021-01-12</td>\n",
       "      <td>317</td>\n",
       "      <td>280</td>\n",
       "      <td>1</td>\n",
       "      <td>13165</td>\n",
       "      <td>12960</td>\n",
       "      <td>2848</td>\n",
       "      <td>36</td>\n",
       "      <td>...</td>\n",
       "      <td>1577</td>\n",
       "      <td>13144</td>\n",
       "      <td>1322.0</td>\n",
       "      <td>תל מונד</td>\n",
       "      <td>TEL MOND</td>\n",
       "      <td>1.367</td>\n",
       "      <td>236</td>\n",
       "      <td>27.388923</td>\n",
       "      <td>83.830057</td>\n",
       "      <td>0.326720</td>\n",
       "    </tr>\n",
       "    <tr>\n",
       "      <th>183</th>\n",
       "      <td>תל שבע</td>\n",
       "      <td>1054</td>\n",
       "      <td>2021-01-12</td>\n",
       "      <td>243</td>\n",
       "      <td>218</td>\n",
       "      <td>1</td>\n",
       "      <td>6555</td>\n",
       "      <td>6388</td>\n",
       "      <td>427</td>\n",
       "      <td>24</td>\n",
       "      <td>...</td>\n",
       "      <td>619</td>\n",
       "      <td>20808</td>\n",
       "      <td>136.0</td>\n",
       "      <td>תל שבע</td>\n",
       "      <td>TEL SHEVA</td>\n",
       "      <td>-2.329</td>\n",
       "      <td>3</td>\n",
       "      <td>11.534025</td>\n",
       "      <td>21.970921</td>\n",
       "      <td>0.524968</td>\n",
       "    </tr>\n",
       "  </tbody>\n",
       "</table>\n",
       "<p>184 rows × 21 columns</p>\n",
       "</div>"
      ],
      "text/plain": [
       "         City_Name  City_Code        Date  Cumulative_verified_cases  \\\n",
       "0          אבו גוש        472  2021-01-12                        631   \n",
       "1         אבו סנאן        473  2021-01-12                        864   \n",
       "2        אבן יהודה        182  2021-01-12                        380   \n",
       "3       אום אל-פחם       2710  2021-01-12                       4246   \n",
       "4           אופקים         31  2021-01-12                       2089   \n",
       "..             ...        ...         ...                        ...   \n",
       "179            שעב        538  2021-01-12                        516   \n",
       "180          שפרעם       8800  2021-01-12                       2956   \n",
       "181  תל אביב - יפו       5000  2021-01-12                      15942   \n",
       "182        תל מונד        154  2021-01-12                        317   \n",
       "183         תל שבע       1054  2021-01-12                        243   \n",
       "\n",
       "     Cumulated_recovered  Cumulated_deaths Cumulated_number_of_tests  \\\n",
       "0                    478                 1                     10056   \n",
       "1                    747                 1                     12506   \n",
       "2                    323                 1                     16875   \n",
       "3                   3822                36                     41749   \n",
       "4                   1865                 1                     37716   \n",
       "..                   ...               ...                       ...   \n",
       "179                  452                 1                      7516   \n",
       "180                 2442                25                     42461   \n",
       "181                13587               202                    481191   \n",
       "182                  280                 1                     13165   \n",
       "183                  218                 1                      6555   \n",
       "\n",
       "    Cumulated_number_of_diagnostic_tests  Cumulated_vaccinated  Active_cases  \\\n",
       "0                                   9719                   957           152   \n",
       "1                                  11818                  1065           116   \n",
       "2                                  16395                  3167            56   \n",
       "3                                  39343                  4788           388   \n",
       "4                                  36682                  4449           223   \n",
       "..                                   ...                   ...           ...   \n",
       "179                                 7311                   512            63   \n",
       "180                                40760                  4727           489   \n",
       "181                               464651                 93499          2153   \n",
       "182                                12960                  2848            36   \n",
       "183                                 6388                   427            24   \n",
       "\n",
       "     ...  population_60+  total_pop  vaccination_60+        name_h  \\\n",
       "0    ...             724       7698            350.0       אבו גוש   \n",
       "1    ...            1446      14099            461.0      אבו סנאן   \n",
       "2    ...            2519      13826           1757.0     אבן יהודה   \n",
       "3    ...            3960      56109           1681.0    אום אל-פחם   \n",
       "4    ...            3958      30662           1906.0        אופקים   \n",
       "..   ...             ...        ...              ...           ...   \n",
       "179  ...             481       7061            169.0           שעב   \n",
       "180  ...            4492      42137           2003.0         שפרעם   \n",
       "181  ...           90283     460613          56535.0  תל אביב -יפו   \n",
       "182  ...            1577      13144           1322.0       תל מונד   \n",
       "183  ...             619      20808            136.0        תל שבע   \n",
       "\n",
       "              name_e  Index  Rank  Active cases per 10,000 people - 12/1/21  \\\n",
       "0          ABU GHOSH -0.783    65                                197.453884   \n",
       "1          ABU SINAN -0.792    63                                 82.275339   \n",
       "2        EVEN YEHUDA  1.499   243                                 40.503399   \n",
       "3        UMM AL-FAHM -1.413    17                                 69.151117   \n",
       "4             OFAQIM -0.703    73                                 72.728459   \n",
       "..               ...    ...   ...                                       ...   \n",
       "179           SHA'AB -1.232    22                                 89.222490   \n",
       "180        SHEFAR'AM -0.782    66                                116.050027   \n",
       "181  TEL AVIV - YAFO  1.113   215                                 46.742059   \n",
       "182         TEL MOND  1.367   236                                 27.388923   \n",
       "183        TEL SHEVA -2.329     3                                 11.534025   \n",
       "\n",
       "     60+ Vaccination [%] - 12/1/21       VNR  \n",
       "0                        48.342541  4.084475  \n",
       "1                        31.881051  2.580697  \n",
       "2                        69.749901  0.580695  \n",
       "3                        42.449495  1.629021  \n",
       "4                        48.155634  1.510279  \n",
       "..                             ...       ...  \n",
       "179                      35.135135  2.539409  \n",
       "180                      44.590383  2.602580  \n",
       "181                      62.619762  0.746443  \n",
       "182                      83.830057  0.326720  \n",
       "183                      21.970921  0.524968  \n",
       "\n",
       "[184 rows x 21 columns]"
      ]
     },
     "execution_count": 45,
     "metadata": {},
     "output_type": "execute_result"
    }
   ],
   "source": [
    "show_table = bubble_table.copy()\n",
    "show_table"
   ]
  },
  {
   "cell_type": "code",
   "execution_count": 47,
   "id": "sealed-theology",
   "metadata": {},
   "outputs": [
    {
     "data": {
      "text/html": [
       "<div>\n",
       "<style scoped>\n",
       "    .dataframe tbody tr th:only-of-type {\n",
       "        vertical-align: middle;\n",
       "    }\n",
       "\n",
       "    .dataframe tbody tr th {\n",
       "        vertical-align: top;\n",
       "    }\n",
       "\n",
       "    .dataframe thead th {\n",
       "        text-align: right;\n",
       "    }\n",
       "</style>\n",
       "<table border=\"1\" class=\"dataframe\">\n",
       "  <thead>\n",
       "    <tr style=\"text-align: right;\">\n",
       "      <th></th>\n",
       "      <th>City_Name</th>\n",
       "      <th>City_Code</th>\n",
       "      <th>Date</th>\n",
       "      <th>Cumulative_verified_cases</th>\n",
       "      <th>Cumulated_recovered</th>\n",
       "      <th>Cumulated_deaths</th>\n",
       "      <th>Cumulated_number_of_tests</th>\n",
       "      <th>Cumulated_number_of_diagnostic_tests</th>\n",
       "      <th>Cumulated_vaccinated</th>\n",
       "      <th>Active_cases</th>\n",
       "      <th>...</th>\n",
       "      <th>population_60+</th>\n",
       "      <th>total_pop</th>\n",
       "      <th>vaccination_60+</th>\n",
       "      <th>name_h</th>\n",
       "      <th>name_e</th>\n",
       "      <th>Index</th>\n",
       "      <th>Rank</th>\n",
       "      <th>Active cases per 10,000 people - 12/1/21</th>\n",
       "      <th>60+ Vaccination [%] - 12/1/21</th>\n",
       "      <th>VNR</th>\n",
       "    </tr>\n",
       "  </thead>\n",
       "  <tbody>\n",
       "    <tr>\n",
       "      <th>1</th>\n",
       "      <td>אבו סנאן</td>\n",
       "      <td>473</td>\n",
       "      <td>2021-01-12</td>\n",
       "      <td>864</td>\n",
       "      <td>747</td>\n",
       "      <td>1</td>\n",
       "      <td>12506</td>\n",
       "      <td>11818</td>\n",
       "      <td>1065</td>\n",
       "      <td>116</td>\n",
       "      <td>...</td>\n",
       "      <td>1446</td>\n",
       "      <td>14099</td>\n",
       "      <td>461.0</td>\n",
       "      <td>אבו סנאן</td>\n",
       "      <td>ABU SINAN</td>\n",
       "      <td>-0.792</td>\n",
       "      <td>63</td>\n",
       "      <td>82.275339</td>\n",
       "      <td>31.881051</td>\n",
       "      <td>2.580697</td>\n",
       "    </tr>\n",
       "    <tr>\n",
       "      <th>2</th>\n",
       "      <td>אבן יהודה</td>\n",
       "      <td>182</td>\n",
       "      <td>2021-01-12</td>\n",
       "      <td>380</td>\n",
       "      <td>323</td>\n",
       "      <td>1</td>\n",
       "      <td>16875</td>\n",
       "      <td>16395</td>\n",
       "      <td>3167</td>\n",
       "      <td>56</td>\n",
       "      <td>...</td>\n",
       "      <td>2519</td>\n",
       "      <td>13826</td>\n",
       "      <td>1757.0</td>\n",
       "      <td>אבן יהודה</td>\n",
       "      <td>EVEN YEHUDA</td>\n",
       "      <td>1.499</td>\n",
       "      <td>243</td>\n",
       "      <td>40.503399</td>\n",
       "      <td>69.749901</td>\n",
       "      <td>0.580695</td>\n",
       "    </tr>\n",
       "    <tr>\n",
       "      <th>3</th>\n",
       "      <td>אום אל-פחם</td>\n",
       "      <td>2710</td>\n",
       "      <td>2021-01-12</td>\n",
       "      <td>4246</td>\n",
       "      <td>3822</td>\n",
       "      <td>36</td>\n",
       "      <td>41749</td>\n",
       "      <td>39343</td>\n",
       "      <td>4788</td>\n",
       "      <td>388</td>\n",
       "      <td>...</td>\n",
       "      <td>3960</td>\n",
       "      <td>56109</td>\n",
       "      <td>1681.0</td>\n",
       "      <td>אום אל-פחם</td>\n",
       "      <td>UMM AL-FAHM</td>\n",
       "      <td>-1.413</td>\n",
       "      <td>17</td>\n",
       "      <td>69.151117</td>\n",
       "      <td>42.449495</td>\n",
       "      <td>1.629021</td>\n",
       "    </tr>\n",
       "    <tr>\n",
       "      <th>4</th>\n",
       "      <td>אופקים</td>\n",
       "      <td>31</td>\n",
       "      <td>2021-01-12</td>\n",
       "      <td>2089</td>\n",
       "      <td>1865</td>\n",
       "      <td>1</td>\n",
       "      <td>37716</td>\n",
       "      <td>36682</td>\n",
       "      <td>4449</td>\n",
       "      <td>223</td>\n",
       "      <td>...</td>\n",
       "      <td>3958</td>\n",
       "      <td>30662</td>\n",
       "      <td>1906.0</td>\n",
       "      <td>אופקים</td>\n",
       "      <td>OFAQIM</td>\n",
       "      <td>-0.703</td>\n",
       "      <td>73</td>\n",
       "      <td>72.728459</td>\n",
       "      <td>48.155634</td>\n",
       "      <td>1.510279</td>\n",
       "    </tr>\n",
       "    <tr>\n",
       "      <th>5</th>\n",
       "      <td>אור יהודה</td>\n",
       "      <td>2400</td>\n",
       "      <td>2021-01-12</td>\n",
       "      <td>2441</td>\n",
       "      <td>2186</td>\n",
       "      <td>22</td>\n",
       "      <td>41394</td>\n",
       "      <td>38856</td>\n",
       "      <td>6291</td>\n",
       "      <td>233</td>\n",
       "      <td>...</td>\n",
       "      <td>6743</td>\n",
       "      <td>36813</td>\n",
       "      <td>3941.0</td>\n",
       "      <td>אור יהודה</td>\n",
       "      <td>OR YEHUDA</td>\n",
       "      <td>0.120</td>\n",
       "      <td>136</td>\n",
       "      <td>63.292859</td>\n",
       "      <td>58.445796</td>\n",
       "      <td>1.082933</td>\n",
       "    </tr>\n",
       "    <tr>\n",
       "      <th>...</th>\n",
       "      <td>...</td>\n",
       "      <td>...</td>\n",
       "      <td>...</td>\n",
       "      <td>...</td>\n",
       "      <td>...</td>\n",
       "      <td>...</td>\n",
       "      <td>...</td>\n",
       "      <td>...</td>\n",
       "      <td>...</td>\n",
       "      <td>...</td>\n",
       "      <td>...</td>\n",
       "      <td>...</td>\n",
       "      <td>...</td>\n",
       "      <td>...</td>\n",
       "      <td>...</td>\n",
       "      <td>...</td>\n",
       "      <td>...</td>\n",
       "      <td>...</td>\n",
       "      <td>...</td>\n",
       "      <td>...</td>\n",
       "      <td>...</td>\n",
       "    </tr>\n",
       "    <tr>\n",
       "      <th>177</th>\n",
       "      <td>שוהם</td>\n",
       "      <td>1304</td>\n",
       "      <td>2021-01-12</td>\n",
       "      <td>693</td>\n",
       "      <td>600</td>\n",
       "      <td>1</td>\n",
       "      <td>24324</td>\n",
       "      <td>23741</td>\n",
       "      <td>5206</td>\n",
       "      <td>92</td>\n",
       "      <td>...</td>\n",
       "      <td>2566</td>\n",
       "      <td>21045</td>\n",
       "      <td>2289.0</td>\n",
       "      <td>שוהם</td>\n",
       "      <td>SHOHAM</td>\n",
       "      <td>1.671</td>\n",
       "      <td>248</td>\n",
       "      <td>43.715847</td>\n",
       "      <td>89.204988</td>\n",
       "      <td>0.490061</td>\n",
       "    </tr>\n",
       "    <tr>\n",
       "      <th>178</th>\n",
       "      <td>שלומי</td>\n",
       "      <td>812</td>\n",
       "      <td>2021-01-12</td>\n",
       "      <td>293</td>\n",
       "      <td>243</td>\n",
       "      <td>1</td>\n",
       "      <td>8052</td>\n",
       "      <td>7829</td>\n",
       "      <td>1370</td>\n",
       "      <td>49</td>\n",
       "      <td>...</td>\n",
       "      <td>1129</td>\n",
       "      <td>6511</td>\n",
       "      <td>661.0</td>\n",
       "      <td>שלומי</td>\n",
       "      <td>SHELOMI</td>\n",
       "      <td>0.188</td>\n",
       "      <td>141</td>\n",
       "      <td>75.257257</td>\n",
       "      <td>58.547387</td>\n",
       "      <td>1.285408</td>\n",
       "    </tr>\n",
       "    <tr>\n",
       "      <th>180</th>\n",
       "      <td>שפרעם</td>\n",
       "      <td>8800</td>\n",
       "      <td>2021-01-12</td>\n",
       "      <td>2956</td>\n",
       "      <td>2442</td>\n",
       "      <td>25</td>\n",
       "      <td>42461</td>\n",
       "      <td>40760</td>\n",
       "      <td>4727</td>\n",
       "      <td>489</td>\n",
       "      <td>...</td>\n",
       "      <td>4492</td>\n",
       "      <td>42137</td>\n",
       "      <td>2003.0</td>\n",
       "      <td>שפרעם</td>\n",
       "      <td>SHEFAR'AM</td>\n",
       "      <td>-0.782</td>\n",
       "      <td>66</td>\n",
       "      <td>116.050027</td>\n",
       "      <td>44.590383</td>\n",
       "      <td>2.602580</td>\n",
       "    </tr>\n",
       "    <tr>\n",
       "      <th>181</th>\n",
       "      <td>תל אביב - יפו</td>\n",
       "      <td>5000</td>\n",
       "      <td>2021-01-12</td>\n",
       "      <td>15942</td>\n",
       "      <td>13587</td>\n",
       "      <td>202</td>\n",
       "      <td>481191</td>\n",
       "      <td>464651</td>\n",
       "      <td>93499</td>\n",
       "      <td>2153</td>\n",
       "      <td>...</td>\n",
       "      <td>90283</td>\n",
       "      <td>460613</td>\n",
       "      <td>56535.0</td>\n",
       "      <td>תל אביב -יפו</td>\n",
       "      <td>TEL AVIV - YAFO</td>\n",
       "      <td>1.113</td>\n",
       "      <td>215</td>\n",
       "      <td>46.742059</td>\n",
       "      <td>62.619762</td>\n",
       "      <td>0.746443</td>\n",
       "    </tr>\n",
       "    <tr>\n",
       "      <th>182</th>\n",
       "      <td>תל מונד</td>\n",
       "      <td>154</td>\n",
       "      <td>2021-01-12</td>\n",
       "      <td>317</td>\n",
       "      <td>280</td>\n",
       "      <td>1</td>\n",
       "      <td>13165</td>\n",
       "      <td>12960</td>\n",
       "      <td>2848</td>\n",
       "      <td>36</td>\n",
       "      <td>...</td>\n",
       "      <td>1577</td>\n",
       "      <td>13144</td>\n",
       "      <td>1322.0</td>\n",
       "      <td>תל מונד</td>\n",
       "      <td>TEL MOND</td>\n",
       "      <td>1.367</td>\n",
       "      <td>236</td>\n",
       "      <td>27.388923</td>\n",
       "      <td>83.830057</td>\n",
       "      <td>0.326720</td>\n",
       "    </tr>\n",
       "  </tbody>\n",
       "</table>\n",
       "<p>137 rows × 21 columns</p>\n",
       "</div>"
      ],
      "text/plain": [
       "         City_Name  City_Code        Date  Cumulative_verified_cases  \\\n",
       "1         אבו סנאן        473  2021-01-12                        864   \n",
       "2        אבן יהודה        182  2021-01-12                        380   \n",
       "3       אום אל-פחם       2710  2021-01-12                       4246   \n",
       "4           אופקים         31  2021-01-12                       2089   \n",
       "5        אור יהודה       2400  2021-01-12                       2441   \n",
       "..             ...        ...         ...                        ...   \n",
       "177           שוהם       1304  2021-01-12                        693   \n",
       "178          שלומי        812  2021-01-12                        293   \n",
       "180          שפרעם       8800  2021-01-12                       2956   \n",
       "181  תל אביב - יפו       5000  2021-01-12                      15942   \n",
       "182        תל מונד        154  2021-01-12                        317   \n",
       "\n",
       "     Cumulated_recovered  Cumulated_deaths Cumulated_number_of_tests  \\\n",
       "1                    747                 1                     12506   \n",
       "2                    323                 1                     16875   \n",
       "3                   3822                36                     41749   \n",
       "4                   1865                 1                     37716   \n",
       "5                   2186                22                     41394   \n",
       "..                   ...               ...                       ...   \n",
       "177                  600                 1                     24324   \n",
       "178                  243                 1                      8052   \n",
       "180                 2442                25                     42461   \n",
       "181                13587               202                    481191   \n",
       "182                  280                 1                     13165   \n",
       "\n",
       "    Cumulated_number_of_diagnostic_tests  Cumulated_vaccinated  Active_cases  \\\n",
       "1                                  11818                  1065           116   \n",
       "2                                  16395                  3167            56   \n",
       "3                                  39343                  4788           388   \n",
       "4                                  36682                  4449           223   \n",
       "5                                  38856                  6291           233   \n",
       "..                                   ...                   ...           ...   \n",
       "177                                23741                  5206            92   \n",
       "178                                 7829                  1370            49   \n",
       "180                                40760                  4727           489   \n",
       "181                               464651                 93499          2153   \n",
       "182                                12960                  2848            36   \n",
       "\n",
       "     ...  population_60+  total_pop  vaccination_60+        name_h  \\\n",
       "1    ...            1446      14099            461.0      אבו סנאן   \n",
       "2    ...            2519      13826           1757.0     אבן יהודה   \n",
       "3    ...            3960      56109           1681.0    אום אל-פחם   \n",
       "4    ...            3958      30662           1906.0        אופקים   \n",
       "5    ...            6743      36813           3941.0     אור יהודה   \n",
       "..   ...             ...        ...              ...           ...   \n",
       "177  ...            2566      21045           2289.0          שוהם   \n",
       "178  ...            1129       6511            661.0         שלומי   \n",
       "180  ...            4492      42137           2003.0         שפרעם   \n",
       "181  ...           90283     460613          56535.0  תל אביב -יפו   \n",
       "182  ...            1577      13144           1322.0       תל מונד   \n",
       "\n",
       "              name_e  Index  Rank  Active cases per 10,000 people - 12/1/21  \\\n",
       "1          ABU SINAN -0.792    63                                 82.275339   \n",
       "2        EVEN YEHUDA  1.499   243                                 40.503399   \n",
       "3        UMM AL-FAHM -1.413    17                                 69.151117   \n",
       "4             OFAQIM -0.703    73                                 72.728459   \n",
       "5          OR YEHUDA  0.120   136                                 63.292859   \n",
       "..               ...    ...   ...                                       ...   \n",
       "177           SHOHAM  1.671   248                                 43.715847   \n",
       "178          SHELOMI  0.188   141                                 75.257257   \n",
       "180        SHEFAR'AM -0.782    66                                116.050027   \n",
       "181  TEL AVIV - YAFO  1.113   215                                 46.742059   \n",
       "182         TEL MOND  1.367   236                                 27.388923   \n",
       "\n",
       "     60+ Vaccination [%] - 12/1/21       VNR  \n",
       "1                        31.881051  2.580697  \n",
       "2                        69.749901  0.580695  \n",
       "3                        42.449495  1.629021  \n",
       "4                        48.155634  1.510279  \n",
       "5                        58.445796  1.082933  \n",
       "..                             ...       ...  \n",
       "177                      89.204988  0.490061  \n",
       "178                      58.547387  1.285408  \n",
       "180                      44.590383  2.602580  \n",
       "181                      62.619762  0.746443  \n",
       "182                      83.830057  0.326720  \n",
       "\n",
       "[137 rows x 21 columns]"
      ]
     },
     "execution_count": 47,
     "metadata": {},
     "output_type": "execute_result"
    }
   ],
   "source": [
    "if not full_graphs:\n",
    "    # remove cities where 60+ population is less then 1000\n",
    "    show_table.drop(show_table.loc[show_table['population_60+'] < 1000].index, inplace=True)\n",
    "    if cases_signal is \"Active_cases\":\n",
    "        chosen_x_range = [20, 300]\n",
    "    elif cases_signal is \"Cumulative_verified_cases\":\n",
    "        chosen_x_range = [180, 1700]\n",
    "    else:\n",
    "        print(\"x_range was not specified. using None.\")\n",
    "    chosen_y_range = [21, 91]\n",
    "else:\n",
    "    chosen_x_range = None\n",
    "    chosen_y_range = None\n",
    "\n",
    "show_table"
   ]
  },
  {
   "cell_type": "code",
   "execution_count": 48,
   "id": "supported-kentucky",
   "metadata": {},
   "outputs": [],
   "source": [
    "# remove text of cities with total population less then 30k\n",
    "show_table[\"text\"] = show_table[\"name_e\"]\n",
    "show_table.loc[(show_table.total_pop < 30000), \"text\"] = \"\""
   ]
  },
  {
   "cell_type": "markdown",
   "id": "thirty-feelings",
   "metadata": {},
   "source": [
    "#### 60+ Vaccination vs. Active cases per 10,000 people"
   ]
  },
  {
   "cell_type": "code",
   "execution_count": 51,
   "id": "strategic-decimal",
   "metadata": {},
   "outputs": [
    {
     "data": {
      "application/vnd.plotly.v1+json": {
       "config": {
        "plotlyServerURL": "https://plot.ly"
       },
       "data": [
        {
         "customdata": [
          [
           1065,
           1446,
           461
          ],
          [
           3167,
           2519,
           1757
          ],
          [
           4788,
           3960,
           1681
          ],
          [
           4449,
           3958,
           1906
          ],
          [
           6291,
           6743,
           3941
          ],
          [
           3255,
           3768,
           1714
          ],
          [
           1888,
           1160,
           951
          ],
          [
           2339,
           2577,
           1548
          ],
          [
           10819,
           8043,
           5697
          ],
          [
           1742,
           1094,
           610
          ],
          [
           1731,
           1246,
           515
          ],
          [
           1581,
           1151,
           801
          ],
          [
           1315,
           1298,
           547
          ],
          [
           2244,
           1121,
           816
          ],
          [
           3470,
           3519,
           1880
          ],
          [
           37822,
           44391,
           20105
          ],
          [
           27883,
           30206,
           15321
          ],
          [
           4371,
           2494,
           1421
          ],
          [
           4034,
           2902,
           1838
          ],
          [
           46585,
           44496,
           22287
          ],
          [
           1077,
           1286,
           420
          ],
          [
           1273,
           1256,
           710
          ],
          [
           3551,
           3042,
           2065
          ],
          [
           10163,
           7152,
           3799
          ],
          [
           2136,
           1060,
           373
          ],
          [
           14658,
           18711,
           8781
          ],
          [
           1038,
           1792,
           616
          ],
          [
           2631,
           1997,
           1162
          ],
          [
           25495,
           36629,
           18541
          ],
          [
           2677,
           2117,
           1393
          ],
          [
           5609,
           4294,
           2964
          ],
          [
           13551,
           12500,
           8303
          ],
          [
           1751,
           1857,
           720
          ],
          [
           4992,
           4067,
           2385
          ],
          [
           4307,
           2715,
           1739
          ],
          [
           5135,
           3930,
           3065
          ],
          [
           1693,
           1187,
           572
          ],
          [
           2703,
           2124,
           1012
          ],
          [
           1228,
           1036,
           372
          ],
          [
           1268,
           1014,
           450
          ],
          [
           8917,
           6170,
           3711
          ],
          [
           15274,
           11813,
           8388
          ],
          [
           25181,
           24016,
           16514
          ],
          [
           5237,
           3923,
           2748
          ],
          [
           19532,
           20256,
           11133
          ],
          [
           39301,
           44356,
           26933
          ],
          [
           70146,
           73933,
           43935
          ],
          [
           2273,
           1530,
           1126
          ],
          [
           9756,
           8537,
           5244
          ],
          [
           1047,
           1190,
           420
          ],
          [
           2974,
           3756,
           1248
          ],
          [
           3061,
           2806,
           1152
          ],
          [
           5130,
           4777,
           3027
          ],
          [
           4598,
           2946,
           1584
          ],
          [
           8720,
           7822,
           5023
          ],
          [
           6624,
           6452,
           4303
          ],
          [
           1421,
           1795,
           566
          ],
          [
           5529,
           3618,
           2443
          ],
          [
           2457,
           1323,
           789
          ],
          [
           101863,
           116491,
           55393
          ],
          [
           1026,
           1525,
           413
          ],
          [
           1540,
           1027,
           464
          ],
          [
           2376,
           1750,
           1387
          ],
          [
           1864,
           1277,
           1069
          ],
          [
           1570,
           1293,
           753
          ],
          [
           4636,
           3338,
           2326
          ],
          [
           3616,
           1831,
           1041
          ],
          [
           1549,
           1203,
           498
          ],
          [
           27016,
           24450,
           16703
          ],
          [
           2240,
           1572,
           732
          ],
          [
           2144,
           1727,
           759
          ],
          [
           11234,
           11420,
           6114
          ],
          [
           2704,
           1246,
           1080
          ],
          [
           10336,
           13068,
           5786
          ],
          [
           6928,
           5251,
           4008
          ],
          [
           2655,
           1994,
           965
          ],
          [
           1226,
           1266,
           494
          ],
          [
           5165,
           5162,
           3038
          ],
          [
           1563,
           1224,
           528
          ],
          [
           20471,
           11228,
           8686
          ],
          [
           3119,
           1875,
           1380
          ],
          [
           3129,
           1274,
           1109
          ],
          [
           7889,
           5712,
           3633
          ],
          [
           1233,
           1170,
           413
          ],
          [
           4079,
           4485,
           1955
          ],
          [
           15164,
           13617,
           9092
          ],
          [
           9206,
           10234,
           4827
          ],
          [
           11153,
           8679,
           5773
          ],
          [
           8588,
           9659,
           3968
          ],
          [
           6068,
           5810,
           3324
          ],
          [
           3623,
           3483,
           1591
          ],
          [
           40710,
           51379,
           26422
          ],
          [
           6581,
           2527,
           1762
          ],
          [
           3109,
           1871,
           1562
          ],
          [
           772,
           1065,
           234
          ],
          [
           10157,
           9665,
           5619
          ],
          [
           1582,
           1652,
           739
          ],
          [
           12393,
           10827,
           6475
          ],
          [
           2934,
           1886,
           907
          ],
          [
           6277,
           5324,
           2752
          ],
          [
           1905,
           2251,
           690
          ],
          [
           766,
           1086,
           277
          ],
          [
           7764,
           6854,
           4012
          ],
          [
           1800,
           1170,
           1054
          ],
          [
           49707,
           50818,
           30070
          ],
          [
           4467,
           5001,
           2400
          ],
          [
           3069,
           2853,
           1486
          ],
          [
           1760,
           1596,
           610
          ],
          [
           1817,
           1551,
           947
          ],
          [
           9872,
           7626,
           5599
          ],
          [
           13190,
           13026,
           7948
          ],
          [
           11428,
           10548,
           7177
          ],
          [
           8439,
           10055,
           4746
          ],
          [
           5434,
           4609,
           3480
          ],
          [
           9788,
           11817,
           5886
          ],
          [
           12882,
           11845,
           8153
          ],
          [
           2585,
           3481,
           1557
          ],
          [
           1890,
           2090,
           1152
          ],
          [
           6423,
           4463,
           3281
          ],
          [
           1460,
           1044,
           764
          ],
          [
           1186,
           1163,
           558
          ],
          [
           10730,
           8082,
           5519
          ],
          [
           53627,
           59038,
           34942
          ],
          [
           4095,
           2379,
           954
          ],
          [
           27244,
           28696,
           15725
          ],
          [
           1188,
           1779,
           487
          ],
          [
           11397,
           12963,
           6385
          ],
          [
           35849,
           36633,
           22519
          ],
          [
           13317,
           10999,
           8613
          ],
          [
           2364,
           1532,
           1307
          ],
          [
           20123,
           18208,
           12285
          ],
          [
           4366,
           3984,
           1943
          ],
          [
           5206,
           2566,
           2289
          ],
          [
           1370,
           1129,
           661
          ],
          [
           4727,
           4492,
           2003
          ],
          [
           93499,
           90283,
           56535
          ],
          [
           2848,
           1577,
           1322
          ]
         ],
         "hovertemplate": "<b>%{hovertext}</b><br><br>Accumulated Cases per 10,000 = %{x: .0f}<br>60+ Vaccination = %{y: .0f}%<br><br>Accumulated 60+ Vaccinated = %{customdata[2]: .0f}<br>Population over 60 = %{customdata[1]: .0f}<br>Accumulated Vaccinated = %{customdata[0]: .0f}<br>Accumulated Cases = %{marker.size}<br><br>Vaccination Need Ratio = %{marker.color:.3f}<br>",
         "hovertext": [
          "ABU SINAN",
          "EVEN YEHUDA",
          "UMM AL-FAHM",
          "OFAQIM",
          "OR YEHUDA",
          "OR AQIVA",
          "ORANIT",
          "AZOR",
          "ELAT",
          "IKSAL",
          "EL'AD",
          "ALFE MENASHE",
          "I'BILLIN",
          "EFRAT",
          "ARI'EL",
          "ASHDOD",
          "ASHQELON",
          "BAQA AL-GHARBIYYE",
          "BE'ER YA'AQOV",
          "BE'ER SHEVA",
          "BEIT JANN",
          "BET DAGAN",
          "BET SHE'AN",
          "BET SHEMESH",
          "BETAR ILLIT",
          "BENE BERAQ",
          "BENE AYISH",
          "BINYAMINA-GIV'AT ADA",
          "BAT YAM",
          "GIV'AT ZE'EV",
          "GIV'AT SHEMU'EL",
          "GIV'ATAYIM",
          "JUDEIDE-MAKER",
          "GEDERA",
          "GAN YAVNE",
          "GANNE TIQWA",
          "JATT",
          "DALIYAT AL-KARMEL",
          "DABURIYYA",
          "DEIR AL-ASAD",
          "DIMONA",
          "HOD HASHARON",
          "HERZLIYYA",
          "ZIKHRON YA'AQOV",
          "HADERA",
          "HOLON",
          "HAIFA",
          "HAZOR HAGELILIT",
          "TIBERIAS",
          "TUR'AN",
          "TAYIBE",
          "TIRE",
          "TIRAT KARMEL",
          "TAMRA",
          "YAVNE",
          "YEHUD",
          "YAFI",
          "YOQNE'AM ILLIT",
          "YEROHAM",
          "JERUSALEM",
          "YIRKA",
          "KABUL",
          "KOKHAV YA'IR",
          "KEFAR WERADIM",
          "KAFAR YASIF",
          "KEFAR YONA",
          "KAFAR KANNA",
          "KAFAR MANDA",
          "KEFAR SAVA",
          "KAFAR QASEM",
          "KAFAR QARA",
          "KARMI'EL",
          "LEHAVIM",
          "LOD",
          "MEVASSERET ZIYYON",
          "MUGHAR",
          "MAJD AL-KURUM",
          "MIGDAL HAEMEQ",
          "MAJDAL SHAMS",
          "MODI'IN-MAKKABBIM-RE'UT",
          "MAZKERET BATYA",
          "METAR",
          "MA'ALE ADUMMIM",
          "MA'ALE IRON",
          "MA'ALOT-TARSHIHA",
          "NAHARIYYA",
          "NAZERAT ILLIT",
          "NES ZIYYONA",
          "NAZARETH",
          "NESHER",
          "NETIVOT",
          "NETANYA",
          "SAKHNIN",
          "OMER",
          "EIN MAHEL",
          "AKKO",
          "ISIFYA",
          "AFULA",
          "ARRABE",
          "ARAD",
          "AR'ARA",
          "FUREIDIS",
          "PARDES HANNA-KARKUR",
          "PARDESIYYA",
          "PETAH TIQWA",
          "ZEFAT",
          "QADIMA-ZORAN",
          "QALANSAWE",
          "QAZRIN",
          "QIRYAT ONO",
          "QIRYAT ATTA",
          "QIRYAT BIALIK",
          "QIRYAT GAT",
          "QIRYAT TIV'ON",
          "QIRYAT YAM",
          "QIRYAT MOTZKIN",
          "QIRYAT MAL'AKHI",
          "QIRYAT EQRON",
          "QIRYAT SHEMONA",
          "QARNE SHOMERON",
          "RAME",
          "ROSH HAAYIN",
          "RISHON LEZIYYON",
          "RAHAT",
          "REHOVOT",
          "REINE",
          "RAMLA",
          "RAMAT GAN",
          "RAMAT HASHARON",
          "RAMAT YISHAY",
          "RA'ANNANA",
          "SEDEROT",
          "SHOHAM",
          "SHELOMI",
          "SHEFAR'AM",
          "TEL AVIV - YAFO",
          "TEL MOND"
         ],
         "legendgroup": "",
         "marker": {
          "color": [
           2.580697174104593,
           0.5806947243573081,
           1.62902094969415,
           1.5102793255481712,
           1.0829326183017893,
           1.7497012732145214,
           0.2588007216829562,
           0.9893039170111274,
           0.4130188709850914,
           1.0675253708040595,
           6.742793407941601,
           0.4698289612833053,
           2.1045269644063107,
           1.716264656889963,
           0.88396020220017,
           1.8205914705500634,
           1.0140087765893098,
           0.7735341214950088,
           0.8187848390315654,
           1.0511553996719953,
           3.0871633713063598,
           1.0927334770462167,
           1.1648398454056006,
           3.620356958466258,
           7.901677740480583,
           4.319200497050351,
           1.250683967794888,
           0.33619137911615454,
           1.0305605138696015,
           3.42395629457977,
           1.1283189682617782,
           0.3723731812727819,
           1.486832364661595,
           0.6203504831177032,
           0.9026411196768369,
           1.2131982999964652,
           1.1319135410044503,
           3.328997814477558,
           1.9078604094410856,
           1.2604549571146981,
           0.804806704704775,
           0.44584769656993933,
           0.4491008987353397,
           0.6951519339286469,
           0.7570550647678996,
           0.9305050089949497,
           1.1784117260895626,
           2.505969193139795,
           1.3487831049713783,
           3.0442415730337076,
           1.2529508733185053,
           1.394381256067758,
           0.9900868530290956,
           2.482177409122629,
           1.282834487259625,
           0.7164425234863773,
           3.5934888305383312,
           0.6161356383950439,
           1.9709883050483097,
           3.472178690665423,
           2.645022162063606,
           2.4968043204364476,
           0.26098467945364556,
           0.675023795582053,
           2.0335120585456457,
           0.631301572755406,
           2.4739282659604616,
           1.1128226000892814,
           0.541178657846661,
           1.4693748911886364,
           0.5982128296457514,
           1.0459475732366987,
           0.48558067030397506,
           1.6963365541177005,
           1.459815277145692,
           1.7191591127453645,
           2.454140727225574,
           1.303725033060622,
           3.9604000650512274,
           0.6000616965586971,
           0.35714181057344885,
           0.7562595731635277,
           1.586470761565049,
           2.3505889330254934,
           1.744016896005517,
           0.8610378555730018,
           1.7983795861462766,
           0.49564202035127575,
           3.4134767077155694,
           1.0061176096781441,
           2.402498390991279,
           1.0752661259936453,
           1.8864649093491312,
           0.4772204396243452,
           5.665637949102515,
           1.2505071788558622,
           2.8606936770898934,
           1.0972829208405246,
           1.5535200632030066,
           2.451140061607568,
           1.8867044988102104,
           2.8116167709383966,
           0.6235959532066189,
           0.1497547286335521,
           1.4122099599260032,
           3.0539805784894996,
           0.6432740938972267,
           1.0740067279487548,
           0.5386773491413274,
           0.6640097501705536,
           1.2604809459010249,
           0.7233217717631908,
           2.2111920533784315,
           0.4967507972434081,
           1.2076969756756677,
           1.1440737384259065,
           2.224540066579513,
           1.154408942621378,
           0.761337324350512,
           0.7055030136087039,
           3.398200093501636,
           1.1089419245123746,
           0.65555817567544,
           0.5550345059283004,
           1.0893087884415438,
           2.9030029436470812,
           1.794681769356744,
           0.7920850634104993,
           0.4135560059376117,
           0.48180859056933195,
           0.7349645630760971,
           1.63233668508527,
           0.49006056525984343,
           1.2854076111391615,
           2.602579743361676,
           0.7464426122494261,
           0.3267195998611447
          ],
          "coloraxis": "coloraxis",
          "size": [
           1446,
           2519,
           3960,
           3958,
           6743,
           3768,
           1160,
           2577,
           8043,
           1094,
           1246,
           1151,
           1298,
           1121,
           3519,
           44391,
           30206,
           2494,
           2902,
           44496,
           1286,
           1256,
           3042,
           7152,
           1060,
           18711,
           1792,
           1997,
           36629,
           2117,
           4294,
           12500,
           1857,
           4067,
           2715,
           3930,
           1187,
           2124,
           1036,
           1014,
           6170,
           11813,
           24016,
           3923,
           20256,
           44356,
           73933,
           1530,
           8537,
           1190,
           3756,
           2806,
           4777,
           2946,
           7822,
           6452,
           1795,
           3618,
           1323,
           116491,
           1525,
           1027,
           1750,
           1277,
           1293,
           3338,
           1831,
           1203,
           24450,
           1572,
           1727,
           11420,
           1246,
           13068,
           5251,
           1994,
           1266,
           5162,
           1224,
           11228,
           1875,
           1274,
           5712,
           1170,
           4485,
           13617,
           10234,
           8679,
           9659,
           5810,
           3483,
           51379,
           2527,
           1871,
           1065,
           9665,
           1652,
           10827,
           1886,
           5324,
           2251,
           1086,
           6854,
           1170,
           50818,
           5001,
           2853,
           1596,
           1551,
           7626,
           13026,
           10548,
           10055,
           4609,
           11817,
           11845,
           3481,
           2090,
           4463,
           1044,
           1163,
           8082,
           59038,
           2379,
           28696,
           1779,
           12963,
           36633,
           10999,
           1532,
           18208,
           3984,
           2566,
           1129,
           4492,
           90283,
           1577
          ],
          "sizemode": "area",
          "sizeref": 8.089652777777777,
          "symbol": "circle"
         },
         "mode": "markers+text",
         "name": "",
         "orientation": "v",
         "showlegend": false,
         "text": [
          "",
          "",
          "UMM AL-FAHM",
          "OFAQIM",
          "OR YEHUDA",
          "",
          "",
          "",
          "ELAT",
          "",
          "EL'AD",
          "",
          "",
          "",
          "",
          "ASHDOD",
          "ASHQELON",
          "",
          "",
          "BE'ER SHEVA",
          "",
          "",
          "",
          "BET SHEMESH",
          "BETAR ILLIT",
          "BENE BERAQ",
          "",
          "",
          "BAT YAM",
          "",
          "",
          "GIV'ATAYIM",
          "",
          "",
          "",
          "",
          "",
          "",
          "",
          "",
          "DIMONA",
          "HOD HASHARON",
          "HERZLIYYA",
          "",
          "HADERA",
          "HOLON",
          "HAIFA",
          "",
          "TIBERIAS",
          "",
          "TAYIBE",
          "",
          "",
          "TAMRA",
          "YAVNE",
          "",
          "",
          "",
          "",
          "JERUSALEM",
          "",
          "",
          "",
          "",
          "",
          "",
          "",
          "",
          "KEFAR SAVA",
          "",
          "",
          "KARMI'EL",
          "",
          "LOD",
          "",
          "",
          "",
          "",
          "",
          "MODI'IN-MAKKABBIM-RE'UT",
          "",
          "",
          "MA'ALE ADUMMIM",
          "",
          "",
          "NAHARIYYA",
          "NAZERAT ILLIT",
          "NES ZIYYONA",
          "NAZARETH",
          "",
          "NETIVOT",
          "NETANYA",
          "SAKHNIN",
          "",
          "",
          "AKKO",
          "",
          "AFULA",
          "",
          "",
          "",
          "",
          "PARDES HANNA-KARKUR",
          "",
          "PETAH TIQWA",
          "ZEFAT",
          "",
          "",
          "",
          "QIRYAT ONO",
          "QIRYAT ATTA",
          "QIRYAT BIALIK",
          "QIRYAT GAT",
          "",
          "QIRYAT YAM",
          "QIRYAT MOTZKIN",
          "",
          "",
          "",
          "",
          "",
          "ROSH HAAYIN",
          "RISHON LEZIYYON",
          "RAHAT",
          "REHOVOT",
          "",
          "RAMLA",
          "RAMAT GAN",
          "RAMAT HASHARON",
          "",
          "RA'ANNANA",
          "",
          "",
          "",
          "SHEFAR'AM",
          "TEL AVIV - YAFO",
          ""
         ],
         "type": "scatter",
         "x": [
          82.27533867650189,
          40.503399392449005,
          69.15111657666328,
          72.72845867849456,
          63.29285850107299,
          79.5909761754164,
          21.21719709659408,
          59.427336574824416,
          29.254861469626572,
          59.523809523809526,
          278.6949121259972,
          32.69617706237425,
          88.68846298384067,
          124.9305941143809,
          47.22492697176242,
          82.45588411031295,
          51.43226003484345,
          44.073455759599334,
          51.85825410544511,
          52.64990199678569,
          100.8249312557287,
          61.770761839396016,
          79.07279029462738,
          192.30615331674096,
          278.0496035093639,
          202.6984103714346,
          42.992261392949274,
          19.562062219978547,
          52.16528566888608,
          225.2985884907709,
          77.8839641809015,
          24.734516192863268,
          57.647781505457644,
          36.379048493624836,
          57.81557668942981,
          94.61711932542406,
          54.54545454545455,
          158.6132668668215,
          68.50618458610847,
          55.93735016781205,
          48.405797101449274,
          31.658092599920856,
          30.881296809274648,
          48.69430319744893,
          41.608876560332874,
          56.500341345614984,
          70.02761850018926,
          184.4262295081967,
          82.85133656401439,
          107.4438202247191,
          41.63159451281935,
          57.246158481470324,
          62.737971616476294,
          133.4612700628053,
          82.37890091415362,
          47.781341887195936,
          113.31000992115294,
          41.6036308623298,
          117.54420050514862,
          165.1066556317911,
          71.63240347096848,
          112.8059595601277,
          20.68490002298322,
          56.507473569084944,
          118.42494818908516,
          43.99063685527484,
          140.65315810294052,
          46.06697047751139,
          36.97058127612588,
          68.42127355916551,
          26.290882322010727,
          55.99757848309262,
          42.08885424785659,
          75.10715719410021,
          111.425245301846,
          83.1990242627521,
          95.7618893561954,
          76.72833495618306,
          170.84078711985688,
          46.42087545697224,
          26.285637258205835,
          65.83138670630707,
          100.90420652601232,
          82.97378028542981,
          76.02124931306099,
          57.491049297714135,
          84.82292615133943,
          32.96856070385891,
          140.22854929304668,
          57.56170283253272,
          109.7437536625646,
          55.29629144398314,
          131.5374424326541,
          39.8406374501992,
          124.48443944506937,
          72.70149858242203,
          127.96928737103096,
          65.6221198156682,
          74.71064142763133,
          126.70055314695769,
          57.833234303822536,
          71.71435041896278,
          36.502290111831854,
          13.49072512647555,
          83.5632128280824,
          146.5617554164127,
          33.5052682625755,
          41.049129326362184,
          32.89022886117583,
          48.75151575144152,
          76.91004573945452,
          49.215778876985404,
          104.36914455826987,
          37.50689464975179,
          60.15489886457628,
          78.74743089393344,
          99.50039884126119,
          63.630579038269246,
          55.97014925373135,
          51.62876459741856,
          163.04347826086956,
          75.7269299849517,
          38.79961003836719,
          22.25737362991167,
          59.692572826328664,
          79.46950160517868,
          88.3980798992734,
          48.690971372644974,
          32.38437929939676,
          41.10468850353244,
          49.58831094787924,
          79.60919124298896,
          43.715846994535525,
          75.2572569497773,
          116.0500272919287,
          46.742058951875,
          27.388922702373705
         ],
         "xaxis": "x",
         "y": [
          31.88105117565698,
          69.74990075426757,
          42.44949494949495,
          48.155634158666,
          58.445795639922885,
          45.48832271762208,
          81.98275862068965,
          60.06984866123399,
          70.83177918687056,
          55.758683729433265,
          41.3322632423756,
          69.59165942658558,
          42.14175654853621,
          72.7921498661909,
          53.42426825802785,
          45.29071208127773,
          50.721710918360586,
          56.97674418604651,
          63.33563059958649,
          50.08764832793959,
          32.65940902021773,
          56.52866242038217,
          67.88297172912557,
          53.11800894854586,
          35.18867924528302,
          46.92961359628026,
          34.375,
          58.187280921382076,
          50.618362499658744,
          65.80066131317903,
          69.02654867256636,
          66.424,
          38.77221324717286,
          58.642734202114575,
          64.05156537753223,
          77.98982188295165,
          48.188711036225776,
          47.64595103578154,
          35.907335907335906,
          44.37869822485207,
          60.14586709886548,
          71.00651824261406,
          68.76249167221852,
          70.04843232220239,
          54.96149289099526,
          60.72008296510055,
          59.425425723290004,
          73.59477124183007,
          61.426730701651636,
          35.294117647058826,
          33.22683706070288,
          41.054882394868145,
          63.36612936989743,
          53.76782077393075,
          64.21631296343647,
          66.692498450093,
          31.53203342618384,
          67.52349364289663,
          59.63718820861678,
          47.55131297696818,
          27.081967213114755,
          45.18013631937682,
          79.25714285714285,
          83.71182458888019,
          58.23665893271461,
          69.68244457759137,
          56.85417804478428,
          41.39650872817955,
          68.31492842535786,
          46.56488549618321,
          43.94904458598726,
          53.53765323992995,
          86.67736757624398,
          44.27609427609428,
          76.3283184155399,
          48.395185556670015,
          39.02053712480253,
          58.85315769081751,
          43.13725490196079,
          77.36017100106875,
          73.6,
          87.04866562009418,
          63.60294117647059,
          35.2991452991453,
          43.58974358974359,
          66.76947932731146,
          47.166308383818645,
          66.51687982486462,
          41.08085723159747,
          57.211703958691906,
          45.67901234567901,
          51.42567975242803,
          69.72694895132568,
          83.48476750400854,
          21.971830985915496,
          58.137609932747026,
          44.73365617433414,
          59.80419322065207,
          48.09119830328738,
          51.69045830202855,
          30.65304309195913,
          25.50644567219153,
          58.53516194922673,
          90.08547008547009,
          59.17194694793183,
          47.990401919616076,
          52.085524009814236,
          38.22055137844612,
          61.05738233397808,
          73.41987936008393,
          61.01642868109934,
          68.04133485020857,
          47.20039781203381,
          75.50444781948362,
          49.809596344249805,
          68.83073026593499,
          44.72852628555013,
          55.11961722488038,
          73.51557248487565,
          73.18007662835248,
          47.97936371453139,
          68.28755258599357,
          59.18560926860666,
          40.10088272383354,
          54.79857819905213,
          27.374929735806635,
          49.25557355550413,
          61.471896923538885,
          78.30711882898446,
          85.31331592689295,
          67.47034270650263,
          48.77008032128514,
          89.2049883086516,
          58.54738706820195,
          44.59038290293856,
          62.61976230298063,
          83.83005707038681
         ],
         "yaxis": "y"
        }
       ],
       "layout": {
        "coloraxis": {
         "cmax": 2.5894502018074266,
         "cmin": 0.6706181774174533,
         "colorbar": {
          "title": {
           "text": "VNR"
          }
         },
         "colorscale": [
          [
           0,
           "rgb(0,155,0)"
          ],
          [
           0.5,
           "rgb(255,137,0)"
          ],
          [
           1,
           "rgb(255,0,0)"
          ]
         ]
        },
        "font": {
         "size": 11
        },
        "height": 1000,
        "legend": {
         "itemsizing": "constant",
         "tracegroupgap": 0
        },
        "margin": {
         "b": 0,
         "l": 0,
         "r": 0,
         "t": 150
        },
        "template": {
         "data": {
          "bar": [
           {
            "error_x": {
             "color": "#2a3f5f"
            },
            "error_y": {
             "color": "#2a3f5f"
            },
            "marker": {
             "line": {
              "color": "white",
              "width": 0.5
             }
            },
            "type": "bar"
           }
          ],
          "barpolar": [
           {
            "marker": {
             "line": {
              "color": "white",
              "width": 0.5
             }
            },
            "type": "barpolar"
           }
          ],
          "carpet": [
           {
            "aaxis": {
             "endlinecolor": "#2a3f5f",
             "gridcolor": "#C8D4E3",
             "linecolor": "#C8D4E3",
             "minorgridcolor": "#C8D4E3",
             "startlinecolor": "#2a3f5f"
            },
            "baxis": {
             "endlinecolor": "#2a3f5f",
             "gridcolor": "#C8D4E3",
             "linecolor": "#C8D4E3",
             "minorgridcolor": "#C8D4E3",
             "startlinecolor": "#2a3f5f"
            },
            "type": "carpet"
           }
          ],
          "choropleth": [
           {
            "colorbar": {
             "outlinewidth": 0,
             "ticks": ""
            },
            "type": "choropleth"
           }
          ],
          "contour": [
           {
            "colorbar": {
             "outlinewidth": 0,
             "ticks": ""
            },
            "colorscale": [
             [
              0,
              "#0d0887"
             ],
             [
              0.1111111111111111,
              "#46039f"
             ],
             [
              0.2222222222222222,
              "#7201a8"
             ],
             [
              0.3333333333333333,
              "#9c179e"
             ],
             [
              0.4444444444444444,
              "#bd3786"
             ],
             [
              0.5555555555555556,
              "#d8576b"
             ],
             [
              0.6666666666666666,
              "#ed7953"
             ],
             [
              0.7777777777777778,
              "#fb9f3a"
             ],
             [
              0.8888888888888888,
              "#fdca26"
             ],
             [
              1,
              "#f0f921"
             ]
            ],
            "type": "contour"
           }
          ],
          "contourcarpet": [
           {
            "colorbar": {
             "outlinewidth": 0,
             "ticks": ""
            },
            "type": "contourcarpet"
           }
          ],
          "heatmap": [
           {
            "colorbar": {
             "outlinewidth": 0,
             "ticks": ""
            },
            "colorscale": [
             [
              0,
              "#0d0887"
             ],
             [
              0.1111111111111111,
              "#46039f"
             ],
             [
              0.2222222222222222,
              "#7201a8"
             ],
             [
              0.3333333333333333,
              "#9c179e"
             ],
             [
              0.4444444444444444,
              "#bd3786"
             ],
             [
              0.5555555555555556,
              "#d8576b"
             ],
             [
              0.6666666666666666,
              "#ed7953"
             ],
             [
              0.7777777777777778,
              "#fb9f3a"
             ],
             [
              0.8888888888888888,
              "#fdca26"
             ],
             [
              1,
              "#f0f921"
             ]
            ],
            "type": "heatmap"
           }
          ],
          "heatmapgl": [
           {
            "colorbar": {
             "outlinewidth": 0,
             "ticks": ""
            },
            "colorscale": [
             [
              0,
              "#0d0887"
             ],
             [
              0.1111111111111111,
              "#46039f"
             ],
             [
              0.2222222222222222,
              "#7201a8"
             ],
             [
              0.3333333333333333,
              "#9c179e"
             ],
             [
              0.4444444444444444,
              "#bd3786"
             ],
             [
              0.5555555555555556,
              "#d8576b"
             ],
             [
              0.6666666666666666,
              "#ed7953"
             ],
             [
              0.7777777777777778,
              "#fb9f3a"
             ],
             [
              0.8888888888888888,
              "#fdca26"
             ],
             [
              1,
              "#f0f921"
             ]
            ],
            "type": "heatmapgl"
           }
          ],
          "histogram": [
           {
            "marker": {
             "colorbar": {
              "outlinewidth": 0,
              "ticks": ""
             }
            },
            "type": "histogram"
           }
          ],
          "histogram2d": [
           {
            "colorbar": {
             "outlinewidth": 0,
             "ticks": ""
            },
            "colorscale": [
             [
              0,
              "#0d0887"
             ],
             [
              0.1111111111111111,
              "#46039f"
             ],
             [
              0.2222222222222222,
              "#7201a8"
             ],
             [
              0.3333333333333333,
              "#9c179e"
             ],
             [
              0.4444444444444444,
              "#bd3786"
             ],
             [
              0.5555555555555556,
              "#d8576b"
             ],
             [
              0.6666666666666666,
              "#ed7953"
             ],
             [
              0.7777777777777778,
              "#fb9f3a"
             ],
             [
              0.8888888888888888,
              "#fdca26"
             ],
             [
              1,
              "#f0f921"
             ]
            ],
            "type": "histogram2d"
           }
          ],
          "histogram2dcontour": [
           {
            "colorbar": {
             "outlinewidth": 0,
             "ticks": ""
            },
            "colorscale": [
             [
              0,
              "#0d0887"
             ],
             [
              0.1111111111111111,
              "#46039f"
             ],
             [
              0.2222222222222222,
              "#7201a8"
             ],
             [
              0.3333333333333333,
              "#9c179e"
             ],
             [
              0.4444444444444444,
              "#bd3786"
             ],
             [
              0.5555555555555556,
              "#d8576b"
             ],
             [
              0.6666666666666666,
              "#ed7953"
             ],
             [
              0.7777777777777778,
              "#fb9f3a"
             ],
             [
              0.8888888888888888,
              "#fdca26"
             ],
             [
              1,
              "#f0f921"
             ]
            ],
            "type": "histogram2dcontour"
           }
          ],
          "mesh3d": [
           {
            "colorbar": {
             "outlinewidth": 0,
             "ticks": ""
            },
            "type": "mesh3d"
           }
          ],
          "parcoords": [
           {
            "line": {
             "colorbar": {
              "outlinewidth": 0,
              "ticks": ""
             }
            },
            "type": "parcoords"
           }
          ],
          "pie": [
           {
            "automargin": true,
            "type": "pie"
           }
          ],
          "scatter": [
           {
            "marker": {
             "colorbar": {
              "outlinewidth": 0,
              "ticks": ""
             }
            },
            "type": "scatter"
           }
          ],
          "scatter3d": [
           {
            "line": {
             "colorbar": {
              "outlinewidth": 0,
              "ticks": ""
             }
            },
            "marker": {
             "colorbar": {
              "outlinewidth": 0,
              "ticks": ""
             }
            },
            "type": "scatter3d"
           }
          ],
          "scattercarpet": [
           {
            "marker": {
             "colorbar": {
              "outlinewidth": 0,
              "ticks": ""
             }
            },
            "type": "scattercarpet"
           }
          ],
          "scattergeo": [
           {
            "marker": {
             "colorbar": {
              "outlinewidth": 0,
              "ticks": ""
             }
            },
            "type": "scattergeo"
           }
          ],
          "scattergl": [
           {
            "marker": {
             "colorbar": {
              "outlinewidth": 0,
              "ticks": ""
             }
            },
            "type": "scattergl"
           }
          ],
          "scattermapbox": [
           {
            "marker": {
             "colorbar": {
              "outlinewidth": 0,
              "ticks": ""
             }
            },
            "type": "scattermapbox"
           }
          ],
          "scatterpolar": [
           {
            "marker": {
             "colorbar": {
              "outlinewidth": 0,
              "ticks": ""
             }
            },
            "type": "scatterpolar"
           }
          ],
          "scatterpolargl": [
           {
            "marker": {
             "colorbar": {
              "outlinewidth": 0,
              "ticks": ""
             }
            },
            "type": "scatterpolargl"
           }
          ],
          "scatterternary": [
           {
            "marker": {
             "colorbar": {
              "outlinewidth": 0,
              "ticks": ""
             }
            },
            "type": "scatterternary"
           }
          ],
          "surface": [
           {
            "colorbar": {
             "outlinewidth": 0,
             "ticks": ""
            },
            "colorscale": [
             [
              0,
              "#0d0887"
             ],
             [
              0.1111111111111111,
              "#46039f"
             ],
             [
              0.2222222222222222,
              "#7201a8"
             ],
             [
              0.3333333333333333,
              "#9c179e"
             ],
             [
              0.4444444444444444,
              "#bd3786"
             ],
             [
              0.5555555555555556,
              "#d8576b"
             ],
             [
              0.6666666666666666,
              "#ed7953"
             ],
             [
              0.7777777777777778,
              "#fb9f3a"
             ],
             [
              0.8888888888888888,
              "#fdca26"
             ],
             [
              1,
              "#f0f921"
             ]
            ],
            "type": "surface"
           }
          ],
          "table": [
           {
            "cells": {
             "fill": {
              "color": "#EBF0F8"
             },
             "line": {
              "color": "white"
             }
            },
            "header": {
             "fill": {
              "color": "#C8D4E3"
             },
             "line": {
              "color": "white"
             }
            },
            "type": "table"
           }
          ]
         },
         "layout": {
          "annotationdefaults": {
           "arrowcolor": "#2a3f5f",
           "arrowhead": 0,
           "arrowwidth": 1
          },
          "autotypenumbers": "strict",
          "coloraxis": {
           "colorbar": {
            "outlinewidth": 0,
            "ticks": ""
           }
          },
          "colorscale": {
           "diverging": [
            [
             0,
             "#8e0152"
            ],
            [
             0.1,
             "#c51b7d"
            ],
            [
             0.2,
             "#de77ae"
            ],
            [
             0.3,
             "#f1b6da"
            ],
            [
             0.4,
             "#fde0ef"
            ],
            [
             0.5,
             "#f7f7f7"
            ],
            [
             0.6,
             "#e6f5d0"
            ],
            [
             0.7,
             "#b8e186"
            ],
            [
             0.8,
             "#7fbc41"
            ],
            [
             0.9,
             "#4d9221"
            ],
            [
             1,
             "#276419"
            ]
           ],
           "sequential": [
            [
             0,
             "#0d0887"
            ],
            [
             0.1111111111111111,
             "#46039f"
            ],
            [
             0.2222222222222222,
             "#7201a8"
            ],
            [
             0.3333333333333333,
             "#9c179e"
            ],
            [
             0.4444444444444444,
             "#bd3786"
            ],
            [
             0.5555555555555556,
             "#d8576b"
            ],
            [
             0.6666666666666666,
             "#ed7953"
            ],
            [
             0.7777777777777778,
             "#fb9f3a"
            ],
            [
             0.8888888888888888,
             "#fdca26"
            ],
            [
             1,
             "#f0f921"
            ]
           ],
           "sequentialminus": [
            [
             0,
             "#0d0887"
            ],
            [
             0.1111111111111111,
             "#46039f"
            ],
            [
             0.2222222222222222,
             "#7201a8"
            ],
            [
             0.3333333333333333,
             "#9c179e"
            ],
            [
             0.4444444444444444,
             "#bd3786"
            ],
            [
             0.5555555555555556,
             "#d8576b"
            ],
            [
             0.6666666666666666,
             "#ed7953"
            ],
            [
             0.7777777777777778,
             "#fb9f3a"
            ],
            [
             0.8888888888888888,
             "#fdca26"
            ],
            [
             1,
             "#f0f921"
            ]
           ]
          },
          "colorway": [
           "#636efa",
           "#EF553B",
           "#00cc96",
           "#ab63fa",
           "#FFA15A",
           "#19d3f3",
           "#FF6692",
           "#B6E880",
           "#FF97FF",
           "#FECB52"
          ],
          "font": {
           "color": "#2a3f5f"
          },
          "geo": {
           "bgcolor": "white",
           "lakecolor": "white",
           "landcolor": "white",
           "showlakes": true,
           "showland": true,
           "subunitcolor": "#C8D4E3"
          },
          "hoverlabel": {
           "align": "left"
          },
          "hovermode": "closest",
          "mapbox": {
           "style": "light"
          },
          "paper_bgcolor": "white",
          "plot_bgcolor": "white",
          "polar": {
           "angularaxis": {
            "gridcolor": "#EBF0F8",
            "linecolor": "#EBF0F8",
            "ticks": ""
           },
           "bgcolor": "white",
           "radialaxis": {
            "gridcolor": "#EBF0F8",
            "linecolor": "#EBF0F8",
            "ticks": ""
           }
          },
          "scene": {
           "xaxis": {
            "backgroundcolor": "white",
            "gridcolor": "#DFE8F3",
            "gridwidth": 2,
            "linecolor": "#EBF0F8",
            "showbackground": true,
            "ticks": "",
            "zerolinecolor": "#EBF0F8"
           },
           "yaxis": {
            "backgroundcolor": "white",
            "gridcolor": "#DFE8F3",
            "gridwidth": 2,
            "linecolor": "#EBF0F8",
            "showbackground": true,
            "ticks": "",
            "zerolinecolor": "#EBF0F8"
           },
           "zaxis": {
            "backgroundcolor": "white",
            "gridcolor": "#DFE8F3",
            "gridwidth": 2,
            "linecolor": "#EBF0F8",
            "showbackground": true,
            "ticks": "",
            "zerolinecolor": "#EBF0F8"
           }
          },
          "shapedefaults": {
           "line": {
            "color": "#2a3f5f"
           }
          },
          "ternary": {
           "aaxis": {
            "gridcolor": "#DFE8F3",
            "linecolor": "#A2B1C6",
            "ticks": ""
           },
           "baxis": {
            "gridcolor": "#DFE8F3",
            "linecolor": "#A2B1C6",
            "ticks": ""
           },
           "bgcolor": "white",
           "caxis": {
            "gridcolor": "#DFE8F3",
            "linecolor": "#A2B1C6",
            "ticks": ""
           }
          },
          "title": {
           "x": 0.05
          },
          "xaxis": {
           "automargin": true,
           "gridcolor": "#EBF0F8",
           "linecolor": "#EBF0F8",
           "ticks": "",
           "title": {
            "standoff": 15
           },
           "zerolinecolor": "#EBF0F8",
           "zerolinewidth": 2
          },
          "yaxis": {
           "automargin": true,
           "gridcolor": "#EBF0F8",
           "linecolor": "#EBF0F8",
           "ticks": "",
           "title": {
            "standoff": 15
           },
           "zerolinecolor": "#EBF0F8",
           "zerolinewidth": 2
          }
         }
        },
        "title": {
         "text": "<b>60+ Vaccination vs. Active cases per 10,000 people  <br>Size = Population 60+, Color = Vaccination Need Ratio (VNR)<b>",
         "x": 0.5
        },
        "xaxis": {
         "anchor": "y",
         "domain": [
          0,
          1
         ],
         "range": [
          1.301029995663981,
          2.477121254719662
         ],
         "title": {
          "text": "<b>Active cases per 10,000 people - 12/1/21 (Logarithmic Scale)"
         },
         "type": "log"
        },
        "yaxis": {
         "anchor": "x",
         "domain": [
          0,
          1
         ],
         "range": [
          21,
          91
         ],
         "title": {
          "text": "<b>60+ Vaccination [%] - 12/1/21<b>"
         }
        }
       }
      },
      "text/html": [
       "<div>                            <div id=\"c0c4d8d9-ef6a-403d-9c6e-e4a90649a61f\" class=\"plotly-graph-div\" style=\"height:1000px; width:100%;\"></div>            <script type=\"text/javascript\">                require([\"plotly\"], function(Plotly) {                    window.PLOTLYENV=window.PLOTLYENV || {};                                    if (document.getElementById(\"c0c4d8d9-ef6a-403d-9c6e-e4a90649a61f\")) {                    Plotly.newPlot(                        \"c0c4d8d9-ef6a-403d-9c6e-e4a90649a61f\",                        [{\"customdata\": [[1065.0, 1446.0, 461.0], [3167.0, 2519.0, 1757.0], [4788.0, 3960.0, 1681.0], [4449.0, 3958.0, 1906.0], [6291.0, 6743.0, 3941.0], [3255.0, 3768.0, 1714.0], [1888.0, 1160.0, 951.0], [2339.0, 2577.0, 1548.0], [10819.0, 8043.0, 5697.0], [1742.0, 1094.0, 610.0], [1731.0, 1246.0, 515.0], [1581.0, 1151.0, 801.0], [1315.0, 1298.0, 547.0], [2244.0, 1121.0, 816.0], [3470.0, 3519.0, 1880.0], [37822.0, 44391.0, 20105.0], [27883.0, 30206.0, 15321.0], [4371.0, 2494.0, 1421.0], [4034.0, 2902.0, 1838.0], [46585.0, 44496.0, 22287.0], [1077.0, 1286.0, 420.0], [1273.0, 1256.0, 710.0], [3551.0, 3042.0, 2065.0], [10163.0, 7152.0, 3799.0], [2136.0, 1060.0, 373.0], [14658.0, 18711.0, 8781.0], [1038.0, 1792.0, 616.0], [2631.0, 1997.0, 1162.0], [25495.0, 36629.0, 18541.0], [2677.0, 2117.0, 1393.0], [5609.0, 4294.0, 2964.0], [13551.0, 12500.0, 8303.0], [1751.0, 1857.0, 720.0], [4992.0, 4067.0, 2385.0], [4307.0, 2715.0, 1739.0], [5135.0, 3930.0, 3065.0], [1693.0, 1187.0, 572.0], [2703.0, 2124.0, 1012.0], [1228.0, 1036.0, 372.0], [1268.0, 1014.0, 450.0], [8917.0, 6170.0, 3711.0], [15274.0, 11813.0, 8388.0], [25181.0, 24016.0, 16514.0], [5237.0, 3923.0, 2748.0], [19532.0, 20256.0, 11133.0], [39301.0, 44356.0, 26933.0], [70146.0, 73933.0, 43935.0], [2273.0, 1530.0, 1126.0], [9756.0, 8537.0, 5244.0], [1047.0, 1190.0, 420.0], [2974.0, 3756.0, 1248.0], [3061.0, 2806.0, 1152.0], [5130.0, 4777.0, 3027.0], [4598.0, 2946.0, 1584.0], [8720.0, 7822.0, 5023.0], [6624.0, 6452.0, 4303.0], [1421.0, 1795.0, 566.0], [5529.0, 3618.0, 2443.0], [2457.0, 1323.0, 789.0], [101863.0, 116491.0, 55393.0], [1026.0, 1525.0, 413.0], [1540.0, 1027.0, 464.0], [2376.0, 1750.0, 1387.0], [1864.0, 1277.0, 1069.0], [1570.0, 1293.0, 753.0], [4636.0, 3338.0, 2326.0], [3616.0, 1831.0, 1041.0], [1549.0, 1203.0, 498.0], [27016.0, 24450.0, 16703.0], [2240.0, 1572.0, 732.0], [2144.0, 1727.0, 759.0], [11234.0, 11420.0, 6114.0], [2704.0, 1246.0, 1080.0], [10336.0, 13068.0, 5786.0], [6928.0, 5251.0, 4008.0], [2655.0, 1994.0, 965.0], [1226.0, 1266.0, 494.0], [5165.0, 5162.0, 3038.0], [1563.0, 1224.0, 528.0], [20471.0, 11228.0, 8686.0], [3119.0, 1875.0, 1380.0], [3129.0, 1274.0, 1109.0], [7889.0, 5712.0, 3633.0], [1233.0, 1170.0, 413.0], [4079.0, 4485.0, 1955.0], [15164.0, 13617.0, 9092.0], [9206.0, 10234.0, 4827.0], [11153.0, 8679.0, 5773.0], [8588.0, 9659.0, 3968.0], [6068.0, 5810.0, 3324.0], [3623.0, 3483.0, 1591.0], [40710.0, 51379.0, 26422.0], [6581.0, 2527.0, 1762.0], [3109.0, 1871.0, 1562.0], [772.0, 1065.0, 234.0], [10157.0, 9665.0, 5619.0], [1582.0, 1652.0, 739.0], [12393.0, 10827.0, 6475.0], [2934.0, 1886.0, 907.0], [6277.0, 5324.0, 2752.0], [1905.0, 2251.0, 690.0], [766.0, 1086.0, 277.0], [7764.0, 6854.0, 4012.0], [1800.0, 1170.0, 1054.0], [49707.0, 50818.0, 30070.0], [4467.0, 5001.0, 2400.0], [3069.0, 2853.0, 1486.0], [1760.0, 1596.0, 610.0], [1817.0, 1551.0, 947.0], [9872.0, 7626.0, 5599.0], [13190.0, 13026.0, 7948.0], [11428.0, 10548.0, 7177.0], [8439.0, 10055.0, 4746.0], [5434.0, 4609.0, 3480.0], [9788.0, 11817.0, 5886.0], [12882.0, 11845.0, 8153.0], [2585.0, 3481.0, 1557.0], [1890.0, 2090.0, 1152.0], [6423.0, 4463.0, 3281.0], [1460.0, 1044.0, 764.0], [1186.0, 1163.0, 558.0], [10730.0, 8082.0, 5519.0], [53627.0, 59038.0, 34942.0], [4095.0, 2379.0, 954.0], [27244.0, 28696.0, 15725.0], [1188.0, 1779.0, 487.0], [11397.0, 12963.0, 6385.0], [35849.0, 36633.0, 22519.0], [13317.0, 10999.0, 8613.0], [2364.0, 1532.0, 1307.0], [20123.0, 18208.0, 12285.0], [4366.0, 3984.0, 1943.0], [5206.0, 2566.0, 2289.0], [1370.0, 1129.0, 661.0], [4727.0, 4492.0, 2003.0], [93499.0, 90283.0, 56535.0], [2848.0, 1577.0, 1322.0]], \"hovertemplate\": \"<b>%{hovertext}</b><br><br>Accumulated Cases per 10,000 = %{x: .0f}<br>60+ Vaccination = %{y: .0f}%<br><br>Accumulated 60+ Vaccinated = %{customdata[2]: .0f}<br>Population over 60 = %{customdata[1]: .0f}<br>Accumulated Vaccinated = %{customdata[0]: .0f}<br>Accumulated Cases = %{marker.size}<br><br>Vaccination Need Ratio = %{marker.color:.3f}<br>\", \"hovertext\": [\"ABU SINAN\", \"EVEN YEHUDA\", \"UMM AL-FAHM\", \"OFAQIM\", \"OR YEHUDA\", \"OR AQIVA\", \"ORANIT\", \"AZOR\", \"ELAT\", \"IKSAL\", \"EL'AD\", \"ALFE MENASHE\", \"I'BILLIN\", \"EFRAT\", \"ARI'EL\", \"ASHDOD\", \"ASHQELON\", \"BAQA AL-GHARBIYYE\", \"BE'ER YA'AQOV\", \"BE'ER SHEVA\", \"BEIT JANN\", \"BET DAGAN\", \"BET SHE'AN\", \"BET SHEMESH\", \"BETAR ILLIT\", \"BENE BERAQ\", \"BENE AYISH\", \"BINYAMINA-GIV'AT ADA\", \"BAT YAM\", \"GIV'AT ZE'EV\", \"GIV'AT SHEMU'EL\", \"GIV'ATAYIM\", \"JUDEIDE-MAKER\", \"GEDERA\", \"GAN YAVNE\", \"GANNE TIQWA\", \"JATT\", \"DALIYAT AL-KARMEL\", \"DABURIYYA\", \"DEIR AL-ASAD\", \"DIMONA\", \"HOD HASHARON\", \"HERZLIYYA\", \"ZIKHRON YA'AQOV\", \"HADERA\", \"HOLON\", \"HAIFA\", \"HAZOR HAGELILIT\", \"TIBERIAS\", \"TUR'AN\", \"TAYIBE\", \"TIRE\", \"TIRAT KARMEL\", \"TAMRA\", \"YAVNE\", \"YEHUD\", \"YAFI\", \"YOQNE'AM ILLIT\", \"YEROHAM\", \"JERUSALEM\", \"YIRKA\", \"KABUL\", \"KOKHAV YA'IR\", \"KEFAR WERADIM\", \"KAFAR YASIF\", \"KEFAR YONA\", \"KAFAR KANNA\", \"KAFAR MANDA\", \"KEFAR SAVA\", \"KAFAR QASEM\", \"KAFAR QARA\", \"KARMI'EL\", \"LEHAVIM\", \"LOD\", \"MEVASSERET ZIYYON\", \"MUGHAR\", \"MAJD AL-KURUM\", \"MIGDAL HAEMEQ\", \"MAJDAL SHAMS\", \"MODI'IN-MAKKABBIM-RE'UT\", \"MAZKERET BATYA\", \"METAR\", \"MA'ALE ADUMMIM\", \"MA'ALE IRON\", \"MA'ALOT-TARSHIHA\", \"NAHARIYYA\", \"NAZERAT ILLIT\", \"NES ZIYYONA\", \"NAZARETH\", \"NESHER\", \"NETIVOT\", \"NETANYA\", \"SAKHNIN\", \"OMER\", \"EIN MAHEL\", \"AKKO\", \"ISIFYA\", \"AFULA\", \"ARRABE\", \"ARAD\", \"AR'ARA\", \"FUREIDIS\", \"PARDES HANNA-KARKUR\", \"PARDESIYYA\", \"PETAH TIQWA\", \"ZEFAT\", \"QADIMA-ZORAN\", \"QALANSAWE\", \"QAZRIN\", \"QIRYAT ONO\", \"QIRYAT ATTA\", \"QIRYAT BIALIK\", \"QIRYAT GAT\", \"QIRYAT TIV'ON\", \"QIRYAT YAM\", \"QIRYAT MOTZKIN\", \"QIRYAT MAL'AKHI\", \"QIRYAT EQRON\", \"QIRYAT SHEMONA\", \"QARNE SHOMERON\", \"RAME\", \"ROSH HAAYIN\", \"RISHON LEZIYYON\", \"RAHAT\", \"REHOVOT\", \"REINE\", \"RAMLA\", \"RAMAT GAN\", \"RAMAT HASHARON\", \"RAMAT YISHAY\", \"RA'ANNANA\", \"SEDEROT\", \"SHOHAM\", \"SHELOMI\", \"SHEFAR'AM\", \"TEL AVIV - YAFO\", \"TEL MOND\"], \"legendgroup\": \"\", \"marker\": {\"color\": [2.580697174104593, 0.5806947243573081, 1.62902094969415, 1.5102793255481712, 1.0829326183017893, 1.7497012732145214, 0.2588007216829562, 0.9893039170111274, 0.4130188709850914, 1.0675253708040595, 6.742793407941601, 0.4698289612833053, 2.1045269644063107, 1.716264656889963, 0.88396020220017, 1.8205914705500634, 1.0140087765893098, 0.7735341214950088, 0.8187848390315654, 1.0511553996719953, 3.0871633713063598, 1.0927334770462167, 1.1648398454056006, 3.620356958466258, 7.901677740480583, 4.319200497050351, 1.250683967794888, 0.33619137911615454, 1.0305605138696015, 3.42395629457977, 1.1283189682617782, 0.3723731812727819, 1.486832364661595, 0.6203504831177032, 0.9026411196768369, 1.2131982999964652, 1.1319135410044503, 3.328997814477558, 1.9078604094410856, 1.2604549571146981, 0.804806704704775, 0.44584769656993933, 0.4491008987353397, 0.6951519339286469, 0.7570550647678996, 0.9305050089949497, 1.1784117260895626, 2.505969193139795, 1.3487831049713783, 3.0442415730337076, 1.2529508733185053, 1.394381256067758, 0.9900868530290956, 2.482177409122629, 1.282834487259625, 0.7164425234863773, 3.5934888305383312, 0.6161356383950439, 1.9709883050483097, 3.472178690665423, 2.645022162063606, 2.4968043204364476, 0.26098467945364556, 0.675023795582053, 2.0335120585456457, 0.631301572755406, 2.4739282659604616, 1.1128226000892814, 0.541178657846661, 1.4693748911886364, 0.5982128296457514, 1.0459475732366987, 0.48558067030397506, 1.6963365541177005, 1.459815277145692, 1.7191591127453645, 2.454140727225574, 1.303725033060622, 3.9604000650512274, 0.6000616965586971, 0.35714181057344885, 0.7562595731635277, 1.586470761565049, 2.3505889330254934, 1.744016896005517, 0.8610378555730018, 1.7983795861462766, 0.49564202035127575, 3.4134767077155694, 1.0061176096781441, 2.402498390991279, 1.0752661259936453, 1.8864649093491312, 0.4772204396243452, 5.665637949102515, 1.2505071788558622, 2.8606936770898934, 1.0972829208405246, 1.5535200632030066, 2.451140061607568, 1.8867044988102104, 2.8116167709383966, 0.6235959532066189, 0.1497547286335521, 1.4122099599260032, 3.0539805784894996, 0.6432740938972267, 1.0740067279487548, 0.5386773491413274, 0.6640097501705536, 1.2604809459010249, 0.7233217717631908, 2.2111920533784315, 0.4967507972434081, 1.2076969756756677, 1.1440737384259065, 2.224540066579513, 1.154408942621378, 0.761337324350512, 0.7055030136087039, 3.398200093501636, 1.1089419245123746, 0.65555817567544, 0.5550345059283004, 1.0893087884415438, 2.9030029436470812, 1.794681769356744, 0.7920850634104993, 0.4135560059376117, 0.48180859056933195, 0.7349645630760971, 1.63233668508527, 0.49006056525984343, 1.2854076111391615, 2.602579743361676, 0.7464426122494261, 0.3267195998611447], \"coloraxis\": \"coloraxis\", \"size\": [1446, 2519, 3960, 3958, 6743, 3768, 1160, 2577, 8043, 1094, 1246, 1151, 1298, 1121, 3519, 44391, 30206, 2494, 2902, 44496, 1286, 1256, 3042, 7152, 1060, 18711, 1792, 1997, 36629, 2117, 4294, 12500, 1857, 4067, 2715, 3930, 1187, 2124, 1036, 1014, 6170, 11813, 24016, 3923, 20256, 44356, 73933, 1530, 8537, 1190, 3756, 2806, 4777, 2946, 7822, 6452, 1795, 3618, 1323, 116491, 1525, 1027, 1750, 1277, 1293, 3338, 1831, 1203, 24450, 1572, 1727, 11420, 1246, 13068, 5251, 1994, 1266, 5162, 1224, 11228, 1875, 1274, 5712, 1170, 4485, 13617, 10234, 8679, 9659, 5810, 3483, 51379, 2527, 1871, 1065, 9665, 1652, 10827, 1886, 5324, 2251, 1086, 6854, 1170, 50818, 5001, 2853, 1596, 1551, 7626, 13026, 10548, 10055, 4609, 11817, 11845, 3481, 2090, 4463, 1044, 1163, 8082, 59038, 2379, 28696, 1779, 12963, 36633, 10999, 1532, 18208, 3984, 2566, 1129, 4492, 90283, 1577], \"sizemode\": \"area\", \"sizeref\": 8.089652777777777, \"symbol\": \"circle\"}, \"mode\": \"markers+text\", \"name\": \"\", \"orientation\": \"v\", \"showlegend\": false, \"text\": [\"\", \"\", \"UMM AL-FAHM\", \"OFAQIM\", \"OR YEHUDA\", \"\", \"\", \"\", \"ELAT\", \"\", \"EL'AD\", \"\", \"\", \"\", \"\", \"ASHDOD\", \"ASHQELON\", \"\", \"\", \"BE'ER SHEVA\", \"\", \"\", \"\", \"BET SHEMESH\", \"BETAR ILLIT\", \"BENE BERAQ\", \"\", \"\", \"BAT YAM\", \"\", \"\", \"GIV'ATAYIM\", \"\", \"\", \"\", \"\", \"\", \"\", \"\", \"\", \"DIMONA\", \"HOD HASHARON\", \"HERZLIYYA\", \"\", \"HADERA\", \"HOLON\", \"HAIFA\", \"\", \"TIBERIAS\", \"\", \"TAYIBE\", \"\", \"\", \"TAMRA\", \"YAVNE\", \"\", \"\", \"\", \"\", \"JERUSALEM\", \"\", \"\", \"\", \"\", \"\", \"\", \"\", \"\", \"KEFAR SAVA\", \"\", \"\", \"KARMI'EL\", \"\", \"LOD\", \"\", \"\", \"\", \"\", \"\", \"MODI'IN-MAKKABBIM-RE'UT\", \"\", \"\", \"MA'ALE ADUMMIM\", \"\", \"\", \"NAHARIYYA\", \"NAZERAT ILLIT\", \"NES ZIYYONA\", \"NAZARETH\", \"\", \"NETIVOT\", \"NETANYA\", \"SAKHNIN\", \"\", \"\", \"AKKO\", \"\", \"AFULA\", \"\", \"\", \"\", \"\", \"PARDES HANNA-KARKUR\", \"\", \"PETAH TIQWA\", \"ZEFAT\", \"\", \"\", \"\", \"QIRYAT ONO\", \"QIRYAT ATTA\", \"QIRYAT BIALIK\", \"QIRYAT GAT\", \"\", \"QIRYAT YAM\", \"QIRYAT MOTZKIN\", \"\", \"\", \"\", \"\", \"\", \"ROSH HAAYIN\", \"RISHON LEZIYYON\", \"RAHAT\", \"REHOVOT\", \"\", \"RAMLA\", \"RAMAT GAN\", \"RAMAT HASHARON\", \"\", \"RA'ANNANA\", \"\", \"\", \"\", \"SHEFAR'AM\", \"TEL AVIV - YAFO\", \"\"], \"type\": \"scatter\", \"x\": [82.27533867650189, 40.503399392449005, 69.15111657666328, 72.72845867849456, 63.29285850107299, 79.5909761754164, 21.21719709659408, 59.427336574824416, 29.254861469626572, 59.523809523809526, 278.6949121259972, 32.69617706237425, 88.68846298384067, 124.9305941143809, 47.22492697176242, 82.45588411031295, 51.43226003484345, 44.073455759599334, 51.85825410544511, 52.64990199678569, 100.8249312557287, 61.770761839396016, 79.07279029462738, 192.30615331674096, 278.0496035093639, 202.6984103714346, 42.992261392949274, 19.562062219978547, 52.16528566888608, 225.2985884907709, 77.8839641809015, 24.734516192863268, 57.647781505457644, 36.379048493624836, 57.81557668942981, 94.61711932542406, 54.54545454545455, 158.6132668668215, 68.50618458610847, 55.93735016781205, 48.405797101449274, 31.658092599920856, 30.881296809274648, 48.69430319744893, 41.608876560332874, 56.500341345614984, 70.02761850018926, 184.4262295081967, 82.85133656401439, 107.4438202247191, 41.63159451281935, 57.246158481470324, 62.737971616476294, 133.4612700628053, 82.37890091415362, 47.781341887195936, 113.31000992115294, 41.6036308623298, 117.54420050514862, 165.1066556317911, 71.63240347096848, 112.8059595601277, 20.68490002298322, 56.507473569084944, 118.42494818908516, 43.99063685527484, 140.65315810294052, 46.06697047751139, 36.97058127612588, 68.42127355916551, 26.290882322010727, 55.99757848309262, 42.08885424785659, 75.10715719410021, 111.425245301846, 83.1990242627521, 95.7618893561954, 76.72833495618306, 170.84078711985688, 46.42087545697224, 26.285637258205835, 65.83138670630707, 100.90420652601232, 82.97378028542981, 76.02124931306099, 57.491049297714135, 84.82292615133943, 32.96856070385891, 140.22854929304668, 57.56170283253272, 109.7437536625646, 55.29629144398314, 131.5374424326541, 39.8406374501992, 124.48443944506937, 72.70149858242203, 127.96928737103096, 65.6221198156682, 74.71064142763133, 126.70055314695769, 57.833234303822536, 71.71435041896278, 36.502290111831854, 13.49072512647555, 83.5632128280824, 146.5617554164127, 33.5052682625755, 41.049129326362184, 32.89022886117583, 48.75151575144152, 76.91004573945452, 49.215778876985404, 104.36914455826987, 37.50689464975179, 60.15489886457628, 78.74743089393344, 99.50039884126119, 63.630579038269246, 55.97014925373135, 51.62876459741856, 163.04347826086956, 75.7269299849517, 38.79961003836719, 22.25737362991167, 59.692572826328664, 79.46950160517868, 88.3980798992734, 48.690971372644974, 32.38437929939676, 41.10468850353244, 49.58831094787924, 79.60919124298896, 43.715846994535525, 75.2572569497773, 116.0500272919287, 46.742058951875, 27.388922702373705], \"xaxis\": \"x\", \"y\": [31.88105117565698, 69.74990075426757, 42.44949494949495, 48.155634158666, 58.445795639922885, 45.48832271762208, 81.98275862068965, 60.06984866123399, 70.83177918687056, 55.758683729433265, 41.3322632423756, 69.59165942658558, 42.14175654853621, 72.7921498661909, 53.42426825802785, 45.29071208127773, 50.721710918360586, 56.97674418604651, 63.33563059958649, 50.08764832793959, 32.65940902021773, 56.52866242038217, 67.88297172912557, 53.11800894854586, 35.18867924528302, 46.92961359628026, 34.375, 58.187280921382076, 50.618362499658744, 65.80066131317903, 69.02654867256636, 66.424, 38.77221324717286, 58.642734202114575, 64.05156537753223, 77.98982188295165, 48.188711036225776, 47.64595103578154, 35.907335907335906, 44.37869822485207, 60.14586709886548, 71.00651824261406, 68.76249167221852, 70.04843232220239, 54.96149289099526, 60.72008296510055, 59.425425723290004, 73.59477124183007, 61.426730701651636, 35.294117647058826, 33.22683706070288, 41.054882394868145, 63.36612936989743, 53.76782077393075, 64.21631296343647, 66.692498450093, 31.53203342618384, 67.52349364289663, 59.63718820861678, 47.55131297696818, 27.081967213114755, 45.18013631937682, 79.25714285714285, 83.71182458888019, 58.23665893271461, 69.68244457759137, 56.85417804478428, 41.39650872817955, 68.31492842535786, 46.56488549618321, 43.94904458598726, 53.53765323992995, 86.67736757624398, 44.27609427609428, 76.3283184155399, 48.395185556670015, 39.02053712480253, 58.85315769081751, 43.13725490196079, 77.36017100106875, 73.6, 87.04866562009418, 63.60294117647059, 35.2991452991453, 43.58974358974359, 66.76947932731146, 47.166308383818645, 66.51687982486462, 41.08085723159747, 57.211703958691906, 45.67901234567901, 51.42567975242803, 69.72694895132568, 83.48476750400854, 21.971830985915496, 58.137609932747026, 44.73365617433414, 59.80419322065207, 48.09119830328738, 51.69045830202855, 30.65304309195913, 25.50644567219153, 58.53516194922673, 90.08547008547009, 59.17194694793183, 47.990401919616076, 52.085524009814236, 38.22055137844612, 61.05738233397808, 73.41987936008393, 61.01642868109934, 68.04133485020857, 47.20039781203381, 75.50444781948362, 49.809596344249805, 68.83073026593499, 44.72852628555013, 55.11961722488038, 73.51557248487565, 73.18007662835248, 47.97936371453139, 68.28755258599357, 59.18560926860666, 40.10088272383354, 54.79857819905213, 27.374929735806635, 49.25557355550413, 61.471896923538885, 78.30711882898446, 85.31331592689295, 67.47034270650263, 48.77008032128514, 89.2049883086516, 58.54738706820195, 44.59038290293856, 62.61976230298063, 83.83005707038681], \"yaxis\": \"y\"}],                        {\"coloraxis\": {\"cmax\": 2.5894502018074266, \"cmin\": 0.6706181774174533, \"colorbar\": {\"title\": {\"text\": \"VNR\"}}, \"colorscale\": [[0.0, \"rgb(0,155,0)\"], [0.5, \"rgb(255,137,0)\"], [1.0, \"rgb(255,0,0)\"]]}, \"font\": {\"size\": 11}, \"height\": 1000, \"legend\": {\"itemsizing\": \"constant\", \"tracegroupgap\": 0}, \"margin\": {\"b\": 0, \"l\": 0, \"r\": 0, \"t\": 150}, \"template\": {\"data\": {\"bar\": [{\"error_x\": {\"color\": \"#2a3f5f\"}, \"error_y\": {\"color\": \"#2a3f5f\"}, \"marker\": {\"line\": {\"color\": \"white\", \"width\": 0.5}}, \"type\": \"bar\"}], \"barpolar\": [{\"marker\": {\"line\": {\"color\": \"white\", \"width\": 0.5}}, \"type\": \"barpolar\"}], \"carpet\": [{\"aaxis\": {\"endlinecolor\": \"#2a3f5f\", \"gridcolor\": \"#C8D4E3\", \"linecolor\": \"#C8D4E3\", \"minorgridcolor\": \"#C8D4E3\", \"startlinecolor\": \"#2a3f5f\"}, \"baxis\": {\"endlinecolor\": \"#2a3f5f\", \"gridcolor\": \"#C8D4E3\", \"linecolor\": \"#C8D4E3\", \"minorgridcolor\": \"#C8D4E3\", \"startlinecolor\": \"#2a3f5f\"}, \"type\": \"carpet\"}], \"choropleth\": [{\"colorbar\": {\"outlinewidth\": 0, \"ticks\": \"\"}, \"type\": \"choropleth\"}], \"contour\": [{\"colorbar\": {\"outlinewidth\": 0, \"ticks\": \"\"}, \"colorscale\": [[0.0, \"#0d0887\"], [0.1111111111111111, \"#46039f\"], [0.2222222222222222, \"#7201a8\"], [0.3333333333333333, \"#9c179e\"], [0.4444444444444444, \"#bd3786\"], [0.5555555555555556, \"#d8576b\"], [0.6666666666666666, \"#ed7953\"], [0.7777777777777778, \"#fb9f3a\"], [0.8888888888888888, \"#fdca26\"], [1.0, \"#f0f921\"]], \"type\": \"contour\"}], \"contourcarpet\": [{\"colorbar\": {\"outlinewidth\": 0, \"ticks\": \"\"}, \"type\": \"contourcarpet\"}], \"heatmap\": [{\"colorbar\": {\"outlinewidth\": 0, \"ticks\": \"\"}, \"colorscale\": [[0.0, \"#0d0887\"], [0.1111111111111111, \"#46039f\"], [0.2222222222222222, \"#7201a8\"], [0.3333333333333333, \"#9c179e\"], [0.4444444444444444, \"#bd3786\"], [0.5555555555555556, \"#d8576b\"], [0.6666666666666666, \"#ed7953\"], [0.7777777777777778, \"#fb9f3a\"], [0.8888888888888888, \"#fdca26\"], [1.0, \"#f0f921\"]], \"type\": \"heatmap\"}], \"heatmapgl\": [{\"colorbar\": {\"outlinewidth\": 0, \"ticks\": \"\"}, \"colorscale\": [[0.0, \"#0d0887\"], [0.1111111111111111, \"#46039f\"], [0.2222222222222222, \"#7201a8\"], [0.3333333333333333, \"#9c179e\"], [0.4444444444444444, \"#bd3786\"], [0.5555555555555556, \"#d8576b\"], [0.6666666666666666, \"#ed7953\"], [0.7777777777777778, \"#fb9f3a\"], [0.8888888888888888, \"#fdca26\"], [1.0, \"#f0f921\"]], \"type\": \"heatmapgl\"}], \"histogram\": [{\"marker\": {\"colorbar\": {\"outlinewidth\": 0, \"ticks\": \"\"}}, \"type\": \"histogram\"}], \"histogram2d\": [{\"colorbar\": {\"outlinewidth\": 0, \"ticks\": \"\"}, \"colorscale\": [[0.0, \"#0d0887\"], [0.1111111111111111, \"#46039f\"], [0.2222222222222222, \"#7201a8\"], [0.3333333333333333, \"#9c179e\"], [0.4444444444444444, \"#bd3786\"], [0.5555555555555556, \"#d8576b\"], [0.6666666666666666, \"#ed7953\"], [0.7777777777777778, \"#fb9f3a\"], [0.8888888888888888, \"#fdca26\"], [1.0, \"#f0f921\"]], \"type\": \"histogram2d\"}], \"histogram2dcontour\": [{\"colorbar\": {\"outlinewidth\": 0, \"ticks\": \"\"}, \"colorscale\": [[0.0, \"#0d0887\"], [0.1111111111111111, \"#46039f\"], [0.2222222222222222, \"#7201a8\"], [0.3333333333333333, \"#9c179e\"], [0.4444444444444444, \"#bd3786\"], [0.5555555555555556, \"#d8576b\"], [0.6666666666666666, \"#ed7953\"], [0.7777777777777778, \"#fb9f3a\"], [0.8888888888888888, \"#fdca26\"], [1.0, \"#f0f921\"]], \"type\": \"histogram2dcontour\"}], \"mesh3d\": [{\"colorbar\": {\"outlinewidth\": 0, \"ticks\": \"\"}, \"type\": \"mesh3d\"}], \"parcoords\": [{\"line\": {\"colorbar\": {\"outlinewidth\": 0, \"ticks\": \"\"}}, \"type\": \"parcoords\"}], \"pie\": [{\"automargin\": true, \"type\": \"pie\"}], \"scatter\": [{\"marker\": {\"colorbar\": {\"outlinewidth\": 0, \"ticks\": \"\"}}, \"type\": \"scatter\"}], \"scatter3d\": [{\"line\": {\"colorbar\": {\"outlinewidth\": 0, \"ticks\": \"\"}}, \"marker\": {\"colorbar\": {\"outlinewidth\": 0, \"ticks\": \"\"}}, \"type\": \"scatter3d\"}], \"scattercarpet\": [{\"marker\": {\"colorbar\": {\"outlinewidth\": 0, \"ticks\": \"\"}}, \"type\": \"scattercarpet\"}], \"scattergeo\": [{\"marker\": {\"colorbar\": {\"outlinewidth\": 0, \"ticks\": \"\"}}, \"type\": \"scattergeo\"}], \"scattergl\": [{\"marker\": {\"colorbar\": {\"outlinewidth\": 0, \"ticks\": \"\"}}, \"type\": \"scattergl\"}], \"scattermapbox\": [{\"marker\": {\"colorbar\": {\"outlinewidth\": 0, \"ticks\": \"\"}}, \"type\": \"scattermapbox\"}], \"scatterpolar\": [{\"marker\": {\"colorbar\": {\"outlinewidth\": 0, \"ticks\": \"\"}}, \"type\": \"scatterpolar\"}], \"scatterpolargl\": [{\"marker\": {\"colorbar\": {\"outlinewidth\": 0, \"ticks\": \"\"}}, \"type\": \"scatterpolargl\"}], \"scatterternary\": [{\"marker\": {\"colorbar\": {\"outlinewidth\": 0, \"ticks\": \"\"}}, \"type\": \"scatterternary\"}], \"surface\": [{\"colorbar\": {\"outlinewidth\": 0, \"ticks\": \"\"}, \"colorscale\": [[0.0, \"#0d0887\"], [0.1111111111111111, \"#46039f\"], [0.2222222222222222, \"#7201a8\"], [0.3333333333333333, \"#9c179e\"], [0.4444444444444444, \"#bd3786\"], [0.5555555555555556, \"#d8576b\"], [0.6666666666666666, \"#ed7953\"], [0.7777777777777778, \"#fb9f3a\"], [0.8888888888888888, \"#fdca26\"], [1.0, \"#f0f921\"]], \"type\": \"surface\"}], \"table\": [{\"cells\": {\"fill\": {\"color\": \"#EBF0F8\"}, \"line\": {\"color\": \"white\"}}, \"header\": {\"fill\": {\"color\": \"#C8D4E3\"}, \"line\": {\"color\": \"white\"}}, \"type\": \"table\"}]}, \"layout\": {\"annotationdefaults\": {\"arrowcolor\": \"#2a3f5f\", \"arrowhead\": 0, \"arrowwidth\": 1}, \"autotypenumbers\": \"strict\", \"coloraxis\": {\"colorbar\": {\"outlinewidth\": 0, \"ticks\": \"\"}}, \"colorscale\": {\"diverging\": [[0, \"#8e0152\"], [0.1, \"#c51b7d\"], [0.2, \"#de77ae\"], [0.3, \"#f1b6da\"], [0.4, \"#fde0ef\"], [0.5, \"#f7f7f7\"], [0.6, \"#e6f5d0\"], [0.7, \"#b8e186\"], [0.8, \"#7fbc41\"], [0.9, \"#4d9221\"], [1, \"#276419\"]], \"sequential\": [[0.0, \"#0d0887\"], [0.1111111111111111, \"#46039f\"], [0.2222222222222222, \"#7201a8\"], [0.3333333333333333, \"#9c179e\"], [0.4444444444444444, \"#bd3786\"], [0.5555555555555556, \"#d8576b\"], [0.6666666666666666, \"#ed7953\"], [0.7777777777777778, \"#fb9f3a\"], [0.8888888888888888, \"#fdca26\"], [1.0, \"#f0f921\"]], \"sequentialminus\": [[0.0, \"#0d0887\"], [0.1111111111111111, \"#46039f\"], [0.2222222222222222, \"#7201a8\"], [0.3333333333333333, \"#9c179e\"], [0.4444444444444444, \"#bd3786\"], [0.5555555555555556, \"#d8576b\"], [0.6666666666666666, \"#ed7953\"], [0.7777777777777778, \"#fb9f3a\"], [0.8888888888888888, \"#fdca26\"], [1.0, \"#f0f921\"]]}, \"colorway\": [\"#636efa\", \"#EF553B\", \"#00cc96\", \"#ab63fa\", \"#FFA15A\", \"#19d3f3\", \"#FF6692\", \"#B6E880\", \"#FF97FF\", \"#FECB52\"], \"font\": {\"color\": \"#2a3f5f\"}, \"geo\": {\"bgcolor\": \"white\", \"lakecolor\": \"white\", \"landcolor\": \"white\", \"showlakes\": true, \"showland\": true, \"subunitcolor\": \"#C8D4E3\"}, \"hoverlabel\": {\"align\": \"left\"}, \"hovermode\": \"closest\", \"mapbox\": {\"style\": \"light\"}, \"paper_bgcolor\": \"white\", \"plot_bgcolor\": \"white\", \"polar\": {\"angularaxis\": {\"gridcolor\": \"#EBF0F8\", \"linecolor\": \"#EBF0F8\", \"ticks\": \"\"}, \"bgcolor\": \"white\", \"radialaxis\": {\"gridcolor\": \"#EBF0F8\", \"linecolor\": \"#EBF0F8\", \"ticks\": \"\"}}, \"scene\": {\"xaxis\": {\"backgroundcolor\": \"white\", \"gridcolor\": \"#DFE8F3\", \"gridwidth\": 2, \"linecolor\": \"#EBF0F8\", \"showbackground\": true, \"ticks\": \"\", \"zerolinecolor\": \"#EBF0F8\"}, \"yaxis\": {\"backgroundcolor\": \"white\", \"gridcolor\": \"#DFE8F3\", \"gridwidth\": 2, \"linecolor\": \"#EBF0F8\", \"showbackground\": true, \"ticks\": \"\", \"zerolinecolor\": \"#EBF0F8\"}, \"zaxis\": {\"backgroundcolor\": \"white\", \"gridcolor\": \"#DFE8F3\", \"gridwidth\": 2, \"linecolor\": \"#EBF0F8\", \"showbackground\": true, \"ticks\": \"\", \"zerolinecolor\": \"#EBF0F8\"}}, \"shapedefaults\": {\"line\": {\"color\": \"#2a3f5f\"}}, \"ternary\": {\"aaxis\": {\"gridcolor\": \"#DFE8F3\", \"linecolor\": \"#A2B1C6\", \"ticks\": \"\"}, \"baxis\": {\"gridcolor\": \"#DFE8F3\", \"linecolor\": \"#A2B1C6\", \"ticks\": \"\"}, \"bgcolor\": \"white\", \"caxis\": {\"gridcolor\": \"#DFE8F3\", \"linecolor\": \"#A2B1C6\", \"ticks\": \"\"}}, \"title\": {\"x\": 0.05}, \"xaxis\": {\"automargin\": true, \"gridcolor\": \"#EBF0F8\", \"linecolor\": \"#EBF0F8\", \"ticks\": \"\", \"title\": {\"standoff\": 15}, \"zerolinecolor\": \"#EBF0F8\", \"zerolinewidth\": 2}, \"yaxis\": {\"automargin\": true, \"gridcolor\": \"#EBF0F8\", \"linecolor\": \"#EBF0F8\", \"ticks\": \"\", \"title\": {\"standoff\": 15}, \"zerolinecolor\": \"#EBF0F8\", \"zerolinewidth\": 2}}}, \"title\": {\"text\": \"<b>60+ Vaccination vs. Active cases per 10,000 people  <br>Size = Population 60+, Color = Vaccination Need Ratio (VNR)<b>\", \"x\": 0.5}, \"xaxis\": {\"anchor\": \"y\", \"domain\": [0.0, 1.0], \"range\": [1.301029995663981, 2.477121254719662], \"title\": {\"text\": \"<b>Active cases per 10,000 people - 12/1/21 (Logarithmic Scale)\"}, \"type\": \"log\"}, \"yaxis\": {\"anchor\": \"x\", \"domain\": [0.0, 1.0], \"range\": [21, 91], \"title\": {\"text\": \"<b>60+ Vaccination [%] - 12/1/21<b>\"}}},                        {\"responsive\": true}                    ).then(function(){\n",
       "                            \n",
       "var gd = document.getElementById('c0c4d8d9-ef6a-403d-9c6e-e4a90649a61f');\n",
       "var x = new MutationObserver(function (mutations, observer) {{\n",
       "        var display = window.getComputedStyle(gd).display;\n",
       "        if (!display || display === 'none') {{\n",
       "            console.log([gd, 'removed!']);\n",
       "            Plotly.purge(gd);\n",
       "            observer.disconnect();\n",
       "        }}\n",
       "}});\n",
       "\n",
       "// Listen for the removal of the full notebook cells\n",
       "var notebookContainer = gd.closest('#notebook-container');\n",
       "if (notebookContainer) {{\n",
       "    x.observe(notebookContainer, {childList: true});\n",
       "}}\n",
       "\n",
       "// Listen for the clearing of the current output cell\n",
       "var outputEl = gd.closest('.output');\n",
       "if (outputEl) {{\n",
       "    x.observe(outputEl, {childList: true});\n",
       "}}\n",
       "\n",
       "                        })                };                });            </script>        </div>"
      ]
     },
     "metadata": {},
     "output_type": "display_data"
    }
   ],
   "source": [
    "fig = px.scatter(show_table,\n",
    "                 x=x_key,\n",
    "                 y=y_key,\n",
    "                 size=size_key,\n",
    "                 color=color_key,\n",
    "                 hover_name=\"name_e\",\n",
    "                 hover_data={'Cumulated_vaccinated': ':.0f',\n",
    "                             'population_60+': ':.0f',\n",
    "                             'vaccination_60+': ':.0f'},\n",
    "                 log_x=x_log_scale,\n",
    "                 opacity=None,  # between 0 to 1\n",
    "                 range_x=chosen_x_range,\n",
    "                 range_y=chosen_y_range,\n",
    "                 size_max=120,\n",
    "                 height=1000,\n",
    "                 text=\"text\",\n",
    "                 # template='plotly_dark',\n",
    "                 color_continuous_scale=color_scale,\n",
    "                 range_color=[low_color, high_color])\n",
    "\n",
    "# Set titles\n",
    "fig.update_layout(title=\"<b>60+ Vaccination vs. {} <br>\"\n",
    "                        \"Size = {}, Color = Vaccination Need Ratio (VNR)<b>\"\n",
    "                  .format(x_key.replace('_', ' ').capitalize().split('-')[0],\n",
    "                          size_key.replace('_', ' ').capitalize()),\n",
    "                  title_x=0.5,\n",
    "                  font=dict(\n",
    "                      size=11,\n",
    "                  ),\n",
    "                  xaxis_title='<b>' + \"{}\".format(\n",
    "                      x_key.replace('_', ' ')) + ' (Logarithmic Scale)' if x_log_scale else '' + '<b>',\n",
    "                  yaxis_title='<b>' + y_key + '<b>',\n",
    "                  margin=dict(r=0, l=0, b=0, t=150),\n",
    "                  template=\"plotly_white\"\n",
    "                  )\n",
    "\n",
    "if release:\n",
    "    # Release hover template\n",
    "    fig.data[0].update(hovertemplate='<b>%{hovertext}</b><br><br>' +\n",
    "                                     'Vaccination Need Ratio' + ' = %{marker.color:.3f}<br>')\n",
    "else:\n",
    "    # Full hover template\n",
    "    fig.data[0].update(hovertemplate='<b>%{hovertext}</b><br><br>' +\n",
    "                                     'Accumulated Cases per 10,000' + ' = %{x: .0f}<br>' +\n",
    "                                     '60+ Vaccination' + ' = %{y: .0f}%<br>' +\n",
    "                                     '<br>' +\n",
    "                                     'Accumulated 60+ Vaccinated' + ' = %{customdata[2]: .0f}<br>' +\n",
    "                                     'Population over 60' + ' = %{customdata[1]: .0f}<br>' +\n",
    "                                     'Accumulated Vaccinated' + ' = %{customdata[0]: .0f}<br>' +\n",
    "                                     'Accumulated Cases' + ' = %{marker.size}<br>' +\n",
    "                                     '<br>' +\n",
    "                                     'Vaccination Need Ratio' + ' = %{marker.color:.3f}<br>')\n",
    "\n",
    "# show graph\n",
    "fig.show()"
   ]
  },
  {
   "cell_type": "markdown",
   "id": "bronze-delight",
   "metadata": {},
   "source": [
    "##### Save Results "
   ]
  },
  {
   "cell_type": "code",
   "execution_count": 52,
   "id": "gross-hostel",
   "metadata": {},
   "outputs": [],
   "source": [
    "# Create results directory\n",
    "results_directory = os.path.join(PROJECT_ROOT_FOLDER, 'results')\n",
    "os.makedirs(results_directory, exist_ok=True)\n",
    "\n",
    "# Save to html\n",
    "html_file_name = '60+-Vaccination-vs-{}{}.html'.format(\n",
    "    x_key.replace('_', ' ').capitalize().split('-')[0].replace(' ', '-'),\n",
    "    'release' if release else '').replace(',', '')\n",
    "\n",
    "html_save_path = os.path.join(results_directory, html_file_name)\n",
    "with open(html_save_path, 'w') as f:\n",
    "    f.write(fig.to_html(full_html=False, include_plotlyjs='cdn'))\n",
    "\n",
    "# Save high quality image\n",
    "# png\n",
    "required_extensions = ['.png', '.pdf', '.svg']\n",
    "for extension in required_extensions:\n",
    "    x_axis_name = x_key.replace('_', ' ').capitalize().split('-')[0]\n",
    "    save_path = os.path.join(results_directory,\n",
    "                             '60+ Vaccination vs. {}{}'.format(x_axis_name, extension))\n",
    "    fig.write_image(save_path,\n",
    "                    width=1920,\n",
    "                    height=1080\n",
    "                    )"
   ]
  },
  {
   "cell_type": "markdown",
   "id": "medium-document",
   "metadata": {},
   "source": [
    "#### 60+ Vaccination vs. Socioeconomic rank"
   ]
  },
  {
   "cell_type": "code",
   "execution_count": 53,
   "id": "developing-shepherd",
   "metadata": {},
   "outputs": [],
   "source": [
    "if not full_graphs:\n",
    "    chosen_x_range = [1, 255]\n",
    "    chosen_y_range = [21, 92]\n",
    "else:\n",
    "    chosen_x_range = None\n",
    "    chosen_y_range = None"
   ]
  },
  {
   "cell_type": "code",
   "execution_count": 56,
   "id": "discrete-asian",
   "metadata": {},
   "outputs": [
    {
     "data": {
      "application/vnd.plotly.v1+json": {
       "config": {
        "plotlyServerURL": "https://plot.ly"
       },
       "data": [
        {
         "customdata": [
          [
           1065,
           1446,
           461
          ],
          [
           3167,
           2519,
           1757
          ],
          [
           4788,
           3960,
           1681
          ],
          [
           4449,
           3958,
           1906
          ],
          [
           6291,
           6743,
           3941
          ],
          [
           3255,
           3768,
           1714
          ],
          [
           1888,
           1160,
           951
          ],
          [
           2339,
           2577,
           1548
          ],
          [
           10819,
           8043,
           5697
          ],
          [
           1742,
           1094,
           610
          ],
          [
           1731,
           1246,
           515
          ],
          [
           1581,
           1151,
           801
          ],
          [
           1315,
           1298,
           547
          ],
          [
           2244,
           1121,
           816
          ],
          [
           3470,
           3519,
           1880
          ],
          [
           37822,
           44391,
           20105
          ],
          [
           27883,
           30206,
           15321
          ],
          [
           4371,
           2494,
           1421
          ],
          [
           4034,
           2902,
           1838
          ],
          [
           46585,
           44496,
           22287
          ],
          [
           1077,
           1286,
           420
          ],
          [
           1273,
           1256,
           710
          ],
          [
           3551,
           3042,
           2065
          ],
          [
           10163,
           7152,
           3799
          ],
          [
           2136,
           1060,
           373
          ],
          [
           14658,
           18711,
           8781
          ],
          [
           1038,
           1792,
           616
          ],
          [
           2631,
           1997,
           1162
          ],
          [
           25495,
           36629,
           18541
          ],
          [
           2677,
           2117,
           1393
          ],
          [
           5609,
           4294,
           2964
          ],
          [
           13551,
           12500,
           8303
          ],
          [
           1751,
           1857,
           720
          ],
          [
           4992,
           4067,
           2385
          ],
          [
           4307,
           2715,
           1739
          ],
          [
           5135,
           3930,
           3065
          ],
          [
           1693,
           1187,
           572
          ],
          [
           2703,
           2124,
           1012
          ],
          [
           1228,
           1036,
           372
          ],
          [
           1268,
           1014,
           450
          ],
          [
           8917,
           6170,
           3711
          ],
          [
           15274,
           11813,
           8388
          ],
          [
           25181,
           24016,
           16514
          ],
          [
           5237,
           3923,
           2748
          ],
          [
           19532,
           20256,
           11133
          ],
          [
           39301,
           44356,
           26933
          ],
          [
           70146,
           73933,
           43935
          ],
          [
           2273,
           1530,
           1126
          ],
          [
           9756,
           8537,
           5244
          ],
          [
           1047,
           1190,
           420
          ],
          [
           2974,
           3756,
           1248
          ],
          [
           3061,
           2806,
           1152
          ],
          [
           5130,
           4777,
           3027
          ],
          [
           4598,
           2946,
           1584
          ],
          [
           8720,
           7822,
           5023
          ],
          [
           6624,
           6452,
           4303
          ],
          [
           1421,
           1795,
           566
          ],
          [
           5529,
           3618,
           2443
          ],
          [
           2457,
           1323,
           789
          ],
          [
           101863,
           116491,
           55393
          ],
          [
           1026,
           1525,
           413
          ],
          [
           1540,
           1027,
           464
          ],
          [
           2376,
           1750,
           1387
          ],
          [
           1864,
           1277,
           1069
          ],
          [
           1570,
           1293,
           753
          ],
          [
           4636,
           3338,
           2326
          ],
          [
           3616,
           1831,
           1041
          ],
          [
           1549,
           1203,
           498
          ],
          [
           27016,
           24450,
           16703
          ],
          [
           2240,
           1572,
           732
          ],
          [
           2144,
           1727,
           759
          ],
          [
           11234,
           11420,
           6114
          ],
          [
           2704,
           1246,
           1080
          ],
          [
           10336,
           13068,
           5786
          ],
          [
           6928,
           5251,
           4008
          ],
          [
           2655,
           1994,
           965
          ],
          [
           1226,
           1266,
           494
          ],
          [
           5165,
           5162,
           3038
          ],
          [
           1563,
           1224,
           528
          ],
          [
           20471,
           11228,
           8686
          ],
          [
           3119,
           1875,
           1380
          ],
          [
           3129,
           1274,
           1109
          ],
          [
           7889,
           5712,
           3633
          ],
          [
           1233,
           1170,
           413
          ],
          [
           4079,
           4485,
           1955
          ],
          [
           15164,
           13617,
           9092
          ],
          [
           9206,
           10234,
           4827
          ],
          [
           11153,
           8679,
           5773
          ],
          [
           8588,
           9659,
           3968
          ],
          [
           6068,
           5810,
           3324
          ],
          [
           3623,
           3483,
           1591
          ],
          [
           40710,
           51379,
           26422
          ],
          [
           6581,
           2527,
           1762
          ],
          [
           3109,
           1871,
           1562
          ],
          [
           772,
           1065,
           234
          ],
          [
           10157,
           9665,
           5619
          ],
          [
           1582,
           1652,
           739
          ],
          [
           12393,
           10827,
           6475
          ],
          [
           2934,
           1886,
           907
          ],
          [
           6277,
           5324,
           2752
          ],
          [
           1905,
           2251,
           690
          ],
          [
           766,
           1086,
           277
          ],
          [
           7764,
           6854,
           4012
          ],
          [
           1800,
           1170,
           1054
          ],
          [
           49707,
           50818,
           30070
          ],
          [
           4467,
           5001,
           2400
          ],
          [
           3069,
           2853,
           1486
          ],
          [
           1760,
           1596,
           610
          ],
          [
           1817,
           1551,
           947
          ],
          [
           9872,
           7626,
           5599
          ],
          [
           13190,
           13026,
           7948
          ],
          [
           11428,
           10548,
           7177
          ],
          [
           8439,
           10055,
           4746
          ],
          [
           5434,
           4609,
           3480
          ],
          [
           9788,
           11817,
           5886
          ],
          [
           12882,
           11845,
           8153
          ],
          [
           2585,
           3481,
           1557
          ],
          [
           1890,
           2090,
           1152
          ],
          [
           6423,
           4463,
           3281
          ],
          [
           1460,
           1044,
           764
          ],
          [
           1186,
           1163,
           558
          ],
          [
           10730,
           8082,
           5519
          ],
          [
           53627,
           59038,
           34942
          ],
          [
           4095,
           2379,
           954
          ],
          [
           27244,
           28696,
           15725
          ],
          [
           1188,
           1779,
           487
          ],
          [
           11397,
           12963,
           6385
          ],
          [
           35849,
           36633,
           22519
          ],
          [
           13317,
           10999,
           8613
          ],
          [
           2364,
           1532,
           1307
          ],
          [
           20123,
           18208,
           12285
          ],
          [
           4366,
           3984,
           1943
          ],
          [
           5206,
           2566,
           2289
          ],
          [
           1370,
           1129,
           661
          ],
          [
           4727,
           4492,
           2003
          ],
          [
           93499,
           90283,
           56535
          ],
          [
           2848,
           1577,
           1322
          ]
         ],
         "hovertemplate": "<b>%{hovertext}</b><br><br>Socioeconomic Rank = %{x: .0f}<br>60+ Vaccination = %{y: .0f}%<br><br>Accumulated 60+ Vaccinated = %{customdata[2]: .0f}<br>Population over 60 = %{customdata[1]: .0f}<br>Accumulated Vaccinated = %{customdata[0]: .0f}<br>Accumulated Cases = %{marker.size}<br><br>Vaccination Need Ratio = %{marker.color:.3f}<br>",
         "hovertext": [
          "ABU SINAN",
          "EVEN YEHUDA",
          "UMM AL-FAHM",
          "OFAQIM",
          "OR YEHUDA",
          "OR AQIVA",
          "ORANIT",
          "AZOR",
          "ELAT",
          "IKSAL",
          "EL'AD",
          "ALFE MENASHE",
          "I'BILLIN",
          "EFRAT",
          "ARI'EL",
          "ASHDOD",
          "ASHQELON",
          "BAQA AL-GHARBIYYE",
          "BE'ER YA'AQOV",
          "BE'ER SHEVA",
          "BEIT JANN",
          "BET DAGAN",
          "BET SHE'AN",
          "BET SHEMESH",
          "BETAR ILLIT",
          "BENE BERAQ",
          "BENE AYISH",
          "BINYAMINA-GIV'AT ADA",
          "BAT YAM",
          "GIV'AT ZE'EV",
          "GIV'AT SHEMU'EL",
          "GIV'ATAYIM",
          "JUDEIDE-MAKER",
          "GEDERA",
          "GAN YAVNE",
          "GANNE TIQWA",
          "JATT",
          "DALIYAT AL-KARMEL",
          "DABURIYYA",
          "DEIR AL-ASAD",
          "DIMONA",
          "HOD HASHARON",
          "HERZLIYYA",
          "ZIKHRON YA'AQOV",
          "HADERA",
          "HOLON",
          "HAIFA",
          "HAZOR HAGELILIT",
          "TIBERIAS",
          "TUR'AN",
          "TAYIBE",
          "TIRE",
          "TIRAT KARMEL",
          "TAMRA",
          "YAVNE",
          "YEHUD",
          "YAFI",
          "YOQNE'AM ILLIT",
          "YEROHAM",
          "JERUSALEM",
          "YIRKA",
          "KABUL",
          "KOKHAV YA'IR",
          "KEFAR WERADIM",
          "KAFAR YASIF",
          "KEFAR YONA",
          "KAFAR KANNA",
          "KAFAR MANDA",
          "KEFAR SAVA",
          "KAFAR QASEM",
          "KAFAR QARA",
          "KARMI'EL",
          "LEHAVIM",
          "LOD",
          "MEVASSERET ZIYYON",
          "MUGHAR",
          "MAJD AL-KURUM",
          "MIGDAL HAEMEQ",
          "MAJDAL SHAMS",
          "MODI'IN-MAKKABBIM-RE'UT",
          "MAZKERET BATYA",
          "METAR",
          "MA'ALE ADUMMIM",
          "MA'ALE IRON",
          "MA'ALOT-TARSHIHA",
          "NAHARIYYA",
          "NAZERAT ILLIT",
          "NES ZIYYONA",
          "NAZARETH",
          "NESHER",
          "NETIVOT",
          "NETANYA",
          "SAKHNIN",
          "OMER",
          "EIN MAHEL",
          "AKKO",
          "ISIFYA",
          "AFULA",
          "ARRABE",
          "ARAD",
          "AR'ARA",
          "FUREIDIS",
          "PARDES HANNA-KARKUR",
          "PARDESIYYA",
          "PETAH TIQWA",
          "ZEFAT",
          "QADIMA-ZORAN",
          "QALANSAWE",
          "QAZRIN",
          "QIRYAT ONO",
          "QIRYAT ATTA",
          "QIRYAT BIALIK",
          "QIRYAT GAT",
          "QIRYAT TIV'ON",
          "QIRYAT YAM",
          "QIRYAT MOTZKIN",
          "QIRYAT MAL'AKHI",
          "QIRYAT EQRON",
          "QIRYAT SHEMONA",
          "QARNE SHOMERON",
          "RAME",
          "ROSH HAAYIN",
          "RISHON LEZIYYON",
          "RAHAT",
          "REHOVOT",
          "REINE",
          "RAMLA",
          "RAMAT GAN",
          "RAMAT HASHARON",
          "RAMAT YISHAY",
          "RA'ANNANA",
          "SEDEROT",
          "SHOHAM",
          "SHELOMI",
          "SHEFAR'AM",
          "TEL AVIV - YAFO",
          "TEL MOND"
         ],
         "legendgroup": "",
         "marker": {
          "color": [
           2.580697174104593,
           0.5806947243573081,
           1.62902094969415,
           1.5102793255481712,
           1.0829326183017893,
           1.7497012732145214,
           0.2588007216829562,
           0.9893039170111274,
           0.4130188709850914,
           1.0675253708040595,
           6.742793407941601,
           0.4698289612833053,
           2.1045269644063107,
           1.716264656889963,
           0.88396020220017,
           1.8205914705500634,
           1.0140087765893098,
           0.7735341214950088,
           0.8187848390315654,
           1.0511553996719953,
           3.0871633713063598,
           1.0927334770462167,
           1.1648398454056006,
           3.620356958466258,
           7.901677740480583,
           4.319200497050351,
           1.250683967794888,
           0.33619137911615454,
           1.0305605138696015,
           3.42395629457977,
           1.1283189682617782,
           0.3723731812727819,
           1.486832364661595,
           0.6203504831177032,
           0.9026411196768369,
           1.2131982999964652,
           1.1319135410044503,
           3.328997814477558,
           1.9078604094410856,
           1.2604549571146981,
           0.804806704704775,
           0.44584769656993933,
           0.4491008987353397,
           0.6951519339286469,
           0.7570550647678996,
           0.9305050089949497,
           1.1784117260895626,
           2.505969193139795,
           1.3487831049713783,
           3.0442415730337076,
           1.2529508733185053,
           1.394381256067758,
           0.9900868530290956,
           2.482177409122629,
           1.282834487259625,
           0.7164425234863773,
           3.5934888305383312,
           0.6161356383950439,
           1.9709883050483097,
           3.472178690665423,
           2.645022162063606,
           2.4968043204364476,
           0.26098467945364556,
           0.675023795582053,
           2.0335120585456457,
           0.631301572755406,
           2.4739282659604616,
           1.1128226000892814,
           0.541178657846661,
           1.4693748911886364,
           0.5982128296457514,
           1.0459475732366987,
           0.48558067030397506,
           1.6963365541177005,
           1.459815277145692,
           1.7191591127453645,
           2.454140727225574,
           1.303725033060622,
           3.9604000650512274,
           0.6000616965586971,
           0.35714181057344885,
           0.7562595731635277,
           1.586470761565049,
           2.3505889330254934,
           1.744016896005517,
           0.8610378555730018,
           1.7983795861462766,
           0.49564202035127575,
           3.4134767077155694,
           1.0061176096781441,
           2.402498390991279,
           1.0752661259936453,
           1.8864649093491312,
           0.4772204396243452,
           5.665637949102515,
           1.2505071788558622,
           2.8606936770898934,
           1.0972829208405246,
           1.5535200632030066,
           2.451140061607568,
           1.8867044988102104,
           2.8116167709383966,
           0.6235959532066189,
           0.1497547286335521,
           1.4122099599260032,
           3.0539805784894996,
           0.6432740938972267,
           1.0740067279487548,
           0.5386773491413274,
           0.6640097501705536,
           1.2604809459010249,
           0.7233217717631908,
           2.2111920533784315,
           0.4967507972434081,
           1.2076969756756677,
           1.1440737384259065,
           2.224540066579513,
           1.154408942621378,
           0.761337324350512,
           0.7055030136087039,
           3.398200093501636,
           1.1089419245123746,
           0.65555817567544,
           0.5550345059283004,
           1.0893087884415438,
           2.9030029436470812,
           1.794681769356744,
           0.7920850634104993,
           0.4135560059376117,
           0.48180859056933195,
           0.7349645630760971,
           1.63233668508527,
           0.49006056525984343,
           1.2854076111391615,
           2.602579743361676,
           0.7464426122494261,
           0.3267195998611447
          ],
          "coloraxis": "coloraxis",
          "size": [
           1446,
           2519,
           3960,
           3958,
           6743,
           3768,
           1160,
           2577,
           8043,
           1094,
           1246,
           1151,
           1298,
           1121,
           3519,
           44391,
           30206,
           2494,
           2902,
           44496,
           1286,
           1256,
           3042,
           7152,
           1060,
           18711,
           1792,
           1997,
           36629,
           2117,
           4294,
           12500,
           1857,
           4067,
           2715,
           3930,
           1187,
           2124,
           1036,
           1014,
           6170,
           11813,
           24016,
           3923,
           20256,
           44356,
           73933,
           1530,
           8537,
           1190,
           3756,
           2806,
           4777,
           2946,
           7822,
           6452,
           1795,
           3618,
           1323,
           116491,
           1525,
           1027,
           1750,
           1277,
           1293,
           3338,
           1831,
           1203,
           24450,
           1572,
           1727,
           11420,
           1246,
           13068,
           5251,
           1994,
           1266,
           5162,
           1224,
           11228,
           1875,
           1274,
           5712,
           1170,
           4485,
           13617,
           10234,
           8679,
           9659,
           5810,
           3483,
           51379,
           2527,
           1871,
           1065,
           9665,
           1652,
           10827,
           1886,
           5324,
           2251,
           1086,
           6854,
           1170,
           50818,
           5001,
           2853,
           1596,
           1551,
           7626,
           13026,
           10548,
           10055,
           4609,
           11817,
           11845,
           3481,
           2090,
           4463,
           1044,
           1163,
           8082,
           59038,
           2379,
           28696,
           1779,
           12963,
           36633,
           10999,
           1532,
           18208,
           3984,
           2566,
           1129,
           4492,
           90283,
           1577
          ],
          "sizemode": "area",
          "sizeref": 8.089652777777777,
          "symbol": "circle"
         },
         "mode": "markers+text",
         "name": "",
         "orientation": "v",
         "showlegend": false,
         "text": [
          "",
          "",
          "UMM AL-FAHM",
          "OFAQIM",
          "OR YEHUDA",
          "",
          "",
          "",
          "ELAT",
          "",
          "EL'AD",
          "",
          "",
          "",
          "",
          "ASHDOD",
          "ASHQELON",
          "",
          "",
          "BE'ER SHEVA",
          "",
          "",
          "",
          "BET SHEMESH",
          "BETAR ILLIT",
          "BENE BERAQ",
          "",
          "",
          "BAT YAM",
          "",
          "",
          "GIV'ATAYIM",
          "",
          "",
          "",
          "",
          "",
          "",
          "",
          "",
          "DIMONA",
          "HOD HASHARON",
          "HERZLIYYA",
          "",
          "HADERA",
          "HOLON",
          "HAIFA",
          "",
          "TIBERIAS",
          "",
          "TAYIBE",
          "",
          "",
          "TAMRA",
          "YAVNE",
          "",
          "",
          "",
          "",
          "JERUSALEM",
          "",
          "",
          "",
          "",
          "",
          "",
          "",
          "",
          "KEFAR SAVA",
          "",
          "",
          "KARMI'EL",
          "",
          "LOD",
          "",
          "",
          "",
          "",
          "",
          "MODI'IN-MAKKABBIM-RE'UT",
          "",
          "",
          "MA'ALE ADUMMIM",
          "",
          "",
          "NAHARIYYA",
          "NAZERAT ILLIT",
          "NES ZIYYONA",
          "NAZARETH",
          "",
          "NETIVOT",
          "NETANYA",
          "SAKHNIN",
          "",
          "",
          "AKKO",
          "",
          "AFULA",
          "",
          "",
          "",
          "",
          "PARDES HANNA-KARKUR",
          "",
          "PETAH TIQWA",
          "ZEFAT",
          "",
          "",
          "",
          "QIRYAT ONO",
          "QIRYAT ATTA",
          "QIRYAT BIALIK",
          "QIRYAT GAT",
          "",
          "QIRYAT YAM",
          "QIRYAT MOTZKIN",
          "",
          "",
          "",
          "",
          "",
          "ROSH HAAYIN",
          "RISHON LEZIYYON",
          "RAHAT",
          "REHOVOT",
          "",
          "RAMLA",
          "RAMAT GAN",
          "RAMAT HASHARON",
          "",
          "RA'ANNANA",
          "",
          "",
          "",
          "SHEFAR'AM",
          "TEL AVIV - YAFO",
          ""
         ],
         "type": "scatter",
         "x": [
          63,
          243,
          17,
          73,
          136,
          127,
          230,
          177,
          148,
          58,
          19,
          222,
          68,
          171,
          158,
          112,
          125,
          74,
          192,
          130,
          83,
          179,
          105,
          21,
          11,
          18,
          138,
          232,
          122,
          115,
          216,
          241,
          43,
          190,
          191,
          239,
          111,
          100,
          79,
          78,
          102,
          242,
          224,
          220,
          150,
          165,
          169,
          92,
          89,
          57,
          59,
          93,
          123,
          49,
          168,
          209,
          50,
          198,
          91,
          38,
          64,
          45,
          251,
          245,
          108,
          195,
          32,
          16,
          219,
          62,
          101,
          154,
          253,
          84,
          212,
          46,
          56,
          104,
          52,
          238,
          226,
          246,
          157,
          23,
          131,
          156,
          120,
          231,
          75,
          186,
          72,
          142,
          71,
          252,
          24,
          94,
          97,
          114,
          44,
          90,
          69,
          51,
          184,
          240,
          181,
          29,
          225,
          54,
          107,
          244,
          146,
          166,
          95,
          228,
          128,
          176,
          81,
          139,
          119,
          151,
          103,
          185,
          196,
          10,
          182,
          42,
          99,
          210,
          247,
          235,
          223,
          109,
          248,
          141,
          66,
          215,
          236
         ],
         "xaxis": "x",
         "y": [
          31.88105117565698,
          69.74990075426757,
          42.44949494949495,
          48.155634158666,
          58.445795639922885,
          45.48832271762208,
          81.98275862068965,
          60.06984866123399,
          70.83177918687056,
          55.758683729433265,
          41.3322632423756,
          69.59165942658558,
          42.14175654853621,
          72.7921498661909,
          53.42426825802785,
          45.29071208127773,
          50.721710918360586,
          56.97674418604651,
          63.33563059958649,
          50.08764832793959,
          32.65940902021773,
          56.52866242038217,
          67.88297172912557,
          53.11800894854586,
          35.18867924528302,
          46.92961359628026,
          34.375,
          58.187280921382076,
          50.618362499658744,
          65.80066131317903,
          69.02654867256636,
          66.424,
          38.77221324717286,
          58.642734202114575,
          64.05156537753223,
          77.98982188295165,
          48.188711036225776,
          47.64595103578154,
          35.907335907335906,
          44.37869822485207,
          60.14586709886548,
          71.00651824261406,
          68.76249167221852,
          70.04843232220239,
          54.96149289099526,
          60.72008296510055,
          59.425425723290004,
          73.59477124183007,
          61.426730701651636,
          35.294117647058826,
          33.22683706070288,
          41.054882394868145,
          63.36612936989743,
          53.76782077393075,
          64.21631296343647,
          66.692498450093,
          31.53203342618384,
          67.52349364289663,
          59.63718820861678,
          47.55131297696818,
          27.081967213114755,
          45.18013631937682,
          79.25714285714285,
          83.71182458888019,
          58.23665893271461,
          69.68244457759137,
          56.85417804478428,
          41.39650872817955,
          68.31492842535786,
          46.56488549618321,
          43.94904458598726,
          53.53765323992995,
          86.67736757624398,
          44.27609427609428,
          76.3283184155399,
          48.395185556670015,
          39.02053712480253,
          58.85315769081751,
          43.13725490196079,
          77.36017100106875,
          73.6,
          87.04866562009418,
          63.60294117647059,
          35.2991452991453,
          43.58974358974359,
          66.76947932731146,
          47.166308383818645,
          66.51687982486462,
          41.08085723159747,
          57.211703958691906,
          45.67901234567901,
          51.42567975242803,
          69.72694895132568,
          83.48476750400854,
          21.971830985915496,
          58.137609932747026,
          44.73365617433414,
          59.80419322065207,
          48.09119830328738,
          51.69045830202855,
          30.65304309195913,
          25.50644567219153,
          58.53516194922673,
          90.08547008547009,
          59.17194694793183,
          47.990401919616076,
          52.085524009814236,
          38.22055137844612,
          61.05738233397808,
          73.41987936008393,
          61.01642868109934,
          68.04133485020857,
          47.20039781203381,
          75.50444781948362,
          49.809596344249805,
          68.83073026593499,
          44.72852628555013,
          55.11961722488038,
          73.51557248487565,
          73.18007662835248,
          47.97936371453139,
          68.28755258599357,
          59.18560926860666,
          40.10088272383354,
          54.79857819905213,
          27.374929735806635,
          49.25557355550413,
          61.471896923538885,
          78.30711882898446,
          85.31331592689295,
          67.47034270650263,
          48.77008032128514,
          89.2049883086516,
          58.54738706820195,
          44.59038290293856,
          62.61976230298063,
          83.83005707038681
         ],
         "yaxis": "y"
        }
       ],
       "layout": {
        "coloraxis": {
         "cmax": 2.5894502018074266,
         "cmin": 0.6706181774174533,
         "colorbar": {
          "title": {
           "text": "VNR"
          }
         },
         "colorscale": [
          [
           0,
           "rgb(0,155,0)"
          ],
          [
           0.5,
           "rgb(255,137,0)"
          ],
          [
           1,
           "rgb(255,0,0)"
          ]
         ]
        },
        "legend": {
         "itemsizing": "constant",
         "tracegroupgap": 0
        },
        "margin": {
         "b": 0,
         "l": 0,
         "r": 0,
         "t": 100
        },
        "template": {
         "data": {
          "bar": [
           {
            "error_x": {
             "color": "#2a3f5f"
            },
            "error_y": {
             "color": "#2a3f5f"
            },
            "marker": {
             "line": {
              "color": "white",
              "width": 0.5
             }
            },
            "type": "bar"
           }
          ],
          "barpolar": [
           {
            "marker": {
             "line": {
              "color": "white",
              "width": 0.5
             }
            },
            "type": "barpolar"
           }
          ],
          "carpet": [
           {
            "aaxis": {
             "endlinecolor": "#2a3f5f",
             "gridcolor": "#C8D4E3",
             "linecolor": "#C8D4E3",
             "minorgridcolor": "#C8D4E3",
             "startlinecolor": "#2a3f5f"
            },
            "baxis": {
             "endlinecolor": "#2a3f5f",
             "gridcolor": "#C8D4E3",
             "linecolor": "#C8D4E3",
             "minorgridcolor": "#C8D4E3",
             "startlinecolor": "#2a3f5f"
            },
            "type": "carpet"
           }
          ],
          "choropleth": [
           {
            "colorbar": {
             "outlinewidth": 0,
             "ticks": ""
            },
            "type": "choropleth"
           }
          ],
          "contour": [
           {
            "colorbar": {
             "outlinewidth": 0,
             "ticks": ""
            },
            "colorscale": [
             [
              0,
              "#0d0887"
             ],
             [
              0.1111111111111111,
              "#46039f"
             ],
             [
              0.2222222222222222,
              "#7201a8"
             ],
             [
              0.3333333333333333,
              "#9c179e"
             ],
             [
              0.4444444444444444,
              "#bd3786"
             ],
             [
              0.5555555555555556,
              "#d8576b"
             ],
             [
              0.6666666666666666,
              "#ed7953"
             ],
             [
              0.7777777777777778,
              "#fb9f3a"
             ],
             [
              0.8888888888888888,
              "#fdca26"
             ],
             [
              1,
              "#f0f921"
             ]
            ],
            "type": "contour"
           }
          ],
          "contourcarpet": [
           {
            "colorbar": {
             "outlinewidth": 0,
             "ticks": ""
            },
            "type": "contourcarpet"
           }
          ],
          "heatmap": [
           {
            "colorbar": {
             "outlinewidth": 0,
             "ticks": ""
            },
            "colorscale": [
             [
              0,
              "#0d0887"
             ],
             [
              0.1111111111111111,
              "#46039f"
             ],
             [
              0.2222222222222222,
              "#7201a8"
             ],
             [
              0.3333333333333333,
              "#9c179e"
             ],
             [
              0.4444444444444444,
              "#bd3786"
             ],
             [
              0.5555555555555556,
              "#d8576b"
             ],
             [
              0.6666666666666666,
              "#ed7953"
             ],
             [
              0.7777777777777778,
              "#fb9f3a"
             ],
             [
              0.8888888888888888,
              "#fdca26"
             ],
             [
              1,
              "#f0f921"
             ]
            ],
            "type": "heatmap"
           }
          ],
          "heatmapgl": [
           {
            "colorbar": {
             "outlinewidth": 0,
             "ticks": ""
            },
            "colorscale": [
             [
              0,
              "#0d0887"
             ],
             [
              0.1111111111111111,
              "#46039f"
             ],
             [
              0.2222222222222222,
              "#7201a8"
             ],
             [
              0.3333333333333333,
              "#9c179e"
             ],
             [
              0.4444444444444444,
              "#bd3786"
             ],
             [
              0.5555555555555556,
              "#d8576b"
             ],
             [
              0.6666666666666666,
              "#ed7953"
             ],
             [
              0.7777777777777778,
              "#fb9f3a"
             ],
             [
              0.8888888888888888,
              "#fdca26"
             ],
             [
              1,
              "#f0f921"
             ]
            ],
            "type": "heatmapgl"
           }
          ],
          "histogram": [
           {
            "marker": {
             "colorbar": {
              "outlinewidth": 0,
              "ticks": ""
             }
            },
            "type": "histogram"
           }
          ],
          "histogram2d": [
           {
            "colorbar": {
             "outlinewidth": 0,
             "ticks": ""
            },
            "colorscale": [
             [
              0,
              "#0d0887"
             ],
             [
              0.1111111111111111,
              "#46039f"
             ],
             [
              0.2222222222222222,
              "#7201a8"
             ],
             [
              0.3333333333333333,
              "#9c179e"
             ],
             [
              0.4444444444444444,
              "#bd3786"
             ],
             [
              0.5555555555555556,
              "#d8576b"
             ],
             [
              0.6666666666666666,
              "#ed7953"
             ],
             [
              0.7777777777777778,
              "#fb9f3a"
             ],
             [
              0.8888888888888888,
              "#fdca26"
             ],
             [
              1,
              "#f0f921"
             ]
            ],
            "type": "histogram2d"
           }
          ],
          "histogram2dcontour": [
           {
            "colorbar": {
             "outlinewidth": 0,
             "ticks": ""
            },
            "colorscale": [
             [
              0,
              "#0d0887"
             ],
             [
              0.1111111111111111,
              "#46039f"
             ],
             [
              0.2222222222222222,
              "#7201a8"
             ],
             [
              0.3333333333333333,
              "#9c179e"
             ],
             [
              0.4444444444444444,
              "#bd3786"
             ],
             [
              0.5555555555555556,
              "#d8576b"
             ],
             [
              0.6666666666666666,
              "#ed7953"
             ],
             [
              0.7777777777777778,
              "#fb9f3a"
             ],
             [
              0.8888888888888888,
              "#fdca26"
             ],
             [
              1,
              "#f0f921"
             ]
            ],
            "type": "histogram2dcontour"
           }
          ],
          "mesh3d": [
           {
            "colorbar": {
             "outlinewidth": 0,
             "ticks": ""
            },
            "type": "mesh3d"
           }
          ],
          "parcoords": [
           {
            "line": {
             "colorbar": {
              "outlinewidth": 0,
              "ticks": ""
             }
            },
            "type": "parcoords"
           }
          ],
          "pie": [
           {
            "automargin": true,
            "type": "pie"
           }
          ],
          "scatter": [
           {
            "marker": {
             "colorbar": {
              "outlinewidth": 0,
              "ticks": ""
             }
            },
            "type": "scatter"
           }
          ],
          "scatter3d": [
           {
            "line": {
             "colorbar": {
              "outlinewidth": 0,
              "ticks": ""
             }
            },
            "marker": {
             "colorbar": {
              "outlinewidth": 0,
              "ticks": ""
             }
            },
            "type": "scatter3d"
           }
          ],
          "scattercarpet": [
           {
            "marker": {
             "colorbar": {
              "outlinewidth": 0,
              "ticks": ""
             }
            },
            "type": "scattercarpet"
           }
          ],
          "scattergeo": [
           {
            "marker": {
             "colorbar": {
              "outlinewidth": 0,
              "ticks": ""
             }
            },
            "type": "scattergeo"
           }
          ],
          "scattergl": [
           {
            "marker": {
             "colorbar": {
              "outlinewidth": 0,
              "ticks": ""
             }
            },
            "type": "scattergl"
           }
          ],
          "scattermapbox": [
           {
            "marker": {
             "colorbar": {
              "outlinewidth": 0,
              "ticks": ""
             }
            },
            "type": "scattermapbox"
           }
          ],
          "scatterpolar": [
           {
            "marker": {
             "colorbar": {
              "outlinewidth": 0,
              "ticks": ""
             }
            },
            "type": "scatterpolar"
           }
          ],
          "scatterpolargl": [
           {
            "marker": {
             "colorbar": {
              "outlinewidth": 0,
              "ticks": ""
             }
            },
            "type": "scatterpolargl"
           }
          ],
          "scatterternary": [
           {
            "marker": {
             "colorbar": {
              "outlinewidth": 0,
              "ticks": ""
             }
            },
            "type": "scatterternary"
           }
          ],
          "surface": [
           {
            "colorbar": {
             "outlinewidth": 0,
             "ticks": ""
            },
            "colorscale": [
             [
              0,
              "#0d0887"
             ],
             [
              0.1111111111111111,
              "#46039f"
             ],
             [
              0.2222222222222222,
              "#7201a8"
             ],
             [
              0.3333333333333333,
              "#9c179e"
             ],
             [
              0.4444444444444444,
              "#bd3786"
             ],
             [
              0.5555555555555556,
              "#d8576b"
             ],
             [
              0.6666666666666666,
              "#ed7953"
             ],
             [
              0.7777777777777778,
              "#fb9f3a"
             ],
             [
              0.8888888888888888,
              "#fdca26"
             ],
             [
              1,
              "#f0f921"
             ]
            ],
            "type": "surface"
           }
          ],
          "table": [
           {
            "cells": {
             "fill": {
              "color": "#EBF0F8"
             },
             "line": {
              "color": "white"
             }
            },
            "header": {
             "fill": {
              "color": "#C8D4E3"
             },
             "line": {
              "color": "white"
             }
            },
            "type": "table"
           }
          ]
         },
         "layout": {
          "annotationdefaults": {
           "arrowcolor": "#2a3f5f",
           "arrowhead": 0,
           "arrowwidth": 1
          },
          "autotypenumbers": "strict",
          "coloraxis": {
           "colorbar": {
            "outlinewidth": 0,
            "ticks": ""
           }
          },
          "colorscale": {
           "diverging": [
            [
             0,
             "#8e0152"
            ],
            [
             0.1,
             "#c51b7d"
            ],
            [
             0.2,
             "#de77ae"
            ],
            [
             0.3,
             "#f1b6da"
            ],
            [
             0.4,
             "#fde0ef"
            ],
            [
             0.5,
             "#f7f7f7"
            ],
            [
             0.6,
             "#e6f5d0"
            ],
            [
             0.7,
             "#b8e186"
            ],
            [
             0.8,
             "#7fbc41"
            ],
            [
             0.9,
             "#4d9221"
            ],
            [
             1,
             "#276419"
            ]
           ],
           "sequential": [
            [
             0,
             "#0d0887"
            ],
            [
             0.1111111111111111,
             "#46039f"
            ],
            [
             0.2222222222222222,
             "#7201a8"
            ],
            [
             0.3333333333333333,
             "#9c179e"
            ],
            [
             0.4444444444444444,
             "#bd3786"
            ],
            [
             0.5555555555555556,
             "#d8576b"
            ],
            [
             0.6666666666666666,
             "#ed7953"
            ],
            [
             0.7777777777777778,
             "#fb9f3a"
            ],
            [
             0.8888888888888888,
             "#fdca26"
            ],
            [
             1,
             "#f0f921"
            ]
           ],
           "sequentialminus": [
            [
             0,
             "#0d0887"
            ],
            [
             0.1111111111111111,
             "#46039f"
            ],
            [
             0.2222222222222222,
             "#7201a8"
            ],
            [
             0.3333333333333333,
             "#9c179e"
            ],
            [
             0.4444444444444444,
             "#bd3786"
            ],
            [
             0.5555555555555556,
             "#d8576b"
            ],
            [
             0.6666666666666666,
             "#ed7953"
            ],
            [
             0.7777777777777778,
             "#fb9f3a"
            ],
            [
             0.8888888888888888,
             "#fdca26"
            ],
            [
             1,
             "#f0f921"
            ]
           ]
          },
          "colorway": [
           "#636efa",
           "#EF553B",
           "#00cc96",
           "#ab63fa",
           "#FFA15A",
           "#19d3f3",
           "#FF6692",
           "#B6E880",
           "#FF97FF",
           "#FECB52"
          ],
          "font": {
           "color": "#2a3f5f"
          },
          "geo": {
           "bgcolor": "white",
           "lakecolor": "white",
           "landcolor": "white",
           "showlakes": true,
           "showland": true,
           "subunitcolor": "#C8D4E3"
          },
          "hoverlabel": {
           "align": "left"
          },
          "hovermode": "closest",
          "mapbox": {
           "style": "light"
          },
          "paper_bgcolor": "white",
          "plot_bgcolor": "white",
          "polar": {
           "angularaxis": {
            "gridcolor": "#EBF0F8",
            "linecolor": "#EBF0F8",
            "ticks": ""
           },
           "bgcolor": "white",
           "radialaxis": {
            "gridcolor": "#EBF0F8",
            "linecolor": "#EBF0F8",
            "ticks": ""
           }
          },
          "scene": {
           "xaxis": {
            "backgroundcolor": "white",
            "gridcolor": "#DFE8F3",
            "gridwidth": 2,
            "linecolor": "#EBF0F8",
            "showbackground": true,
            "ticks": "",
            "zerolinecolor": "#EBF0F8"
           },
           "yaxis": {
            "backgroundcolor": "white",
            "gridcolor": "#DFE8F3",
            "gridwidth": 2,
            "linecolor": "#EBF0F8",
            "showbackground": true,
            "ticks": "",
            "zerolinecolor": "#EBF0F8"
           },
           "zaxis": {
            "backgroundcolor": "white",
            "gridcolor": "#DFE8F3",
            "gridwidth": 2,
            "linecolor": "#EBF0F8",
            "showbackground": true,
            "ticks": "",
            "zerolinecolor": "#EBF0F8"
           }
          },
          "shapedefaults": {
           "line": {
            "color": "#2a3f5f"
           }
          },
          "ternary": {
           "aaxis": {
            "gridcolor": "#DFE8F3",
            "linecolor": "#A2B1C6",
            "ticks": ""
           },
           "baxis": {
            "gridcolor": "#DFE8F3",
            "linecolor": "#A2B1C6",
            "ticks": ""
           },
           "bgcolor": "white",
           "caxis": {
            "gridcolor": "#DFE8F3",
            "linecolor": "#A2B1C6",
            "ticks": ""
           }
          },
          "title": {
           "x": 0.05
          },
          "xaxis": {
           "automargin": true,
           "gridcolor": "#EBF0F8",
           "linecolor": "#EBF0F8",
           "ticks": "",
           "title": {
            "standoff": 15
           },
           "zerolinecolor": "#EBF0F8",
           "zerolinewidth": 2
          },
          "yaxis": {
           "automargin": true,
           "gridcolor": "#EBF0F8",
           "linecolor": "#EBF0F8",
           "ticks": "",
           "title": {
            "standoff": 15
           },
           "zerolinecolor": "#EBF0F8",
           "zerolinewidth": 2
          }
         }
        },
        "title": {
         "text": "<b>60+ Vaccination vs. Socioeconomic Rank<br>Size = Population 60+, Color = Vaccination Need Ratio (VNR)<b>",
         "x": 0.5
        },
        "xaxis": {
         "anchor": "y",
         "domain": [
          0,
          1
         ],
         "range": [
          1,
          255
         ],
         "title": {
          "text": "<b>Socioeconomic Rank - 2017<b>"
         }
        },
        "yaxis": {
         "anchor": "x",
         "domain": [
          0,
          1
         ],
         "range": [
          21,
          92
         ],
         "title": {
          "text": "<b>60+ Vaccination [%] - 12/1/21<b>"
         }
        }
       }
      },
      "text/html": [
       "<div>                            <div id=\"31efe99f-712f-475a-9e46-5dfb4ab00d9d\" class=\"plotly-graph-div\" style=\"height:525px; width:100%;\"></div>            <script type=\"text/javascript\">                require([\"plotly\"], function(Plotly) {                    window.PLOTLYENV=window.PLOTLYENV || {};                                    if (document.getElementById(\"31efe99f-712f-475a-9e46-5dfb4ab00d9d\")) {                    Plotly.newPlot(                        \"31efe99f-712f-475a-9e46-5dfb4ab00d9d\",                        [{\"customdata\": [[1065.0, 1446.0, 461.0], [3167.0, 2519.0, 1757.0], [4788.0, 3960.0, 1681.0], [4449.0, 3958.0, 1906.0], [6291.0, 6743.0, 3941.0], [3255.0, 3768.0, 1714.0], [1888.0, 1160.0, 951.0], [2339.0, 2577.0, 1548.0], [10819.0, 8043.0, 5697.0], [1742.0, 1094.0, 610.0], [1731.0, 1246.0, 515.0], [1581.0, 1151.0, 801.0], [1315.0, 1298.0, 547.0], [2244.0, 1121.0, 816.0], [3470.0, 3519.0, 1880.0], [37822.0, 44391.0, 20105.0], [27883.0, 30206.0, 15321.0], [4371.0, 2494.0, 1421.0], [4034.0, 2902.0, 1838.0], [46585.0, 44496.0, 22287.0], [1077.0, 1286.0, 420.0], [1273.0, 1256.0, 710.0], [3551.0, 3042.0, 2065.0], [10163.0, 7152.0, 3799.0], [2136.0, 1060.0, 373.0], [14658.0, 18711.0, 8781.0], [1038.0, 1792.0, 616.0], [2631.0, 1997.0, 1162.0], [25495.0, 36629.0, 18541.0], [2677.0, 2117.0, 1393.0], [5609.0, 4294.0, 2964.0], [13551.0, 12500.0, 8303.0], [1751.0, 1857.0, 720.0], [4992.0, 4067.0, 2385.0], [4307.0, 2715.0, 1739.0], [5135.0, 3930.0, 3065.0], [1693.0, 1187.0, 572.0], [2703.0, 2124.0, 1012.0], [1228.0, 1036.0, 372.0], [1268.0, 1014.0, 450.0], [8917.0, 6170.0, 3711.0], [15274.0, 11813.0, 8388.0], [25181.0, 24016.0, 16514.0], [5237.0, 3923.0, 2748.0], [19532.0, 20256.0, 11133.0], [39301.0, 44356.0, 26933.0], [70146.0, 73933.0, 43935.0], [2273.0, 1530.0, 1126.0], [9756.0, 8537.0, 5244.0], [1047.0, 1190.0, 420.0], [2974.0, 3756.0, 1248.0], [3061.0, 2806.0, 1152.0], [5130.0, 4777.0, 3027.0], [4598.0, 2946.0, 1584.0], [8720.0, 7822.0, 5023.0], [6624.0, 6452.0, 4303.0], [1421.0, 1795.0, 566.0], [5529.0, 3618.0, 2443.0], [2457.0, 1323.0, 789.0], [101863.0, 116491.0, 55393.0], [1026.0, 1525.0, 413.0], [1540.0, 1027.0, 464.0], [2376.0, 1750.0, 1387.0], [1864.0, 1277.0, 1069.0], [1570.0, 1293.0, 753.0], [4636.0, 3338.0, 2326.0], [3616.0, 1831.0, 1041.0], [1549.0, 1203.0, 498.0], [27016.0, 24450.0, 16703.0], [2240.0, 1572.0, 732.0], [2144.0, 1727.0, 759.0], [11234.0, 11420.0, 6114.0], [2704.0, 1246.0, 1080.0], [10336.0, 13068.0, 5786.0], [6928.0, 5251.0, 4008.0], [2655.0, 1994.0, 965.0], [1226.0, 1266.0, 494.0], [5165.0, 5162.0, 3038.0], [1563.0, 1224.0, 528.0], [20471.0, 11228.0, 8686.0], [3119.0, 1875.0, 1380.0], [3129.0, 1274.0, 1109.0], [7889.0, 5712.0, 3633.0], [1233.0, 1170.0, 413.0], [4079.0, 4485.0, 1955.0], [15164.0, 13617.0, 9092.0], [9206.0, 10234.0, 4827.0], [11153.0, 8679.0, 5773.0], [8588.0, 9659.0, 3968.0], [6068.0, 5810.0, 3324.0], [3623.0, 3483.0, 1591.0], [40710.0, 51379.0, 26422.0], [6581.0, 2527.0, 1762.0], [3109.0, 1871.0, 1562.0], [772.0, 1065.0, 234.0], [10157.0, 9665.0, 5619.0], [1582.0, 1652.0, 739.0], [12393.0, 10827.0, 6475.0], [2934.0, 1886.0, 907.0], [6277.0, 5324.0, 2752.0], [1905.0, 2251.0, 690.0], [766.0, 1086.0, 277.0], [7764.0, 6854.0, 4012.0], [1800.0, 1170.0, 1054.0], [49707.0, 50818.0, 30070.0], [4467.0, 5001.0, 2400.0], [3069.0, 2853.0, 1486.0], [1760.0, 1596.0, 610.0], [1817.0, 1551.0, 947.0], [9872.0, 7626.0, 5599.0], [13190.0, 13026.0, 7948.0], [11428.0, 10548.0, 7177.0], [8439.0, 10055.0, 4746.0], [5434.0, 4609.0, 3480.0], [9788.0, 11817.0, 5886.0], [12882.0, 11845.0, 8153.0], [2585.0, 3481.0, 1557.0], [1890.0, 2090.0, 1152.0], [6423.0, 4463.0, 3281.0], [1460.0, 1044.0, 764.0], [1186.0, 1163.0, 558.0], [10730.0, 8082.0, 5519.0], [53627.0, 59038.0, 34942.0], [4095.0, 2379.0, 954.0], [27244.0, 28696.0, 15725.0], [1188.0, 1779.0, 487.0], [11397.0, 12963.0, 6385.0], [35849.0, 36633.0, 22519.0], [13317.0, 10999.0, 8613.0], [2364.0, 1532.0, 1307.0], [20123.0, 18208.0, 12285.0], [4366.0, 3984.0, 1943.0], [5206.0, 2566.0, 2289.0], [1370.0, 1129.0, 661.0], [4727.0, 4492.0, 2003.0], [93499.0, 90283.0, 56535.0], [2848.0, 1577.0, 1322.0]], \"hovertemplate\": \"<b>%{hovertext}</b><br><br>Socioeconomic Rank = %{x: .0f}<br>60+ Vaccination = %{y: .0f}%<br><br>Accumulated 60+ Vaccinated = %{customdata[2]: .0f}<br>Population over 60 = %{customdata[1]: .0f}<br>Accumulated Vaccinated = %{customdata[0]: .0f}<br>Accumulated Cases = %{marker.size}<br><br>Vaccination Need Ratio = %{marker.color:.3f}<br>\", \"hovertext\": [\"ABU SINAN\", \"EVEN YEHUDA\", \"UMM AL-FAHM\", \"OFAQIM\", \"OR YEHUDA\", \"OR AQIVA\", \"ORANIT\", \"AZOR\", \"ELAT\", \"IKSAL\", \"EL'AD\", \"ALFE MENASHE\", \"I'BILLIN\", \"EFRAT\", \"ARI'EL\", \"ASHDOD\", \"ASHQELON\", \"BAQA AL-GHARBIYYE\", \"BE'ER YA'AQOV\", \"BE'ER SHEVA\", \"BEIT JANN\", \"BET DAGAN\", \"BET SHE'AN\", \"BET SHEMESH\", \"BETAR ILLIT\", \"BENE BERAQ\", \"BENE AYISH\", \"BINYAMINA-GIV'AT ADA\", \"BAT YAM\", \"GIV'AT ZE'EV\", \"GIV'AT SHEMU'EL\", \"GIV'ATAYIM\", \"JUDEIDE-MAKER\", \"GEDERA\", \"GAN YAVNE\", \"GANNE TIQWA\", \"JATT\", \"DALIYAT AL-KARMEL\", \"DABURIYYA\", \"DEIR AL-ASAD\", \"DIMONA\", \"HOD HASHARON\", \"HERZLIYYA\", \"ZIKHRON YA'AQOV\", \"HADERA\", \"HOLON\", \"HAIFA\", \"HAZOR HAGELILIT\", \"TIBERIAS\", \"TUR'AN\", \"TAYIBE\", \"TIRE\", \"TIRAT KARMEL\", \"TAMRA\", \"YAVNE\", \"YEHUD\", \"YAFI\", \"YOQNE'AM ILLIT\", \"YEROHAM\", \"JERUSALEM\", \"YIRKA\", \"KABUL\", \"KOKHAV YA'IR\", \"KEFAR WERADIM\", \"KAFAR YASIF\", \"KEFAR YONA\", \"KAFAR KANNA\", \"KAFAR MANDA\", \"KEFAR SAVA\", \"KAFAR QASEM\", \"KAFAR QARA\", \"KARMI'EL\", \"LEHAVIM\", \"LOD\", \"MEVASSERET ZIYYON\", \"MUGHAR\", \"MAJD AL-KURUM\", \"MIGDAL HAEMEQ\", \"MAJDAL SHAMS\", \"MODI'IN-MAKKABBIM-RE'UT\", \"MAZKERET BATYA\", \"METAR\", \"MA'ALE ADUMMIM\", \"MA'ALE IRON\", \"MA'ALOT-TARSHIHA\", \"NAHARIYYA\", \"NAZERAT ILLIT\", \"NES ZIYYONA\", \"NAZARETH\", \"NESHER\", \"NETIVOT\", \"NETANYA\", \"SAKHNIN\", \"OMER\", \"EIN MAHEL\", \"AKKO\", \"ISIFYA\", \"AFULA\", \"ARRABE\", \"ARAD\", \"AR'ARA\", \"FUREIDIS\", \"PARDES HANNA-KARKUR\", \"PARDESIYYA\", \"PETAH TIQWA\", \"ZEFAT\", \"QADIMA-ZORAN\", \"QALANSAWE\", \"QAZRIN\", \"QIRYAT ONO\", \"QIRYAT ATTA\", \"QIRYAT BIALIK\", \"QIRYAT GAT\", \"QIRYAT TIV'ON\", \"QIRYAT YAM\", \"QIRYAT MOTZKIN\", \"QIRYAT MAL'AKHI\", \"QIRYAT EQRON\", \"QIRYAT SHEMONA\", \"QARNE SHOMERON\", \"RAME\", \"ROSH HAAYIN\", \"RISHON LEZIYYON\", \"RAHAT\", \"REHOVOT\", \"REINE\", \"RAMLA\", \"RAMAT GAN\", \"RAMAT HASHARON\", \"RAMAT YISHAY\", \"RA'ANNANA\", \"SEDEROT\", \"SHOHAM\", \"SHELOMI\", \"SHEFAR'AM\", \"TEL AVIV - YAFO\", \"TEL MOND\"], \"legendgroup\": \"\", \"marker\": {\"color\": [2.580697174104593, 0.5806947243573081, 1.62902094969415, 1.5102793255481712, 1.0829326183017893, 1.7497012732145214, 0.2588007216829562, 0.9893039170111274, 0.4130188709850914, 1.0675253708040595, 6.742793407941601, 0.4698289612833053, 2.1045269644063107, 1.716264656889963, 0.88396020220017, 1.8205914705500634, 1.0140087765893098, 0.7735341214950088, 0.8187848390315654, 1.0511553996719953, 3.0871633713063598, 1.0927334770462167, 1.1648398454056006, 3.620356958466258, 7.901677740480583, 4.319200497050351, 1.250683967794888, 0.33619137911615454, 1.0305605138696015, 3.42395629457977, 1.1283189682617782, 0.3723731812727819, 1.486832364661595, 0.6203504831177032, 0.9026411196768369, 1.2131982999964652, 1.1319135410044503, 3.328997814477558, 1.9078604094410856, 1.2604549571146981, 0.804806704704775, 0.44584769656993933, 0.4491008987353397, 0.6951519339286469, 0.7570550647678996, 0.9305050089949497, 1.1784117260895626, 2.505969193139795, 1.3487831049713783, 3.0442415730337076, 1.2529508733185053, 1.394381256067758, 0.9900868530290956, 2.482177409122629, 1.282834487259625, 0.7164425234863773, 3.5934888305383312, 0.6161356383950439, 1.9709883050483097, 3.472178690665423, 2.645022162063606, 2.4968043204364476, 0.26098467945364556, 0.675023795582053, 2.0335120585456457, 0.631301572755406, 2.4739282659604616, 1.1128226000892814, 0.541178657846661, 1.4693748911886364, 0.5982128296457514, 1.0459475732366987, 0.48558067030397506, 1.6963365541177005, 1.459815277145692, 1.7191591127453645, 2.454140727225574, 1.303725033060622, 3.9604000650512274, 0.6000616965586971, 0.35714181057344885, 0.7562595731635277, 1.586470761565049, 2.3505889330254934, 1.744016896005517, 0.8610378555730018, 1.7983795861462766, 0.49564202035127575, 3.4134767077155694, 1.0061176096781441, 2.402498390991279, 1.0752661259936453, 1.8864649093491312, 0.4772204396243452, 5.665637949102515, 1.2505071788558622, 2.8606936770898934, 1.0972829208405246, 1.5535200632030066, 2.451140061607568, 1.8867044988102104, 2.8116167709383966, 0.6235959532066189, 0.1497547286335521, 1.4122099599260032, 3.0539805784894996, 0.6432740938972267, 1.0740067279487548, 0.5386773491413274, 0.6640097501705536, 1.2604809459010249, 0.7233217717631908, 2.2111920533784315, 0.4967507972434081, 1.2076969756756677, 1.1440737384259065, 2.224540066579513, 1.154408942621378, 0.761337324350512, 0.7055030136087039, 3.398200093501636, 1.1089419245123746, 0.65555817567544, 0.5550345059283004, 1.0893087884415438, 2.9030029436470812, 1.794681769356744, 0.7920850634104993, 0.4135560059376117, 0.48180859056933195, 0.7349645630760971, 1.63233668508527, 0.49006056525984343, 1.2854076111391615, 2.602579743361676, 0.7464426122494261, 0.3267195998611447], \"coloraxis\": \"coloraxis\", \"size\": [1446, 2519, 3960, 3958, 6743, 3768, 1160, 2577, 8043, 1094, 1246, 1151, 1298, 1121, 3519, 44391, 30206, 2494, 2902, 44496, 1286, 1256, 3042, 7152, 1060, 18711, 1792, 1997, 36629, 2117, 4294, 12500, 1857, 4067, 2715, 3930, 1187, 2124, 1036, 1014, 6170, 11813, 24016, 3923, 20256, 44356, 73933, 1530, 8537, 1190, 3756, 2806, 4777, 2946, 7822, 6452, 1795, 3618, 1323, 116491, 1525, 1027, 1750, 1277, 1293, 3338, 1831, 1203, 24450, 1572, 1727, 11420, 1246, 13068, 5251, 1994, 1266, 5162, 1224, 11228, 1875, 1274, 5712, 1170, 4485, 13617, 10234, 8679, 9659, 5810, 3483, 51379, 2527, 1871, 1065, 9665, 1652, 10827, 1886, 5324, 2251, 1086, 6854, 1170, 50818, 5001, 2853, 1596, 1551, 7626, 13026, 10548, 10055, 4609, 11817, 11845, 3481, 2090, 4463, 1044, 1163, 8082, 59038, 2379, 28696, 1779, 12963, 36633, 10999, 1532, 18208, 3984, 2566, 1129, 4492, 90283, 1577], \"sizemode\": \"area\", \"sizeref\": 8.089652777777777, \"symbol\": \"circle\"}, \"mode\": \"markers+text\", \"name\": \"\", \"orientation\": \"v\", \"showlegend\": false, \"text\": [\"\", \"\", \"UMM AL-FAHM\", \"OFAQIM\", \"OR YEHUDA\", \"\", \"\", \"\", \"ELAT\", \"\", \"EL'AD\", \"\", \"\", \"\", \"\", \"ASHDOD\", \"ASHQELON\", \"\", \"\", \"BE'ER SHEVA\", \"\", \"\", \"\", \"BET SHEMESH\", \"BETAR ILLIT\", \"BENE BERAQ\", \"\", \"\", \"BAT YAM\", \"\", \"\", \"GIV'ATAYIM\", \"\", \"\", \"\", \"\", \"\", \"\", \"\", \"\", \"DIMONA\", \"HOD HASHARON\", \"HERZLIYYA\", \"\", \"HADERA\", \"HOLON\", \"HAIFA\", \"\", \"TIBERIAS\", \"\", \"TAYIBE\", \"\", \"\", \"TAMRA\", \"YAVNE\", \"\", \"\", \"\", \"\", \"JERUSALEM\", \"\", \"\", \"\", \"\", \"\", \"\", \"\", \"\", \"KEFAR SAVA\", \"\", \"\", \"KARMI'EL\", \"\", \"LOD\", \"\", \"\", \"\", \"\", \"\", \"MODI'IN-MAKKABBIM-RE'UT\", \"\", \"\", \"MA'ALE ADUMMIM\", \"\", \"\", \"NAHARIYYA\", \"NAZERAT ILLIT\", \"NES ZIYYONA\", \"NAZARETH\", \"\", \"NETIVOT\", \"NETANYA\", \"SAKHNIN\", \"\", \"\", \"AKKO\", \"\", \"AFULA\", \"\", \"\", \"\", \"\", \"PARDES HANNA-KARKUR\", \"\", \"PETAH TIQWA\", \"ZEFAT\", \"\", \"\", \"\", \"QIRYAT ONO\", \"QIRYAT ATTA\", \"QIRYAT BIALIK\", \"QIRYAT GAT\", \"\", \"QIRYAT YAM\", \"QIRYAT MOTZKIN\", \"\", \"\", \"\", \"\", \"\", \"ROSH HAAYIN\", \"RISHON LEZIYYON\", \"RAHAT\", \"REHOVOT\", \"\", \"RAMLA\", \"RAMAT GAN\", \"RAMAT HASHARON\", \"\", \"RA'ANNANA\", \"\", \"\", \"\", \"SHEFAR'AM\", \"TEL AVIV - YAFO\", \"\"], \"type\": \"scatter\", \"x\": [63, 243, 17, 73, 136, 127, 230, 177, 148, 58, 19, 222, 68, 171, 158, 112, 125, 74, 192, 130, 83, 179, 105, 21, 11, 18, 138, 232, 122, 115, 216, 241, 43, 190, 191, 239, 111, 100, 79, 78, 102, 242, 224, 220, 150, 165, 169, 92, 89, 57, 59, 93, 123, 49, 168, 209, 50, 198, 91, 38, 64, 45, 251, 245, 108, 195, 32, 16, 219, 62, 101, 154, 253, 84, 212, 46, 56, 104, 52, 238, 226, 246, 157, 23, 131, 156, 120, 231, 75, 186, 72, 142, 71, 252, 24, 94, 97, 114, 44, 90, 69, 51, 184, 240, 181, 29, 225, 54, 107, 244, 146, 166, 95, 228, 128, 176, 81, 139, 119, 151, 103, 185, 196, 10, 182, 42, 99, 210, 247, 235, 223, 109, 248, 141, 66, 215, 236], \"xaxis\": \"x\", \"y\": [31.88105117565698, 69.74990075426757, 42.44949494949495, 48.155634158666, 58.445795639922885, 45.48832271762208, 81.98275862068965, 60.06984866123399, 70.83177918687056, 55.758683729433265, 41.3322632423756, 69.59165942658558, 42.14175654853621, 72.7921498661909, 53.42426825802785, 45.29071208127773, 50.721710918360586, 56.97674418604651, 63.33563059958649, 50.08764832793959, 32.65940902021773, 56.52866242038217, 67.88297172912557, 53.11800894854586, 35.18867924528302, 46.92961359628026, 34.375, 58.187280921382076, 50.618362499658744, 65.80066131317903, 69.02654867256636, 66.424, 38.77221324717286, 58.642734202114575, 64.05156537753223, 77.98982188295165, 48.188711036225776, 47.64595103578154, 35.907335907335906, 44.37869822485207, 60.14586709886548, 71.00651824261406, 68.76249167221852, 70.04843232220239, 54.96149289099526, 60.72008296510055, 59.425425723290004, 73.59477124183007, 61.426730701651636, 35.294117647058826, 33.22683706070288, 41.054882394868145, 63.36612936989743, 53.76782077393075, 64.21631296343647, 66.692498450093, 31.53203342618384, 67.52349364289663, 59.63718820861678, 47.55131297696818, 27.081967213114755, 45.18013631937682, 79.25714285714285, 83.71182458888019, 58.23665893271461, 69.68244457759137, 56.85417804478428, 41.39650872817955, 68.31492842535786, 46.56488549618321, 43.94904458598726, 53.53765323992995, 86.67736757624398, 44.27609427609428, 76.3283184155399, 48.395185556670015, 39.02053712480253, 58.85315769081751, 43.13725490196079, 77.36017100106875, 73.6, 87.04866562009418, 63.60294117647059, 35.2991452991453, 43.58974358974359, 66.76947932731146, 47.166308383818645, 66.51687982486462, 41.08085723159747, 57.211703958691906, 45.67901234567901, 51.42567975242803, 69.72694895132568, 83.48476750400854, 21.971830985915496, 58.137609932747026, 44.73365617433414, 59.80419322065207, 48.09119830328738, 51.69045830202855, 30.65304309195913, 25.50644567219153, 58.53516194922673, 90.08547008547009, 59.17194694793183, 47.990401919616076, 52.085524009814236, 38.22055137844612, 61.05738233397808, 73.41987936008393, 61.01642868109934, 68.04133485020857, 47.20039781203381, 75.50444781948362, 49.809596344249805, 68.83073026593499, 44.72852628555013, 55.11961722488038, 73.51557248487565, 73.18007662835248, 47.97936371453139, 68.28755258599357, 59.18560926860666, 40.10088272383354, 54.79857819905213, 27.374929735806635, 49.25557355550413, 61.471896923538885, 78.30711882898446, 85.31331592689295, 67.47034270650263, 48.77008032128514, 89.2049883086516, 58.54738706820195, 44.59038290293856, 62.61976230298063, 83.83005707038681], \"yaxis\": \"y\"}],                        {\"coloraxis\": {\"cmax\": 2.5894502018074266, \"cmin\": 0.6706181774174533, \"colorbar\": {\"title\": {\"text\": \"VNR\"}}, \"colorscale\": [[0.0, \"rgb(0,155,0)\"], [0.5, \"rgb(255,137,0)\"], [1.0, \"rgb(255,0,0)\"]]}, \"legend\": {\"itemsizing\": \"constant\", \"tracegroupgap\": 0}, \"margin\": {\"b\": 0, \"l\": 0, \"r\": 0, \"t\": 100}, \"template\": {\"data\": {\"bar\": [{\"error_x\": {\"color\": \"#2a3f5f\"}, \"error_y\": {\"color\": \"#2a3f5f\"}, \"marker\": {\"line\": {\"color\": \"white\", \"width\": 0.5}}, \"type\": \"bar\"}], \"barpolar\": [{\"marker\": {\"line\": {\"color\": \"white\", \"width\": 0.5}}, \"type\": \"barpolar\"}], \"carpet\": [{\"aaxis\": {\"endlinecolor\": \"#2a3f5f\", \"gridcolor\": \"#C8D4E3\", \"linecolor\": \"#C8D4E3\", \"minorgridcolor\": \"#C8D4E3\", \"startlinecolor\": \"#2a3f5f\"}, \"baxis\": {\"endlinecolor\": \"#2a3f5f\", \"gridcolor\": \"#C8D4E3\", \"linecolor\": \"#C8D4E3\", \"minorgridcolor\": \"#C8D4E3\", \"startlinecolor\": \"#2a3f5f\"}, \"type\": \"carpet\"}], \"choropleth\": [{\"colorbar\": {\"outlinewidth\": 0, \"ticks\": \"\"}, \"type\": \"choropleth\"}], \"contour\": [{\"colorbar\": {\"outlinewidth\": 0, \"ticks\": \"\"}, \"colorscale\": [[0.0, \"#0d0887\"], [0.1111111111111111, \"#46039f\"], [0.2222222222222222, \"#7201a8\"], [0.3333333333333333, \"#9c179e\"], [0.4444444444444444, \"#bd3786\"], [0.5555555555555556, \"#d8576b\"], [0.6666666666666666, \"#ed7953\"], [0.7777777777777778, \"#fb9f3a\"], [0.8888888888888888, \"#fdca26\"], [1.0, \"#f0f921\"]], \"type\": \"contour\"}], \"contourcarpet\": [{\"colorbar\": {\"outlinewidth\": 0, \"ticks\": \"\"}, \"type\": \"contourcarpet\"}], \"heatmap\": [{\"colorbar\": {\"outlinewidth\": 0, \"ticks\": \"\"}, \"colorscale\": [[0.0, \"#0d0887\"], [0.1111111111111111, \"#46039f\"], [0.2222222222222222, \"#7201a8\"], [0.3333333333333333, \"#9c179e\"], [0.4444444444444444, \"#bd3786\"], [0.5555555555555556, \"#d8576b\"], [0.6666666666666666, \"#ed7953\"], [0.7777777777777778, \"#fb9f3a\"], [0.8888888888888888, \"#fdca26\"], [1.0, \"#f0f921\"]], \"type\": \"heatmap\"}], \"heatmapgl\": [{\"colorbar\": {\"outlinewidth\": 0, \"ticks\": \"\"}, \"colorscale\": [[0.0, \"#0d0887\"], [0.1111111111111111, \"#46039f\"], [0.2222222222222222, \"#7201a8\"], [0.3333333333333333, \"#9c179e\"], [0.4444444444444444, \"#bd3786\"], [0.5555555555555556, \"#d8576b\"], [0.6666666666666666, \"#ed7953\"], [0.7777777777777778, \"#fb9f3a\"], [0.8888888888888888, \"#fdca26\"], [1.0, \"#f0f921\"]], \"type\": \"heatmapgl\"}], \"histogram\": [{\"marker\": {\"colorbar\": {\"outlinewidth\": 0, \"ticks\": \"\"}}, \"type\": \"histogram\"}], \"histogram2d\": [{\"colorbar\": {\"outlinewidth\": 0, \"ticks\": \"\"}, \"colorscale\": [[0.0, \"#0d0887\"], [0.1111111111111111, \"#46039f\"], [0.2222222222222222, \"#7201a8\"], [0.3333333333333333, \"#9c179e\"], [0.4444444444444444, \"#bd3786\"], [0.5555555555555556, \"#d8576b\"], [0.6666666666666666, \"#ed7953\"], [0.7777777777777778, \"#fb9f3a\"], [0.8888888888888888, \"#fdca26\"], [1.0, \"#f0f921\"]], \"type\": \"histogram2d\"}], \"histogram2dcontour\": [{\"colorbar\": {\"outlinewidth\": 0, \"ticks\": \"\"}, \"colorscale\": [[0.0, \"#0d0887\"], [0.1111111111111111, \"#46039f\"], [0.2222222222222222, \"#7201a8\"], [0.3333333333333333, \"#9c179e\"], [0.4444444444444444, \"#bd3786\"], [0.5555555555555556, \"#d8576b\"], [0.6666666666666666, \"#ed7953\"], [0.7777777777777778, \"#fb9f3a\"], [0.8888888888888888, \"#fdca26\"], [1.0, \"#f0f921\"]], \"type\": \"histogram2dcontour\"}], \"mesh3d\": [{\"colorbar\": {\"outlinewidth\": 0, \"ticks\": \"\"}, \"type\": \"mesh3d\"}], \"parcoords\": [{\"line\": {\"colorbar\": {\"outlinewidth\": 0, \"ticks\": \"\"}}, \"type\": \"parcoords\"}], \"pie\": [{\"automargin\": true, \"type\": \"pie\"}], \"scatter\": [{\"marker\": {\"colorbar\": {\"outlinewidth\": 0, \"ticks\": \"\"}}, \"type\": \"scatter\"}], \"scatter3d\": [{\"line\": {\"colorbar\": {\"outlinewidth\": 0, \"ticks\": \"\"}}, \"marker\": {\"colorbar\": {\"outlinewidth\": 0, \"ticks\": \"\"}}, \"type\": \"scatter3d\"}], \"scattercarpet\": [{\"marker\": {\"colorbar\": {\"outlinewidth\": 0, \"ticks\": \"\"}}, \"type\": \"scattercarpet\"}], \"scattergeo\": [{\"marker\": {\"colorbar\": {\"outlinewidth\": 0, \"ticks\": \"\"}}, \"type\": \"scattergeo\"}], \"scattergl\": [{\"marker\": {\"colorbar\": {\"outlinewidth\": 0, \"ticks\": \"\"}}, \"type\": \"scattergl\"}], \"scattermapbox\": [{\"marker\": {\"colorbar\": {\"outlinewidth\": 0, \"ticks\": \"\"}}, \"type\": \"scattermapbox\"}], \"scatterpolar\": [{\"marker\": {\"colorbar\": {\"outlinewidth\": 0, \"ticks\": \"\"}}, \"type\": \"scatterpolar\"}], \"scatterpolargl\": [{\"marker\": {\"colorbar\": {\"outlinewidth\": 0, \"ticks\": \"\"}}, \"type\": \"scatterpolargl\"}], \"scatterternary\": [{\"marker\": {\"colorbar\": {\"outlinewidth\": 0, \"ticks\": \"\"}}, \"type\": \"scatterternary\"}], \"surface\": [{\"colorbar\": {\"outlinewidth\": 0, \"ticks\": \"\"}, \"colorscale\": [[0.0, \"#0d0887\"], [0.1111111111111111, \"#46039f\"], [0.2222222222222222, \"#7201a8\"], [0.3333333333333333, \"#9c179e\"], [0.4444444444444444, \"#bd3786\"], [0.5555555555555556, \"#d8576b\"], [0.6666666666666666, \"#ed7953\"], [0.7777777777777778, \"#fb9f3a\"], [0.8888888888888888, \"#fdca26\"], [1.0, \"#f0f921\"]], \"type\": \"surface\"}], \"table\": [{\"cells\": {\"fill\": {\"color\": \"#EBF0F8\"}, \"line\": {\"color\": \"white\"}}, \"header\": {\"fill\": {\"color\": \"#C8D4E3\"}, \"line\": {\"color\": \"white\"}}, \"type\": \"table\"}]}, \"layout\": {\"annotationdefaults\": {\"arrowcolor\": \"#2a3f5f\", \"arrowhead\": 0, \"arrowwidth\": 1}, \"autotypenumbers\": \"strict\", \"coloraxis\": {\"colorbar\": {\"outlinewidth\": 0, \"ticks\": \"\"}}, \"colorscale\": {\"diverging\": [[0, \"#8e0152\"], [0.1, \"#c51b7d\"], [0.2, \"#de77ae\"], [0.3, \"#f1b6da\"], [0.4, \"#fde0ef\"], [0.5, \"#f7f7f7\"], [0.6, \"#e6f5d0\"], [0.7, \"#b8e186\"], [0.8, \"#7fbc41\"], [0.9, \"#4d9221\"], [1, \"#276419\"]], \"sequential\": [[0.0, \"#0d0887\"], [0.1111111111111111, \"#46039f\"], [0.2222222222222222, \"#7201a8\"], [0.3333333333333333, \"#9c179e\"], [0.4444444444444444, \"#bd3786\"], [0.5555555555555556, \"#d8576b\"], [0.6666666666666666, \"#ed7953\"], [0.7777777777777778, \"#fb9f3a\"], [0.8888888888888888, \"#fdca26\"], [1.0, \"#f0f921\"]], \"sequentialminus\": [[0.0, \"#0d0887\"], [0.1111111111111111, \"#46039f\"], [0.2222222222222222, \"#7201a8\"], [0.3333333333333333, \"#9c179e\"], [0.4444444444444444, \"#bd3786\"], [0.5555555555555556, \"#d8576b\"], [0.6666666666666666, \"#ed7953\"], [0.7777777777777778, \"#fb9f3a\"], [0.8888888888888888, \"#fdca26\"], [1.0, \"#f0f921\"]]}, \"colorway\": [\"#636efa\", \"#EF553B\", \"#00cc96\", \"#ab63fa\", \"#FFA15A\", \"#19d3f3\", \"#FF6692\", \"#B6E880\", \"#FF97FF\", \"#FECB52\"], \"font\": {\"color\": \"#2a3f5f\"}, \"geo\": {\"bgcolor\": \"white\", \"lakecolor\": \"white\", \"landcolor\": \"white\", \"showlakes\": true, \"showland\": true, \"subunitcolor\": \"#C8D4E3\"}, \"hoverlabel\": {\"align\": \"left\"}, \"hovermode\": \"closest\", \"mapbox\": {\"style\": \"light\"}, \"paper_bgcolor\": \"white\", \"plot_bgcolor\": \"white\", \"polar\": {\"angularaxis\": {\"gridcolor\": \"#EBF0F8\", \"linecolor\": \"#EBF0F8\", \"ticks\": \"\"}, \"bgcolor\": \"white\", \"radialaxis\": {\"gridcolor\": \"#EBF0F8\", \"linecolor\": \"#EBF0F8\", \"ticks\": \"\"}}, \"scene\": {\"xaxis\": {\"backgroundcolor\": \"white\", \"gridcolor\": \"#DFE8F3\", \"gridwidth\": 2, \"linecolor\": \"#EBF0F8\", \"showbackground\": true, \"ticks\": \"\", \"zerolinecolor\": \"#EBF0F8\"}, \"yaxis\": {\"backgroundcolor\": \"white\", \"gridcolor\": \"#DFE8F3\", \"gridwidth\": 2, \"linecolor\": \"#EBF0F8\", \"showbackground\": true, \"ticks\": \"\", \"zerolinecolor\": \"#EBF0F8\"}, \"zaxis\": {\"backgroundcolor\": \"white\", \"gridcolor\": \"#DFE8F3\", \"gridwidth\": 2, \"linecolor\": \"#EBF0F8\", \"showbackground\": true, \"ticks\": \"\", \"zerolinecolor\": \"#EBF0F8\"}}, \"shapedefaults\": {\"line\": {\"color\": \"#2a3f5f\"}}, \"ternary\": {\"aaxis\": {\"gridcolor\": \"#DFE8F3\", \"linecolor\": \"#A2B1C6\", \"ticks\": \"\"}, \"baxis\": {\"gridcolor\": \"#DFE8F3\", \"linecolor\": \"#A2B1C6\", \"ticks\": \"\"}, \"bgcolor\": \"white\", \"caxis\": {\"gridcolor\": \"#DFE8F3\", \"linecolor\": \"#A2B1C6\", \"ticks\": \"\"}}, \"title\": {\"x\": 0.05}, \"xaxis\": {\"automargin\": true, \"gridcolor\": \"#EBF0F8\", \"linecolor\": \"#EBF0F8\", \"ticks\": \"\", \"title\": {\"standoff\": 15}, \"zerolinecolor\": \"#EBF0F8\", \"zerolinewidth\": 2}, \"yaxis\": {\"automargin\": true, \"gridcolor\": \"#EBF0F8\", \"linecolor\": \"#EBF0F8\", \"ticks\": \"\", \"title\": {\"standoff\": 15}, \"zerolinecolor\": \"#EBF0F8\", \"zerolinewidth\": 2}}}, \"title\": {\"text\": \"<b>60+ Vaccination vs. Socioeconomic Rank<br>Size = Population 60+, Color = Vaccination Need Ratio (VNR)<b>\", \"x\": 0.5}, \"xaxis\": {\"anchor\": \"y\", \"domain\": [0.0, 1.0], \"range\": [1, 255], \"title\": {\"text\": \"<b>Socioeconomic Rank - 2017<b>\"}}, \"yaxis\": {\"anchor\": \"x\", \"domain\": [0.0, 1.0], \"range\": [21, 92], \"title\": {\"text\": \"<b>60+ Vaccination [%] - 12/1/21<b>\"}}},                        {\"responsive\": true}                    ).then(function(){\n",
       "                            \n",
       "var gd = document.getElementById('31efe99f-712f-475a-9e46-5dfb4ab00d9d');\n",
       "var x = new MutationObserver(function (mutations, observer) {{\n",
       "        var display = window.getComputedStyle(gd).display;\n",
       "        if (!display || display === 'none') {{\n",
       "            console.log([gd, 'removed!']);\n",
       "            Plotly.purge(gd);\n",
       "            observer.disconnect();\n",
       "        }}\n",
       "}});\n",
       "\n",
       "// Listen for the removal of the full notebook cells\n",
       "var notebookContainer = gd.closest('#notebook-container');\n",
       "if (notebookContainer) {{\n",
       "    x.observe(notebookContainer, {childList: true});\n",
       "}}\n",
       "\n",
       "// Listen for the clearing of the current output cell\n",
       "var outputEl = gd.closest('.output');\n",
       "if (outputEl) {{\n",
       "    x.observe(outputEl, {childList: true});\n",
       "}}\n",
       "\n",
       "                        })                };                });            </script>        </div>"
      ]
     },
     "metadata": {},
     "output_type": "display_data"
    }
   ],
   "source": [
    "fig = px.scatter(show_table,\n",
    "                 x=\"Rank\",\n",
    "                 y=y_key,\n",
    "                 size=size_key,\n",
    "                 color=color_key,\n",
    "                 hover_name=\"name_e\",\n",
    "                 hover_data={'Cumulated_vaccinated': ':.0f',\n",
    "                             'population_60+': ':.0f',\n",
    "                             'vaccination_60+': ':.0f'},\n",
    "                 range_x=chosen_x_range,\n",
    "                 range_y=chosen_y_range,\n",
    "                 size_max=120,\n",
    "                 text=\"text\",\n",
    "                 color_continuous_scale=color_scale,\n",
    "                 range_color=[low_color, high_color])\n",
    "\n",
    "chosen_x_title = 'Socioeconomic Rank'\n",
    "chosen_x_axes_title = 'Socioeconomic Rank - 2017'\n",
    "fig.update_layout(title=\"<b>60+ Vaccination vs. {}<br>\"\n",
    "                        \"Size = {}, Color = Vaccination Need Ratio (VNR)<b>\"\n",
    "                  .format(chosen_x_title,\n",
    "                          size_key.replace('_', ' ').capitalize()),\n",
    "                  title_x=0.5,\n",
    "                  xaxis_title='<b>{}<b>'.format(chosen_x_axes_title),\n",
    "                  yaxis_title='<b>' + y_key + '<b>',\n",
    "\n",
    "                  margin=dict(r=0, l=0, b=0, t=100),\n",
    "                  template=\"plotly_white\"\n",
    "                  )\n",
    "\n",
    "fig.data[0].update(hovertemplate='<b>%{hovertext}</b><br><br>' +\n",
    "                                 chosen_x_title + ' = %{x: .0f}<br>' +\n",
    "                                 '60+ Vaccination' + ' = %{y: .0f}%<br>' +\n",
    "                                 '<br>' +\n",
    "                                 'Accumulated 60+ Vaccinated' + ' = %{customdata[2]: .0f}<br>' +\n",
    "                                 'Population over 60' + ' = %{customdata[1]: .0f}<br>' +\n",
    "                                 'Accumulated Vaccinated' + ' = %{customdata[0]: .0f}<br>' +\n",
    "                                 'Accumulated Cases' + ' = %{marker.size}<br>' +\n",
    "                                 '<br>' +\n",
    "                                 'Vaccination Need Ratio' + ' = %{marker.color:.3f}<br>')\n",
    "fig.show()"
   ]
  },
  {
   "cell_type": "markdown",
   "id": "allied-ethics",
   "metadata": {},
   "source": [
    "##### Save Results "
   ]
  },
  {
   "cell_type": "code",
   "execution_count": 57,
   "id": "selected-accountability",
   "metadata": {},
   "outputs": [],
   "source": [
    "ses_html_file_name = '60+ Vaccination vs. {}.html'.format(chosen_x_title)\n",
    "ses_html_save_path = os.path.join(results_directory, ses_html_file_name)\n",
    "fig.write_html(ses_html_save_path, full_html=False, include_plotlyjs='cdn')\n",
    "\n",
    "# Save high quality image\n",
    "for extension in required_extensions:\n",
    "    file_name = '60+ Vaccination vs. Socioeconomic Rank'\n",
    "    save_path = os.path.join(results_directory,\n",
    "                             '{}{}'.format(file_name, extension))\n",
    "    fig.write_image(save_path,\n",
    "                    width=1920,\n",
    "                    height=1080\n",
    "                    )"
   ]
  },
  {
   "cell_type": "markdown",
   "id": "related-australia",
   "metadata": {},
   "source": [
    "#### Correlations analysis "
   ]
  },
  {
   "cell_type": "code",
   "execution_count": 58,
   "id": "instructional-initial",
   "metadata": {},
   "outputs": [],
   "source": [
    "def pearsonr_pval(x, y):\n",
    "    return pearsonr(x, y)[1]\n",
    "\n",
    "\n",
    "def spearmanr_pval(x, y):\n",
    "    return spearmanr(x, y)[1]\n",
    "\n",
    "\n",
    "def m(x, w):\n",
    "    \"\"\"Weighted Mean\"\"\"\n",
    "    return np.sum(x * w) / np.sum(w)\n",
    "\n",
    "\n",
    "def cov(x, y, w):\n",
    "    \"\"\"Weighted Covariance\"\"\"\n",
    "    return np.sum(w * (x - m(x, w)) * (y - m(y, w))) / np.sum(w)\n",
    "\n",
    "\n",
    "def corr(x, y, w):\n",
    "    \"\"\"Weighted Correlation\"\"\"\n",
    "    return cov(x, y, w) / np.sqrt(cov(x, x, w) * cov(y, y, w))\n",
    "\n",
    "def generate_confidence_interval_data(repetitions, x, y, w, correlations_data, correlation_func):\n",
    "    ret = []\n",
    "    for i in range(repetitions):\n",
    "        samples_df = correlations_data.sample(len(correlations_data[x]), replace=True, random_state=i)\n",
    "        ret.append(correlation_func(samples_df[x], samples_df[y], samples_df[w]))\n",
    "    return ret\n",
    "\n",
    "def calc_ci(data, alpha, repetitions):\n",
    "    data.sort()\n",
    "    trim_val = int((1 - alpha) * repetitions / 2)\n",
    "    del data[len(data) - trim_val:]\n",
    "    del data[:trim_val]\n",
    "    return min(data), max(data)"
   ]
  },
  {
   "cell_type": "code",
   "execution_count": 59,
   "id": "english-roberts",
   "metadata": {},
   "outputs": [],
   "source": [
    "def calc_correlations(x, y, w):\n",
    "    corr_data = bubble_table[[x, y, w]]\n",
    "    alpha = 0.95\n",
    "    repetitions = 10000\n",
    "\n",
    "    # # Calculate weighted correlation - 1st method\n",
    "    # weighted_correlation_1st_method = wpcc.wpearson(corr_data[x], corr_data[y], corr_data[w])\n",
    "    # ci_data = generate_confidence_interval_data(repetitions, x, y, w, corr_data, wpcc.wpearson)\n",
    "    # ci_1st_method = calc_ci(ci_data, alpha, repetitions)\n",
    "\n",
    "    # Calculate weighted correlation - 2nd method\n",
    "    weighted_correlation_2nd_method = corr(corr_data[x], corr_data[y], corr_data[w])\n",
    "    ci_data = generate_confidence_interval_data(repetitions, x, y, w, corr_data, corr)\n",
    "    ci_2nd_method = calc_ci(ci_data, alpha, repetitions)\n",
    "\n",
    "    # Calculate the pearson correlation\n",
    "    pearson_correlation = corr_data[y].corr(corr_data[x], method='pearson')\n",
    "    pearson_p_value = corr_data[y].corr(corr_data[x], method=pearsonr_pval)\n",
    "\n",
    "    # Calculate the spearman correlation\n",
    "    spearman_correlation = corr_data[y].corr(corr_data[x], method='spearman')\n",
    "    spearman_p_value = corr_data[y].corr(corr_data[x], method=spearmanr_pval)\n",
    "\n",
    "    # print(\"Weighted Correlation - 1st method: {}\".format(weighted_correlation_1st_method) +\n",
    "    #       \"; Confidence Interval (alpha={}) : {}\".format(alpha, ci_1st_method))\n",
    "    print(\"Weighted Correlation - 2nd method: {}\".format(weighted_correlation_2nd_method) +\n",
    "          \"; Confidence Interval: (alpha={}) : {}\".format(alpha, ci_2nd_method))\n",
    "    print(\"Pearson Correlation: {} +- {}\".format(pearson_correlation, pearson_p_value))\n",
    "    print(\"Spearman Correlation: {} +- {}\".format(spearman_correlation, spearman_p_value))\n",
    "    print()"
   ]
  },
  {
   "cell_type": "code",
   "execution_count": 60,
   "id": "comic-italian",
   "metadata": {},
   "outputs": [
    {
     "name": "stdout",
     "output_type": "stream",
     "text": [
      "(1) - 60+ Vaccinations % ~ Active cases per 10,000 people - 12/1/21\n",
      "Weighted Correlation - 2nd method: -0.43046433046014515; Confidence Interval: (alpha=0.95) : (-0.5668089836127969, -0.24407811879553812)\n",
      "Pearson Correlation: -0.1486669728899709 +- 0.04400108097734705\n",
      "Spearman Correlation: -0.26003351890736065 +- 0.0003642031684114182\n",
      "\n",
      "(2) - 60+ Vaccinations % ~ Socioeconomic Rank\n",
      "Weighted Correlation - 2nd method: 0.7793232906512668; Confidence Interval: (alpha=0.95) : (0.725850772833761, 0.8262186087738966)\n",
      "Pearson Correlation: 0.7698280473089949 +- 2.4649188280884315e-37\n",
      "Spearman Correlation: 0.7734083334938644 +- 7.08143246294863e-38\n",
      "\n",
      "(3) - Socioeconomic Rank ~ Active cases per 10,000 people - 12/1/21\n",
      "Weighted Correlation - 2nd method: -0.7371015917261003; Confidence Interval: (alpha=0.95) : (-0.8411459305844606, -0.5061097961638084)\n",
      "Pearson Correlation: -0.4138483033980895 +- 5.239328157803827e-09\n",
      "Spearman Correlation: -0.43911887653869125 +- 4.5018316932717227e-10\n",
      "\n",
      "(4) - Socioeconomic Rank ~ VNR\n",
      "Weighted Correlation - 2nd method: -0.8081311833764279; Confidence Interval: (alpha=0.95) : (-0.8834141168520855, -0.6543075436995776)\n",
      "Pearson Correlation: -0.5839641988021282 +- 3.297578288462589e-18\n",
      "Spearman Correlation: -0.6782550904432586 +- 3.8267093448448684e-26\n",
      "\n"
     ]
    },
    {
     "data": {
      "text/plain": [
       "<seaborn.axisgrid.PairGrid at 0x1eb2c2aeb88>"
      ]
     },
     "execution_count": 60,
     "metadata": {},
     "output_type": "execute_result"
    },
    {
     "data": {
      "image/png": "[encoded data removed]",
      "text/plain": [
       "<Figure size 720x720 with 20 Axes>"
      ]
     },
     "metadata": {
      "needs_background": "light"
     },
     "output_type": "display_data"
    }
   ],
   "source": [
    "# save original keys for later\n",
    "x_original = x_key\n",
    "y_original = y_key\n",
    "\n",
    "# Calc weights of cities by their relative 60+ population size\n",
    "total_old_population = bubble_table[\"population_60+\"].sum()\n",
    "w_key = \"weight\"\n",
    "bubble_table[w_key] = (bubble_table[\"population_60+\"] / total_old_population) * 100\n",
    "\n",
    "# 1) 60+ Vaccinations % ~ Cases per 10000\n",
    "print(\"(1) - 60+ Vaccinations % ~ {}\".format(x_key.replace('_', ' ')))\n",
    "calc_correlations(x_key, y_key, w_key)\n",
    "\n",
    "# 2) 60+ Vaccinations % ~ Socioeconomic Rank\n",
    "x_key = \"Rank\"\n",
    "print(\"(2) - 60+ Vaccinations % ~ Socioeconomic Rank\")\n",
    "calc_correlations(x_key, y_key, w_key)\n",
    "\n",
    "# 3) Socioeconomic Rank ~ Cases per 10000\n",
    "x_key = x_original\n",
    "y_key = \"Rank\"\n",
    "print(\"(3) - Socioeconomic Rank ~ {}\".format(x_key.replace('_', ' ')))\n",
    "calc_correlations(x_key, y_key, w_key)\n",
    "\n",
    "# 4) Socioeconomic Rank ~ VNR\n",
    "x_key = \"VNR\"\n",
    "y_key = \"Rank\"\n",
    "print(\"(4) - Socioeconomic Rank ~ {}\".format(x_key.replace('_', ' ')))\n",
    "calc_correlations(x_key, y_key, w_key)\n",
    "\n",
    "# Correlogram\n",
    "corr_table = bubble_table.copy()\n",
    "corr_table = corr_table[[x_original, y_original, 'Rank', 'VNR']]\n",
    "sns.pairplot(corr_table, kind=\"reg\")\n",
    "# plt.show()  # need to save manually to .png, .pdf, .svg after setting aspect ratio."
   ]
  },
  {
   "cell_type": "markdown",
   "id": "functioning-roots",
   "metadata": {},
   "source": [
    "##### Save Results "
   ]
  },
  {
   "cell_type": "code",
   "execution_count": 61,
   "id": "injured-intention",
   "metadata": {},
   "outputs": [],
   "source": [
    "# # save to file\n",
    "# plt.savefig('correlogram.png')\n",
    "# plt.savefig('correlogram.pdf')\n",
    "# plt.savefig('correlogram.svg')\n",
    "\n",
    "# save raw data to csv\n",
    "processed_data_save_path = os.path.join(PROJECT_PROCESSED_DATA_FOLDER, 'processed_data_merged.csv')\n",
    "bubble_table.to_csv(processed_data_save_path, encoding='utf-8-sig', index=False)"
   ]
  },
  {
   "cell_type": "code",
   "execution_count": null,
   "id": "coordinated-reaction",
   "metadata": {},
   "outputs": [],
   "source": []
  }
 ],
 "metadata": {
  "kernelspec": {
   "display_name": "Python 3",
   "language": "python",
   "name": "python3"
  },
  "language_info": {
   "codemirror_mode": {
    "name": "ipython",
    "version": 3
   },
   "file_extension": ".py",
   "mimetype": "text/x-python",
   "name": "python",
   "nbconvert_exporter": "python",
   "pygments_lexer": "ipython3",
   "version": "3.7.9"
  }
 },
 "nbformat": 4,
 "nbformat_minor": 5
}
